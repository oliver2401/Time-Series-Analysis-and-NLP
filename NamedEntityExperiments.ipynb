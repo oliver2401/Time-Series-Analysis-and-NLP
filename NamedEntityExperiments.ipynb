{
 "cells": [
  {
   "cell_type": "markdown",
   "id": "f8ffb509-758d-473a-8cb1-412be00adba4",
   "metadata": {},
   "source": [
    "# NER Experiments"
   ]
  },
  {
   "cell_type": "code",
   "execution_count": null,
   "id": "4bdcf970-ed2a-418b-9efc-e66555df68ac",
   "metadata": {},
   "outputs": [],
   "source": [
    "!pip install stanza"
   ]
  },
  {
   "cell_type": "code",
   "execution_count": null,
   "id": "fd836fdb-88e8-49e8-93a9-e4a78d537f6f",
   "metadata": {},
   "outputs": [],
   "source": [
    "!pip install ipywidgets"
   ]
  },
  {
   "cell_type": "code",
   "execution_count": 1,
   "id": "317314eb-ca63-437e-9741-da1b6634a7e1",
   "metadata": {},
   "outputs": [],
   "source": [
    "import os\n",
    "import json\n",
    "import stanza\n",
    "import spacy\n",
    "import numpy as np\n",
    "import pandas as pd\n",
    "from sklearn.metrics import confusion_matrix\n",
    "from sklearn.metrics import precision_recall_fscore_support"
   ]
  },
  {
   "cell_type": "markdown",
   "id": "bc300fce-97f4-4c27-b94f-14dead22c6e4",
   "metadata": {},
   "source": [
    "## Configuration"
   ]
  },
  {
   "cell_type": "code",
   "execution_count": 2,
   "id": "441593b0-a6f0-4100-a762-96fe9bbdfe21",
   "metadata": {},
   "outputs": [
    {
     "name": "stderr",
     "output_type": "stream",
     "text": [
      "2021-10-27 23:53:18 INFO: Loading these models for language: en (English):\n",
      "=========================\n",
      "| Processor | Package   |\n",
      "-------------------------\n",
      "| tokenize  | combined  |\n",
      "| ner       | ontonotes |\n",
      "=========================\n",
      "\n",
      "2021-10-27 23:53:18 INFO: Use device: gpu\n",
      "2021-10-27 23:53:18 INFO: Loading: tokenize\n",
      "2021-10-27 23:53:20 INFO: Loading: ner\n",
      "2021-10-27 23:53:21 INFO: Done loading processors!\n"
     ]
    }
   ],
   "source": [
    "# Configure Stanza pipeline\n",
    "# nlp_stanza = stanza.Pipeline('en')\n",
    "nlp_stanza = stanza.Pipeline(lang='en', processors='tokenize,ner')\n",
    "\n",
    "# load spacy with large trained model for English\n",
    "nlp_spacy = spacy.load('en_core_web_lg')\n",
    "\n",
    "# Define entity types for the confusion matrix\n",
    "entity_types = [\"PERSON\", \"ORG\", \"LOC\", \"DATE\", \"MONEY\"]\n",
    "\n",
    "# List of common prefixes for persons\n",
    "person_prefixes = [\"Mr\", \"Mr.\", \"Mrs\", \"Mrs.\", \"Dr\", \"Dr.\", \"Ms\", \"Ms.\", \"Miss\", \"Prof.\", \"Doctor\"]"
   ]
  },
  {
   "cell_type": "markdown",
   "id": "cec0ca5b-5873-4897-8cf3-29153d5c927f",
   "metadata": {},
   "source": [
    "## Utils"
   ]
  },
  {
   "cell_type": "code",
   "execution_count": 3,
   "id": "daec4918-2623-4aff-978f-3aa269f6d2af",
   "metadata": {},
   "outputs": [],
   "source": [
    "# discard some prefixes\n",
    "def discard_prefix(entities):\n",
    "    prefix = [\"The \", \"the \"]\n",
    "    results = []\n",
    "    \n",
    "    for e in entities:\n",
    "        for p in prefix:\n",
    "            if e[0].startswith(p):\n",
    "                e[0] = e[0].replace(p,\"\")\n",
    "                e[1] = e[1] + len(p)\n",
    "        results.append(e)\n",
    "    \n",
    "    return results"
   ]
  },
  {
   "cell_type": "code",
   "execution_count": 4,
   "id": "d96a3234-83b4-4d89-ad92-6c4d9fa39ed6",
   "metadata": {},
   "outputs": [],
   "source": [
    "def compare_results(y_true, y_preds, confusion_matrix):\n",
    "    \"\"\"\n",
    "    This method compares the expected list of named entities(y_true) with the predicted ones. \n",
    "    @y_true: list of  [text, start, end, type]\n",
    "    @y_preds: list of  [text, start, end, type] \n",
    "    \"\"\"\n",
    "    \n",
    "    # discard the prefixes\n",
    "    y_true = discard_prefix(y_true)\n",
    "    y_preds = discard_prefix(y_preds)\n",
    "    \n",
    "    # found TP, FP, and FN lists\n",
    "    tp_list = [x for x in y_true if x in y_preds]\n",
    "    fp_list = [x for x in y_preds if x not in y_true]\n",
    "    fn_list = [x for x in y_true if x not in y_preds]\n",
    "    \n",
    "    # update the confusion matrix\n",
    "    for x in tp_list:\n",
    "        if x[3] in entity_types:\n",
    "            confusion_matrix.at[x[3], \"TP\"] += 1\n",
    "    \n",
    "    for x in fp_list:\n",
    "        if x[3] in entity_types:\n",
    "            confusion_matrix.at[x[3], \"FP\"] += 1\n",
    "    \n",
    "    for x in fn_list:\n",
    "        if x[3] in entity_types:\n",
    "            confusion_matrix.at[x[3], \"FN\"] += 1\n",
    "    \n",
    "    # return confusion matrix\n",
    "    return confusion_matrix"
   ]
  },
  {
   "cell_type": "markdown",
   "id": "c8f85b00-d1ed-430a-8b84-03c4fd4cd59f",
   "metadata": {},
   "source": [
    "## Process A Sentence"
   ]
  },
  {
   "cell_type": "code",
   "execution_count": 5,
   "id": "aab07e01-f4da-46d2-9dba-aed9f1bc9c40",
   "metadata": {},
   "outputs": [],
   "source": [
    "def process_sentence(pipeline, sentence, results):\n",
    "    \"\"\"\n",
    "    This method runs the nlp pipeline and populates the results in the given results\n",
    "    #sentence: annotate sentence\n",
    "    @results: Dataframe(columns=[\"sentence\", \"expected\", \"predicted\"])\n",
    "    \"\"\"\n",
    "    \n",
    "    # define s_preds and s_true which contain [text, start, end, type] for each named entity\n",
    "    s_preds, s_true = [], []\n",
    "    \n",
    "    content = sentence[\"text\"]\n",
    "    \n",
    "    # process the sentence with spaCy\n",
    "    if pipeline == \"spaCy\":\n",
    "        # run the nlp pipeline on the text\n",
    "        doc = nlp_spacy(content)\n",
    "\n",
    "        # add the list of predictions\n",
    "        for ent in doc.ents:\n",
    "            if ent.label_ in [\"LOC\", \"GPE\", \"NORP\"]:\n",
    "                e_type = \"LOC\"\n",
    "            else:\n",
    "                e_type = ent.label_\n",
    "            s_preds.append([ent.text, ent.start_char, ent.end_char, e_type])\n",
    "    \n",
    "    # process the sentence with stanza\n",
    "    elif pipeline == \"stanza\":\n",
    "        # run the stanza pipeline\n",
    "        doc = nlp_stanza(content)\n",
    "        \n",
    "        # iterate through recognized entities\n",
    "        for ent in doc.ents:\n",
    "            if ent.type in [\"LOC\", \"GPE\", \"NORP\"]:\n",
    "                e_type = \"LOC\"\n",
    "            else:\n",
    "                e_type = ent.type\n",
    "            s_preds.append([ent.text, ent.start_char, ent.end_char, e_type])\n",
    "            \n",
    "    else:\n",
    "        print(f' the pipeline is not defined')\n",
    "    \n",
    "    # build the s_true list which contains the true named entities\n",
    "    for e in sentence[\"entities_char\"]:\n",
    "        if e[2] in [\"LOC\", \"GPE\", \"NORP\"]:\n",
    "            e_type = \"LOC\"\n",
    "        else:\n",
    "            e_type = e[2]\n",
    "        s_true.append([content[e[0]:e[1]], e[0], e[1], e_type])\n",
    "    \n",
    "    # add the results into the result raw data frame\n",
    "    results = results.append({'sentence':content, 'expected':s_true, 'predicted':s_preds}, ignore_index = True)\n",
    "    \n",
    "    # return the raw results\n",
    "    return results"
   ]
  },
  {
   "cell_type": "markdown",
   "id": "ffb98e79-991d-4504-a0b8-02528efc7d83",
   "metadata": {},
   "source": [
    "## Process Dataset"
   ]
  },
  {
   "cell_type": "code",
   "execution_count": 6,
   "id": "00292525-a28b-4337-a7c7-6b1c668de23e",
   "metadata": {},
   "outputs": [],
   "source": [
    "# load the annotations from file\n",
    "content = open(\"./Annotations/annotations_public.json\", mode=\"r\", encoding=\"utf-8\").read()\n",
    "annotations = json.loads(content)"
   ]
  },
  {
   "cell_type": "markdown",
   "id": "7b289b7f-2008-492b-921b-4fb3cac246cc",
   "metadata": {},
   "source": [
    "### Run Stanza experiment"
   ]
  },
  {
   "cell_type": "code",
   "execution_count": 7,
   "id": "462025c1-5b37-4e14-938a-e3925b64443f",
   "metadata": {},
   "outputs": [],
   "source": [
    "# to keep the result of confusion matrix for the exact match using the character-based positions\n",
    "confusion_matrix = pd.DataFrame([[0,0,0,0,0.0,0.0,0.0],[0,0,0,0,0.0,0.0,0.0],[0,0,0,0,0.0,0.0,0.0],[0,0,0,0,0.0,0.0,0.0],[0,0,0,0,0.0,0.0,0.0]],\n",
    "                               index=entity_types, columns=[\"Total\", \"TP\", \"FP\", \"FN\", \"Precision\", \"Recall\", \"F-Measure\"])\n",
    "\n",
    "# details of results such as sentence, expected, and predicted ones\n",
    "results = pd.DataFrame(columns=[\"sentence\", \"expected\", \"predicted\"])"
   ]
  },
  {
   "cell_type": "code",
   "execution_count": 8,
   "id": "630f90f4-aa66-41c1-8469-80e08db1edc7",
   "metadata": {},
   "outputs": [],
   "source": [
    "# iterate through the dataset\n",
    "for annotate in annotations:\n",
    "    # get the results for the current sentence, append it to the total results\n",
    "    results = process_sentence(\"stanza\", annotate, results)\n",
    "    \n",
    "# calculate the confusion matrix\n",
    "for index, row in results.iterrows():\n",
    "    confusion_matrix = compare_results(row[\"expected\"], row[\"predicted\"],confusion_matrix)\n",
    "    \n",
    "# calculate the total column of the confusion matrix\n",
    "confusion_matrix[\"Total\"] = confusion_matrix[\"TP\"] + confusion_matrix[\"FN\"] \n",
    "\n",
    "# Calculate performanc measures\n",
    "confusion_matrix[\"Precision\"] = confusion_matrix[\"TP\"] / (confusion_matrix[\"TP\"] + confusion_matrix[\"FP\"])\n",
    "confusion_matrix[\"Recall\"] = confusion_matrix[\"TP\"] / (confusion_matrix[\"TP\"] + confusion_matrix[\"FN\"])\n",
    "confusion_matrix[\"F-Measure\"] = 2*confusion_matrix[\"Precision\"]*confusion_matrix[\"Recall\"] / (confusion_matrix[\"Precision\"] + confusion_matrix[\"Recall\"])"
   ]
  },
  {
   "cell_type": "code",
   "execution_count": 9,
   "id": "21315b72-3ca9-4ee6-b436-851d2c587e63",
   "metadata": {},
   "outputs": [
    {
     "data": {
      "text/html": [
       "<div>\n",
       "<style scoped>\n",
       "    .dataframe tbody tr th:only-of-type {\n",
       "        vertical-align: middle;\n",
       "    }\n",
       "\n",
       "    .dataframe tbody tr th {\n",
       "        vertical-align: top;\n",
       "    }\n",
       "\n",
       "    .dataframe thead th {\n",
       "        text-align: right;\n",
       "    }\n",
       "</style>\n",
       "<table border=\"1\" class=\"dataframe\">\n",
       "  <thead>\n",
       "    <tr style=\"text-align: right;\">\n",
       "      <th></th>\n",
       "      <th>Total</th>\n",
       "      <th>TP</th>\n",
       "      <th>FP</th>\n",
       "      <th>FN</th>\n",
       "      <th>Precision</th>\n",
       "      <th>Recall</th>\n",
       "      <th>F-Measure</th>\n",
       "    </tr>\n",
       "  </thead>\n",
       "  <tbody>\n",
       "    <tr>\n",
       "      <th>PERSON</th>\n",
       "      <td>11956</td>\n",
       "      <td>9000</td>\n",
       "      <td>1729</td>\n",
       "      <td>2956</td>\n",
       "      <td>0.838848</td>\n",
       "      <td>0.752760</td>\n",
       "      <td>0.793476</td>\n",
       "    </tr>\n",
       "    <tr>\n",
       "      <th>ORG</th>\n",
       "      <td>10493</td>\n",
       "      <td>4141</td>\n",
       "      <td>3294</td>\n",
       "      <td>6352</td>\n",
       "      <td>0.556960</td>\n",
       "      <td>0.394644</td>\n",
       "      <td>0.461959</td>\n",
       "    </tr>\n",
       "    <tr>\n",
       "      <th>LOC</th>\n",
       "      <td>11913</td>\n",
       "      <td>9805</td>\n",
       "      <td>4798</td>\n",
       "      <td>2108</td>\n",
       "      <td>0.671437</td>\n",
       "      <td>0.823050</td>\n",
       "      <td>0.739553</td>\n",
       "    </tr>\n",
       "    <tr>\n",
       "      <th>DATE</th>\n",
       "      <td>0</td>\n",
       "      <td>0</td>\n",
       "      <td>5384</td>\n",
       "      <td>0</td>\n",
       "      <td>0.000000</td>\n",
       "      <td>NaN</td>\n",
       "      <td>NaN</td>\n",
       "    </tr>\n",
       "    <tr>\n",
       "      <th>MONEY</th>\n",
       "      <td>0</td>\n",
       "      <td>0</td>\n",
       "      <td>623</td>\n",
       "      <td>0</td>\n",
       "      <td>0.000000</td>\n",
       "      <td>NaN</td>\n",
       "      <td>NaN</td>\n",
       "    </tr>\n",
       "  </tbody>\n",
       "</table>\n",
       "</div>"
      ],
      "text/plain": [
       "        Total    TP    FP    FN  Precision    Recall  F-Measure\n",
       "PERSON  11956  9000  1729  2956   0.838848  0.752760   0.793476\n",
       "ORG     10493  4141  3294  6352   0.556960  0.394644   0.461959\n",
       "LOC     11913  9805  4798  2108   0.671437  0.823050   0.739553\n",
       "DATE        0     0  5384     0   0.000000       NaN        NaN\n",
       "MONEY       0     0   623     0   0.000000       NaN        NaN"
      ]
     },
     "execution_count": 9,
     "metadata": {},
     "output_type": "execute_result"
    }
   ],
   "source": [
    "confusion_matrix"
   ]
  },
  {
   "cell_type": "markdown",
   "id": "22615fe4-9619-4ab5-bb1d-d55a7db0bb11",
   "metadata": {},
   "source": [
    "### Run spaCy experiment"
   ]
  },
  {
   "cell_type": "code",
   "execution_count": 10,
   "id": "5d0354b6-7c06-4cdc-a9c4-fd96ca4ae4cf",
   "metadata": {},
   "outputs": [],
   "source": [
    "# to keep the result of confusion matrix for the exact match using the character-based positions\n",
    "confusion_matrix = pd.DataFrame([[0,0,0,0,0.0,0.0,0.0],[0,0,0,0,0.0,0.0,0.0],[0,0,0,0,0.0,0.0,0.0],[0,0,0,0,0.0,0.0,0.0],[0,0,0,0,0.0,0.0,0.0]],\n",
    "                               index=entity_types, columns=[\"Total\", \"TP\", \"FP\", \"FN\", \"Precision\", \"Recall\", \"F-Measure\"])\n",
    "\n",
    "# details of results such as sentence, expected, and predicted ones\n",
    "results = pd.DataFrame(columns=[\"sentence\", \"expected\", \"predicted\"])"
   ]
  },
  {
   "cell_type": "code",
   "execution_count": 11,
   "id": "33328213-c2c4-4675-9f28-b736385216a0",
   "metadata": {},
   "outputs": [],
   "source": [
    "# iterate through the dataset\n",
    "for annotate in annotations:\n",
    "    # get the results for the current sentence, append it to the total results\n",
    "    results = process_sentence(\"spaCy\", annotate, results)\n",
    "    \n",
    "# calculate the confusion matrix\n",
    "for index, row in results.iterrows():\n",
    "    confusion_matrix = compare_results(row[\"expected\"], row[\"predicted\"],confusion_matrix)\n",
    "    \n",
    "# calculate the total column of the confusion matrix\n",
    "confusion_matrix[\"Total\"] = confusion_matrix[\"TP\"] + confusion_matrix[\"FN\"] \n",
    "\n",
    "# Calculate performanc measures\n",
    "confusion_matrix[\"Precision\"] = confusion_matrix[\"TP\"] / (confusion_matrix[\"TP\"] + confusion_matrix[\"FP\"])\n",
    "confusion_matrix[\"Recall\"] = confusion_matrix[\"TP\"] / (confusion_matrix[\"TP\"] + confusion_matrix[\"FN\"])\n",
    "confusion_matrix[\"F-Measure\"] = 2*confusion_matrix[\"Precision\"]*confusion_matrix[\"Recall\"] / (confusion_matrix[\"Precision\"] + confusion_matrix[\"Recall\"])"
   ]
  },
  {
   "cell_type": "code",
   "execution_count": 12,
   "id": "ab58aa76-c790-4ceb-a510-8064bd6df52d",
   "metadata": {},
   "outputs": [
    {
     "data": {
      "text/html": [
       "<div>\n",
       "<style scoped>\n",
       "    .dataframe tbody tr th:only-of-type {\n",
       "        vertical-align: middle;\n",
       "    }\n",
       "\n",
       "    .dataframe tbody tr th {\n",
       "        vertical-align: top;\n",
       "    }\n",
       "\n",
       "    .dataframe thead th {\n",
       "        text-align: right;\n",
       "    }\n",
       "</style>\n",
       "<table border=\"1\" class=\"dataframe\">\n",
       "  <thead>\n",
       "    <tr style=\"text-align: right;\">\n",
       "      <th></th>\n",
       "      <th>Total</th>\n",
       "      <th>TP</th>\n",
       "      <th>FP</th>\n",
       "      <th>FN</th>\n",
       "      <th>Precision</th>\n",
       "      <th>Recall</th>\n",
       "      <th>F-Measure</th>\n",
       "    </tr>\n",
       "  </thead>\n",
       "  <tbody>\n",
       "    <tr>\n",
       "      <th>PERSON</th>\n",
       "      <td>11956</td>\n",
       "      <td>8191</td>\n",
       "      <td>2065</td>\n",
       "      <td>3765</td>\n",
       "      <td>0.798654</td>\n",
       "      <td>0.685095</td>\n",
       "      <td>0.737529</td>\n",
       "    </tr>\n",
       "    <tr>\n",
       "      <th>ORG</th>\n",
       "      <td>10493</td>\n",
       "      <td>4414</td>\n",
       "      <td>3948</td>\n",
       "      <td>6079</td>\n",
       "      <td>0.527864</td>\n",
       "      <td>0.420661</td>\n",
       "      <td>0.468205</td>\n",
       "    </tr>\n",
       "    <tr>\n",
       "      <th>LOC</th>\n",
       "      <td>11913</td>\n",
       "      <td>9895</td>\n",
       "      <td>5331</td>\n",
       "      <td>2018</td>\n",
       "      <td>0.649875</td>\n",
       "      <td>0.830605</td>\n",
       "      <td>0.729209</td>\n",
       "    </tr>\n",
       "    <tr>\n",
       "      <th>DATE</th>\n",
       "      <td>0</td>\n",
       "      <td>0</td>\n",
       "      <td>7272</td>\n",
       "      <td>0</td>\n",
       "      <td>0.000000</td>\n",
       "      <td>NaN</td>\n",
       "      <td>NaN</td>\n",
       "    </tr>\n",
       "    <tr>\n",
       "      <th>MONEY</th>\n",
       "      <td>0</td>\n",
       "      <td>0</td>\n",
       "      <td>744</td>\n",
       "      <td>0</td>\n",
       "      <td>0.000000</td>\n",
       "      <td>NaN</td>\n",
       "      <td>NaN</td>\n",
       "    </tr>\n",
       "  </tbody>\n",
       "</table>\n",
       "</div>"
      ],
      "text/plain": [
       "        Total    TP    FP    FN  Precision    Recall  F-Measure\n",
       "PERSON  11956  8191  2065  3765   0.798654  0.685095   0.737529\n",
       "ORG     10493  4414  3948  6079   0.527864  0.420661   0.468205\n",
       "LOC     11913  9895  5331  2018   0.649875  0.830605   0.729209\n",
       "DATE        0     0  7272     0   0.000000       NaN        NaN\n",
       "MONEY       0     0   744     0   0.000000       NaN        NaN"
      ]
     },
     "execution_count": 12,
     "metadata": {},
     "output_type": "execute_result"
    }
   ],
   "source": [
    "confusion_matrix"
   ]
  },
  {
   "cell_type": "code",
   "execution_count": null,
   "id": "4f1881ac-f880-496a-ac32-2c1994e6669c",
   "metadata": {},
   "outputs": [],
   "source": []
  }
 ],
 "metadata": {
  "kernelspec": {
   "display_name": "Python 3.8.8 64-bit",
   "language": "python",
   "name": "python3"
  },
  "language_info": {
   "codemirror_mode": {
    "name": "ipython",
    "version": 3
   },
   "file_extension": ".py",
   "mimetype": "text/x-python",
   "name": "python",
   "nbconvert_exporter": "python",
   "pygments_lexer": "ipython3",
   "version": "3.8.8"
  },
  "vscode": {
   "interpreter": {
    "hash": "e0eee2db1770d1aea032f775af9af03d17547ccf36a4c44df6f98407fff2d45b"
   }
  }
 },
 "nbformat": 4,
 "nbformat_minor": 5
}
