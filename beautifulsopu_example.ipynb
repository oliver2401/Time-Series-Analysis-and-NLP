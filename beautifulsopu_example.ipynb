{
 "cells": [
  {
   "cell_type": "code",
   "execution_count": 4,
   "metadata": {},
   "outputs": [
    {
     "name": "stdout",
     "output_type": "stream",
     "text": [
      "https://latam.ign.com/the-last-of-us-the-series/103409/news/la-historia-de-the-last-of-us-parte-ii-podria-llegar-hasta-una-cuarta-temporada Was successful\n",
      "[{'url': 'https://latam.ign.com/the-last-of-us-the-series/103409/news/la-historia-de-the-last-of-us-parte-ii-podria-llegar-hasta-una-cuarta-temporada', 'text': '\\n\\n\\nLa historia de The Last of Us Parte II podría llegar hasta una cuarta temporada\\n\\n\\n\\n\\n\\n\\n\\n\\n\\n\\n\\n\\n\\n\\n\\n\\n\\n\\n\\n\\n\\n\\n\\n\\n\\n\\n\\n\\n\\n\\n\\n\\n\\n\\n\\n\\n\\n\\n\\n\\n\\n\\n\\n\\n\\n\\n\\nIGN Logo\\n\\nLatinoamérica\\n\\nInicio\\n\\n\\n\\n\\n\\n\\n\\n\\n\\n\\nNoticias\\n\\n\\n\\n\\n\\n\\n\\n\\n\\n\\n\\nPS5\\n\\n\\n\\n\\n\\n\\n\\n\\n\\n\\n\\nSwitch\\n\\n\\n\\n\\n\\n\\n\\n\\n\\n\\n\\n\\n\\n\\n\\n\\n\\n\\n\\n\\nXbox\\n\\n\\n\\n\\n\\n\\n\\n\\nEntretenimientoMásBusca\\n\\nInicio\\n\\n\\nMás\\nSobre IGN LatamContactoAnúnciatePrensaLegalesPolíticas de PrivacidadCookiesIGN Latinoamérica es un sitio operado por Publimetro México \\n\\n\\n\\n\\nChange Region\\nUnited States\\nUnited Kingdom\\nAustralia\\nAfrica\\nAdria\\nBenelux / Dutch\\nBrazil\\nChina / 中国\\nCzechia / Slovakia\\nFrance\\nGermany\\nGreece / Ελλάδα\\nHungary\\nIndia\\nIsrael\\nItaly / Italia\\nJapan / 日本\\nKorea / 한국\\nLatin America\\nMiddle East - English\\nMiddle East -  الأوسطالشرق\\nNordic\\nPoland\\nPortugal\\nSoutheast Asia\\nSpain / España\\nTurkey / Türkiye\\nworld.ign.com\\n\\n\\n\\n\\nRegister / Login\\nRegister / Login\\n\\n\\nIngresar\\nRegistro\\n\\n\\n\\n\\n\\n\\n\\n\\nIGN Logo\\n\\n\\n\\n\\n\\n\\n\\nThe Last of Us de HBO\\n\\n\\nLa historia de The Last of Us Parte II podría llegar hasta una cuarta temporada\\n\\n\\nTiene todo el sentido del mundo que el segundo juego abarque tanto.\\n\\n\\n\\n\\n\\n\\n\\n\\n\\n\\n\\n\\n\\n\\n\\n\\n\\n\\n\\n\\n\\n\\n\\n\\n\\n\\n\\n\\n\\n\\n\\n\\n\\n\\n\\n\\n+\\n\\n\\n\\n\\n\\n\\n\\n\\nby\\xa0Daniel Guzmán\\xa0\\n\\n\\n\\n                \\xa0Publicado el 21 de Junio de 2024 a las 15:25\\n\\n\\n\\n\\n\\nLa segunda temporada de The Last of Us llegará en algún momento del 2025, por lo que los fans que quedaron encantados de la adaptación de HBO sobre el videojuego de Playstation sobre la historia de Ellie y Joel siguen expectantes sobre qué es lo que sigue.\\nComo muchos sabrán, la historia del video de The Last of Us Parte II abarca bastante, pues tiene el promedio de durar al rededor de 25 horas, pero lo interesante es cuánto de ello llevará adaptarse en serie. El juego bien se puede divivir en 4 partes: el prólogo, la historia de Ellie, la historia de Abby y el epílogo, ninguna de estas partes es corta ni nada de eso.\\nPreviamente, se había informado que esta segunda temporada sería más corta con un total de 7 episodios, por lo que deja en el aire qué eventos van adaptarse. Ante esto, el showrunner de la serie, Craig Mazin habló al respecto con Deadline de extender toda la adaptación de esta segunda parte hasta una cuarta temporada:\\n\"El material de la historia que obtuvimos de la Parte II del juego es mucho más que el material de la historia que había en el primer juego, así que parte de lo que tuvimos que hacer desde el principio fue descubrir cómo contar esa historia a lo largo de las temporadas. Cuando haces eso, buscas puntos de ruptura naturales y, tal como lo presentamos, esta temporada, el punto de ruptura nacional pareció llegar después de siete episodios\".\\n\"No creemos que vayamos a poder contar la historia ni siquiera dentro de dos temporadas [2 y 3] porque nos estamos tomando nuestro tiempo y seguimos caminos interesantes que también hicimos un poco en la temporada 1. Creemos que es casi seguro que, mientras la gente siga mirando y podamos seguir haciendo más televisión, la temporada 3 será significativamente más grande. Y, de hecho, la historia puede requerir una cuarta temporada. Una cosa es absolutamente segura: no veo cómo podríamos contar la historia que queda después de que se complete la temporada 2 en una temporada más.\"\\nLa existencia de una hipotética temporada 3 y sobre todo una 4, dependerá de la audiencia que tenga la temporada 2, por lo que adelantarse a estos hechos aún es temprano.\\nLa temporada 2 podría acabar cuando Jesse se una a la aventura de Ellie. Posteriormente, la temporada 3 abarcaría el final de la historia de Ellie y acabar en la confrontación de Abby vs Ellie para que en la temporada 4 sea el duelo final junto al epílogo que ocurre meses después.\\n¿Qué opinas?\\n\\n\\nDaniel Guzmán es editor en IGN Latinoamérica, amante del terror, los cómics, el cine y una devoción de amor/odio por Warzone y Fortnite. Fiel seguidor de DC y Zack Snyder. Síguelo en redes como @danieltrbs.\\n\\n\\n\\n\\n\\n\\n\\n\\n\\n\\nEn este artículo\\n\\n\\n\\n\\n\\n\\n\\n\\nThe Last of Us de HBO\\n\\n\\n\\n\\n\\n\\n\\n\\n\\n\\nY no te pierdas...\\n\\n\\n\\n\\n\\n\\n\\n\\n\\n\\n\\n\\n\\n\\n\\n\\n1\\xa0años,8\\xa0meses\\n\\nComments\\n\\n\\n\\n\\n\\nAmazon México tiene gran descuento en Funko Pop de Grogu\\n\\n\\n\\n\\n\\n\\n\\n\\n\\n\\n\\n\\n\\n\\n\\n\\n\\n\\n\\n\\n\\n1\\xa0años,8\\xa0meses\\n\\nComments\\n\\n\\n\\n\\n\\nAmazon tiene el Xiaomi 11T con más de 5 mil pesos de descuento\\n\\n\\n\\n\\n\\n\\n\\n\\n\\n\\n\\n\\n\\n\\n\\n\\n\\n\\n\\n\\n\\n2\\xa0semanas,5\\xa0días\\n\\nComments\\n\\n\\n\\n\\n\\nThe Last of Us: confirman que la segunda temporada será más corta\\n\\n\\n\\n\\n\\n\\n\\n\\n\\n\\n\\n\\n\\n\\n\\n\\n\\n\\n\\n\\n\\n1\\xa0mes\\n\\nComments\\n\\n\\n\\n\\n\\nThe Last of Us: Jeffrey Wright repetirá su papel de Isaac en la temporada 2\\n\\n\\n\\n\\n\\n\\n\\n\\n\\n\\n\\n\\n\\n\\n\\nComentarios\\n\\n\\nPlease enable JavaScript to view the comments.\\n\\n\\n\\n\\n\\n\\n\\n\\n\\n\\n\\n\\n\\n\\nAd\\n\\n\\n\\n\\nIGN Latinoamérica es un sitio operado por Publimetro México \\n\\n\\n\\n\\n\\n\\n\\n\\n\\n\\n\\n\\n'}]\n",
      "(1, 2)\n",
      "                                                 url  \\\n",
      "0  https://latam.ign.com/the-last-of-us-the-serie...   \n",
      "\n",
      "                                                text  \n",
      "0  \\n\\n\\nLa historia de The Last of Us Parte II p...  \n",
      "la-historia-de-the-last-of-us-parte-ii-podria-llegar-hasta-una-cuarta-temporada\n"
     ]
    }
   ],
   "source": [
    "import requests\n",
    "from bs4 import BeautifulSoup\n",
    "import time\n",
    "from concurrent.futures import ThreadPoolExecutor\n",
    "import pandas as pd\n",
    "import random\n",
    "\n",
    "\n",
    "\n",
    "retirement_articles = ['https://www.investopedia.com/retirement-planning-4689695', 'https://www.investopedia.com/budgeting-4689726', 'https://www.investopedia.com/savings-accounts-4689728', 'https://www.investopedia.com/taxes-4427724', \n",
    "'https://www.investopedia.com/home-ownership-4689706', 'https://www.investopedia.com/credit-card-4689721', 'https://www.investopedia.com/loan-basics-4689731', 'https://www.investopedia.com/insurance-4427716', 'https://www.investopedia.com/banking-4427754',\n",
    "'https://www.investopedia.com/mortgage-4689703', 'https://www.investopedia.com/credit-and-debt-4689724', 'https://www.investopedia.com/budgeting-and-savings-4427755', 'https://www.investopedia.com/family-finances-4689715',\n",
    "'https://www.investopedia.com/financial-literacy-5224001', 'https://www.investopedia.com/wealth-4689687', 'https://www.investopedia.com/financial-fraud-4689710', 'https://www.investopedia.com/government-and-policy-4689793',\n",
    "'https://www.investopedia.com/monetary-policy-4689792', 'https://www.investopedia.com/fiscal-policy-4689796', 'https://www.investopedia.com/economics-4689800']\n",
    "\n",
    "def extract_text_data(url):\n",
    "    try:\n",
    "        response = requests.get(url)\n",
    "        soup = BeautifulSoup(response.text, 'html.parser')\n",
    "        #main_section = soup.find('div', class_='ArticleBodyWrapper')\n",
    "        text = soup.get_text()\n",
    "        data.append({'url': url, 'text': text})\n",
    "        print(f\"{url} Was successful\")\n",
    "        # añadir un sleep para evitar throthling TODO\n",
    "    except Exception as e:\n",
    "        print(f\"An error occurred while processing {url}: {e}\")\n",
    "        data.append({'url': url, 'text': None})\n",
    "\n",
    "def multithreading(growth_rate , list):\n",
    "    with ThreadPoolExecutor() as p: #\n",
    "        p.map(growth_rate, list)\n",
    "\n",
    "def extract_name(file_path):\n",
    "    return file_path.split('/')[-1].split('.')[0]\n",
    "\n",
    "news_type = 'https://latam.ign.com/the-last-of-us-the-series/103409/news/la-historia-de-the-last-of-us-parte-ii-podria-llegar-hasta-una-cuarta-temporada'\n",
    "#response = requests.get(news_type)\n",
    "#soup = BeautifulSoup(response.content, \"html.parser\")\n",
    "\n",
    "# create an empty list to store the URLs\n",
    "#news_urls = []\n",
    "\n",
    "# find all the news article URLs and add them to the list\n",
    "#news_articles = soup.find_all('a', {'class': 'comp mntl-card-list-items mntl-document-card mntl-card card card--no-image'})\n",
    "#news_articles = soup.find_all('div', id='id_text')\n",
    "#for article in news_articles:\n",
    "#    article\n",
    "#    news_urls.append(article.get(\"href\"))\n",
    "\n",
    "data = []\n",
    "#start_time = time.time()\n",
    "#multithreading(extract_text_data, news_urls)\n",
    "extract_text_data(news_type)\n",
    "print(data)\n",
    "#end_time = time.time() - start_time\n",
    "df = pd.DataFrame(data)\n",
    "print(df.shape)\n",
    "file_title = extract_name(news_type)\n",
    "print(df)\n",
    "print(file_title)\n",
    "#df.to_csv(f'articles/investopedia_news_{file_title}_text.csv', sep=',')\n",
    "#print(end_time)\n",
    "#sleep_time = random.uniform(5, 10)\n",
    "#time.sleep(sleep_time)"
   ]
  },
  {
   "cell_type": "code",
   "execution_count": null,
   "metadata": {},
   "outputs": [],
   "source": []
  }
 ],
 "metadata": {
  "kernelspec": {
   "display_name": "Python 3",
   "language": "python",
   "name": "python3"
  },
  "language_info": {
   "codemirror_mode": {
    "name": "ipython",
    "version": 3
   },
   "file_extension": ".py",
   "mimetype": "text/x-python",
   "name": "python",
   "nbconvert_exporter": "python",
   "pygments_lexer": "ipython3",
   "version": "3.11.6"
  }
 },
 "nbformat": 4,
 "nbformat_minor": 2
}
