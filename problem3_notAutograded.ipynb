{
 "cells": [
  {
   "cell_type": "markdown",
   "metadata": {},
   "source": [
    "# Time Series Homework"
   ]
  },
  {
   "cell_type": "code",
   "execution_count": 1,
   "metadata": {},
   "outputs": [
    {
     "data": {
      "text/html": [
       "\n",
       "    <div class=\"bk-root\">\n",
       "        <a href=\"https://bokeh.org\" target=\"_blank\" class=\"bk-logo bk-logo-small bk-logo-notebook\"></a>\n",
       "        <span id=\"1002\">Loading BokehJS ...</span>\n",
       "    </div>"
      ]
     },
     "metadata": {},
     "output_type": "display_data"
    },
    {
     "data": {
      "application/javascript": "\n(function(root) {\n  function now() {\n    return new Date();\n  }\n\n  var force = true;\n\n  if (typeof root._bokeh_onload_callbacks === \"undefined\" || force === true) {\n    root._bokeh_onload_callbacks = [];\n    root._bokeh_is_loading = undefined;\n  }\n\n  var JS_MIME_TYPE = 'application/javascript';\n  var HTML_MIME_TYPE = 'text/html';\n  var EXEC_MIME_TYPE = 'application/vnd.bokehjs_exec.v0+json';\n  var CLASS_NAME = 'output_bokeh rendered_html';\n\n  /**\n   * Render data to the DOM node\n   */\n  function render(props, node) {\n    var script = document.createElement(\"script\");\n    node.appendChild(script);\n  }\n\n  /**\n   * Handle when an output is cleared or removed\n   */\n  function handleClearOutput(event, handle) {\n    var cell = handle.cell;\n\n    var id = cell.output_area._bokeh_element_id;\n    var server_id = cell.output_area._bokeh_server_id;\n    // Clean up Bokeh references\n    if (id != null && id in Bokeh.index) {\n      Bokeh.index[id].model.document.clear();\n      delete Bokeh.index[id];\n    }\n\n    if (server_id !== undefined) {\n      // Clean up Bokeh references\n      var cmd = \"from bokeh.io.state import curstate; print(curstate().uuid_to_server['\" + server_id + \"'].get_sessions()[0].document.roots[0]._id)\";\n      cell.notebook.kernel.execute(cmd, {\n        iopub: {\n          output: function(msg) {\n            var id = msg.content.text.trim();\n            if (id in Bokeh.index) {\n              Bokeh.index[id].model.document.clear();\n              delete Bokeh.index[id];\n            }\n          }\n        }\n      });\n      // Destroy server and session\n      var cmd = \"import bokeh.io.notebook as ion; ion.destroy_server('\" + server_id + \"')\";\n      cell.notebook.kernel.execute(cmd);\n    }\n  }\n\n  /**\n   * Handle when a new output is added\n   */\n  function handleAddOutput(event, handle) {\n    var output_area = handle.output_area;\n    var output = handle.output;\n\n    // limit handleAddOutput to display_data with EXEC_MIME_TYPE content only\n    if ((output.output_type != \"display_data\") || (!Object.prototype.hasOwnProperty.call(output.data, EXEC_MIME_TYPE))) {\n      return\n    }\n\n    var toinsert = output_area.element.find(\".\" + CLASS_NAME.split(' ')[0]);\n\n    if (output.metadata[EXEC_MIME_TYPE][\"id\"] !== undefined) {\n      toinsert[toinsert.length - 1].firstChild.textContent = output.data[JS_MIME_TYPE];\n      // store reference to embed id on output_area\n      output_area._bokeh_element_id = output.metadata[EXEC_MIME_TYPE][\"id\"];\n    }\n    if (output.metadata[EXEC_MIME_TYPE][\"server_id\"] !== undefined) {\n      var bk_div = document.createElement(\"div\");\n      bk_div.innerHTML = output.data[HTML_MIME_TYPE];\n      var script_attrs = bk_div.children[0].attributes;\n      for (var i = 0; i < script_attrs.length; i++) {\n        toinsert[toinsert.length - 1].firstChild.setAttribute(script_attrs[i].name, script_attrs[i].value);\n        toinsert[toinsert.length - 1].firstChild.textContent = bk_div.children[0].textContent\n      }\n      // store reference to server id on output_area\n      output_area._bokeh_server_id = output.metadata[EXEC_MIME_TYPE][\"server_id\"];\n    }\n  }\n\n  function register_renderer(events, OutputArea) {\n\n    function append_mime(data, metadata, element) {\n      // create a DOM node to render to\n      var toinsert = this.create_output_subarea(\n        metadata,\n        CLASS_NAME,\n        EXEC_MIME_TYPE\n      );\n      this.keyboard_manager.register_events(toinsert);\n      // Render to node\n      var props = {data: data, metadata: metadata[EXEC_MIME_TYPE]};\n      render(props, toinsert[toinsert.length - 1]);\n      element.append(toinsert);\n      return toinsert\n    }\n\n    /* Handle when an output is cleared or removed */\n    events.on('clear_output.CodeCell', handleClearOutput);\n    events.on('delete.Cell', handleClearOutput);\n\n    /* Handle when a new output is added */\n    events.on('output_added.OutputArea', handleAddOutput);\n\n    /**\n     * Register the mime type and append_mime function with output_area\n     */\n    OutputArea.prototype.register_mime_type(EXEC_MIME_TYPE, append_mime, {\n      /* Is output safe? */\n      safe: true,\n      /* Index of renderer in `output_area.display_order` */\n      index: 0\n    });\n  }\n\n  // register the mime type if in Jupyter Notebook environment and previously unregistered\n  if (root.Jupyter !== undefined) {\n    var events = require('base/js/events');\n    var OutputArea = require('notebook/js/outputarea').OutputArea;\n\n    if (OutputArea.prototype.mime_types().indexOf(EXEC_MIME_TYPE) == -1) {\n      register_renderer(events, OutputArea);\n    }\n  }\n\n  \n  if (typeof (root._bokeh_timeout) === \"undefined\" || force === true) {\n    root._bokeh_timeout = Date.now() + 5000;\n    root._bokeh_failed_load = false;\n  }\n\n  var NB_LOAD_WARNING = {'data': {'text/html':\n     \"<div style='background-color: #fdd'>\\n\"+\n     \"<p>\\n\"+\n     \"BokehJS does not appear to have successfully loaded. If loading BokehJS from CDN, this \\n\"+\n     \"may be due to a slow or bad network connection. Possible fixes:\\n\"+\n     \"</p>\\n\"+\n     \"<ul>\\n\"+\n     \"<li>re-rerun `output_notebook()` to attempt to load from CDN again, or</li>\\n\"+\n     \"<li>use INLINE resources instead, as so:</li>\\n\"+\n     \"</ul>\\n\"+\n     \"<code>\\n\"+\n     \"from bokeh.resources import INLINE\\n\"+\n     \"output_notebook(resources=INLINE)\\n\"+\n     \"</code>\\n\"+\n     \"</div>\"}};\n\n  function display_loaded() {\n    var el = document.getElementById(\"1002\");\n    if (el != null) {\n      el.textContent = \"BokehJS is loading...\";\n    }\n    if (root.Bokeh !== undefined) {\n      if (el != null) {\n        el.textContent = \"BokehJS \" + root.Bokeh.version + \" successfully loaded.\";\n      }\n    } else if (Date.now() < root._bokeh_timeout) {\n      setTimeout(display_loaded, 100)\n    }\n  }\n\n\n  function run_callbacks() {\n    try {\n      root._bokeh_onload_callbacks.forEach(function(callback) {\n        if (callback != null)\n          callback();\n      });\n    } finally {\n      delete root._bokeh_onload_callbacks\n    }\n    console.debug(\"Bokeh: all callbacks have finished\");\n  }\n\n  function load_libs(css_urls, js_urls, callback) {\n    if (css_urls == null) css_urls = [];\n    if (js_urls == null) js_urls = [];\n\n    root._bokeh_onload_callbacks.push(callback);\n    if (root._bokeh_is_loading > 0) {\n      console.debug(\"Bokeh: BokehJS is being loaded, scheduling callback at\", now());\n      return null;\n    }\n    if (js_urls == null || js_urls.length === 0) {\n      run_callbacks();\n      return null;\n    }\n    console.debug(\"Bokeh: BokehJS not loaded, scheduling load and callback at\", now());\n    root._bokeh_is_loading = css_urls.length + js_urls.length;\n\n    function on_load() {\n      root._bokeh_is_loading--;\n      if (root._bokeh_is_loading === 0) {\n        console.debug(\"Bokeh: all BokehJS libraries/stylesheets loaded\");\n        run_callbacks()\n      }\n    }\n\n    function on_error(url) {\n      console.error(\"failed to load \" + url);\n    }\n\n    for (let i = 0; i < css_urls.length; i++) {\n      const url = css_urls[i];\n      const element = document.createElement(\"link\");\n      element.onload = on_load;\n      element.onerror = on_error.bind(null, url);\n      element.rel = \"stylesheet\";\n      element.type = \"text/css\";\n      element.href = url;\n      console.debug(\"Bokeh: injecting link tag for BokehJS stylesheet: \", url);\n      document.body.appendChild(element);\n    }\n\n    const hashes = {\"https://cdn.bokeh.org/bokeh/release/bokeh-2.3.1.min.js\": \"YF85VygJKMVnHE+lLv2AM93Vbstr0yo2TbIu5v8se5Rq3UQAUmcuh4aaJwNlpKwa\", \"https://cdn.bokeh.org/bokeh/release/bokeh-widgets-2.3.1.min.js\": \"KKuas3gevv3PvrlkyCMzffFeaMq5we/a2QsP5AUoS3mJ0jmaCL7jirFJN3GoE/lM\", \"https://cdn.bokeh.org/bokeh/release/bokeh-tables-2.3.1.min.js\": \"MK/uFc3YT18pkvvXRl66tTHjP0/dxoSH2e/eiNMFIguKlun2+WVqaPTWmUy/zvh4\"};\n\n    for (let i = 0; i < js_urls.length; i++) {\n      const url = js_urls[i];\n      const element = document.createElement('script');\n      element.onload = on_load;\n      element.onerror = on_error.bind(null, url);\n      element.async = false;\n      element.src = url;\n      if (url in hashes) {\n        element.crossOrigin = \"anonymous\";\n        element.integrity = \"sha384-\" + hashes[url];\n      }\n      console.debug(\"Bokeh: injecting script tag for BokehJS library: \", url);\n      document.head.appendChild(element);\n    }\n  };\n\n  function inject_raw_css(css) {\n    const element = document.createElement(\"style\");\n    element.appendChild(document.createTextNode(css));\n    document.body.appendChild(element);\n  }\n\n  \n  var js_urls = [\"https://cdn.bokeh.org/bokeh/release/bokeh-2.3.1.min.js\", \"https://cdn.bokeh.org/bokeh/release/bokeh-widgets-2.3.1.min.js\", \"https://cdn.bokeh.org/bokeh/release/bokeh-tables-2.3.1.min.js\"];\n  var css_urls = [];\n  \n\n  var inline_js = [\n    function(Bokeh) {\n      Bokeh.set_log_level(\"info\");\n    },\n    function(Bokeh) {\n    \n    \n    }\n  ];\n\n  function run_inline_js() {\n    \n    if (root.Bokeh !== undefined || force === true) {\n      \n    for (var i = 0; i < inline_js.length; i++) {\n      inline_js[i].call(root, root.Bokeh);\n    }\n    if (force === true) {\n        display_loaded();\n      }} else if (Date.now() < root._bokeh_timeout) {\n      setTimeout(run_inline_js, 100);\n    } else if (!root._bokeh_failed_load) {\n      console.log(\"Bokeh: BokehJS failed to load within specified timeout.\");\n      root._bokeh_failed_load = true;\n    } else if (force !== true) {\n      var cell = $(document.getElementById(\"1002\")).parents('.cell').data().cell;\n      cell.output_area.append_execute_result(NB_LOAD_WARNING)\n    }\n\n  }\n\n  if (root._bokeh_is_loading === 0) {\n    console.debug(\"Bokeh: BokehJS loaded, going straight to plotting\");\n    run_inline_js();\n  } else {\n    load_libs(css_urls, js_urls, function() {\n      console.debug(\"Bokeh: BokehJS plotting callback run at\", now());\n      run_inline_js();\n    });\n  }\n}(window));",
      "application/vnd.bokehjs_load.v0+json": ""
     },
     "metadata": {},
     "output_type": "display_data"
    }
   ],
   "source": [
    "from sklearn.preprocessing import PolynomialFeatures\n",
    "from sklearn.pipeline import make_pipeline\n",
    "from sklearn.linear_model import LinearRegression\n",
    "from scipy.interpolate import interp1d\n",
    "import pandas as pd\n",
    "import numpy as np\n",
    "import matplotlib.pyplot as plt\n",
    "from bokeh.io import output_notebook, show, export_png\n",
    "# from bokeh.io import output_file\n",
    "from bokeh.plotting import figure\n",
    "from itertools import chain \n",
    "from sklearn.metrics import mean_squared_error\n",
    "import datetime as dt\n",
    "import statsmodels.api as sm\n",
    "from statsmodels.graphics.tsaplots import plot_acf,plot_pacf\n",
    "from statsmodels.tsa.ar_model import AutoReg\n",
    "import pmdarima as pm\n",
    "\n",
    "import math\n",
    "import pmdarima as pm\n",
    "import statsmodels.api as sm\n",
    "def mean_absolute_percentage_error(y_true, y_pred): \n",
    "     return np.mean(np.abs((y_true - y_pred) / y_true)) *100\n",
    "output_notebook()"
   ]
  },
  {
   "cell_type": "markdown",
   "metadata": {},
   "source": [
    "## Problem 3"
   ]
  },
  {
   "cell_type": "markdown",
   "metadata": {},
   "source": [
    "We will first read the two files given to us into dataframes that we can work with"
   ]
  },
  {
   "cell_type": "code",
   "execution_count": 2,
   "metadata": {},
   "outputs": [
    {
     "data": {
      "text/html": [
       "<div>\n",
       "<style scoped>\n",
       "    .dataframe tbody tr th:only-of-type {\n",
       "        vertical-align: middle;\n",
       "    }\n",
       "\n",
       "    .dataframe tbody tr th {\n",
       "        vertical-align: top;\n",
       "    }\n",
       "\n",
       "    .dataframe thead th {\n",
       "        text-align: right;\n",
       "    }\n",
       "</style>\n",
       "<table border=\"1\" class=\"dataframe\">\n",
       "  <thead>\n",
       "    <tr style=\"text-align: right;\">\n",
       "      <th></th>\n",
       "      <th>date</th>\n",
       "      <th>PriceStats</th>\n",
       "      <th>CPI</th>\n",
       "    </tr>\n",
       "  </thead>\n",
       "  <tbody>\n",
       "    <tr>\n",
       "      <th>0</th>\n",
       "      <td>2008-07-24</td>\n",
       "      <td>100.00000</td>\n",
       "      <td>100.0000</td>\n",
       "    </tr>\n",
       "    <tr>\n",
       "      <th>1</th>\n",
       "      <td>2008-07-25</td>\n",
       "      <td>99.99767</td>\n",
       "      <td>100.0000</td>\n",
       "    </tr>\n",
       "    <tr>\n",
       "      <th>2</th>\n",
       "      <td>2008-07-26</td>\n",
       "      <td>99.92376</td>\n",
       "      <td>100.0000</td>\n",
       "    </tr>\n",
       "    <tr>\n",
       "      <th>3</th>\n",
       "      <td>2008-07-27</td>\n",
       "      <td>99.91537</td>\n",
       "      <td>100.0000</td>\n",
       "    </tr>\n",
       "    <tr>\n",
       "      <th>4</th>\n",
       "      <td>2008-07-28</td>\n",
       "      <td>99.89491</td>\n",
       "      <td>100.0000</td>\n",
       "    </tr>\n",
       "    <tr>\n",
       "      <th>5</th>\n",
       "      <td>2008-07-29</td>\n",
       "      <td>99.88470</td>\n",
       "      <td>100.0000</td>\n",
       "    </tr>\n",
       "    <tr>\n",
       "      <th>6</th>\n",
       "      <td>2008-07-30</td>\n",
       "      <td>99.88448</td>\n",
       "      <td>100.0000</td>\n",
       "    </tr>\n",
       "    <tr>\n",
       "      <th>7</th>\n",
       "      <td>2008-07-31</td>\n",
       "      <td>99.86741</td>\n",
       "      <td>100.0000</td>\n",
       "    </tr>\n",
       "    <tr>\n",
       "      <th>8</th>\n",
       "      <td>2008-08-01</td>\n",
       "      <td>99.85761</td>\n",
       "      <td>100.5251</td>\n",
       "    </tr>\n",
       "    <tr>\n",
       "      <th>9</th>\n",
       "      <td>2008-08-02</td>\n",
       "      <td>99.85294</td>\n",
       "      <td>100.5251</td>\n",
       "    </tr>\n",
       "  </tbody>\n",
       "</table>\n",
       "</div>"
      ],
      "text/plain": [
       "        date  PriceStats       CPI\n",
       "0 2008-07-24   100.00000  100.0000\n",
       "1 2008-07-25    99.99767  100.0000\n",
       "2 2008-07-26    99.92376  100.0000\n",
       "3 2008-07-27    99.91537  100.0000\n",
       "4 2008-07-28    99.89491  100.0000\n",
       "5 2008-07-29    99.88470  100.0000\n",
       "6 2008-07-30    99.88448  100.0000\n",
       "7 2008-07-31    99.86741  100.0000\n",
       "8 2008-08-01    99.85761  100.5251\n",
       "9 2008-08-02    99.85294  100.5251"
      ]
     },
     "execution_count": 2,
     "metadata": {},
     "output_type": "execute_result"
    }
   ],
   "source": [
    "ps_cpi = pd.read_csv(\"datasets/CPI.csv\")\n",
    "ps_cpi['date'] =pd.to_datetime(ps_cpi['date'])\n",
    "ps_cpi.head(10)"
   ]
  },
  {
   "cell_type": "markdown",
   "metadata": {},
   "source": [
    "Notice that while PriceStats changes on a daily basis, CPI only changes on a monthly basis. Hence, the monthly CPI can be obtained by taking the CPI of any day during a month. Additionally, we split the data into training and testing data sets as outlined in the problem statement"
   ]
  },
  {
   "cell_type": "code",
   "execution_count": 3,
   "metadata": {},
   "outputs": [
    {
     "data": {
      "text/html": [
       "<div>\n",
       "<style scoped>\n",
       "    .dataframe tbody tr th:only-of-type {\n",
       "        vertical-align: middle;\n",
       "    }\n",
       "\n",
       "    .dataframe tbody tr th {\n",
       "        vertical-align: top;\n",
       "    }\n",
       "\n",
       "    .dataframe thead th {\n",
       "        text-align: right;\n",
       "    }\n",
       "</style>\n",
       "<table border=\"1\" class=\"dataframe\">\n",
       "  <thead>\n",
       "    <tr style=\"text-align: right;\">\n",
       "      <th></th>\n",
       "      <th>date</th>\n",
       "      <th>CPI</th>\n",
       "      <th>YearMonth</th>\n",
       "    </tr>\n",
       "  </thead>\n",
       "  <tbody>\n",
       "    <tr>\n",
       "      <th>0</th>\n",
       "      <td>2008-07-31</td>\n",
       "      <td>100.00000</td>\n",
       "      <td>2008-07</td>\n",
       "    </tr>\n",
       "    <tr>\n",
       "      <th>1</th>\n",
       "      <td>2008-08-31</td>\n",
       "      <td>100.52510</td>\n",
       "      <td>2008-08</td>\n",
       "    </tr>\n",
       "    <tr>\n",
       "      <th>2</th>\n",
       "      <td>2008-09-30</td>\n",
       "      <td>100.12380</td>\n",
       "      <td>2008-09</td>\n",
       "    </tr>\n",
       "    <tr>\n",
       "      <th>3</th>\n",
       "      <td>2008-10-31</td>\n",
       "      <td>99.98538</td>\n",
       "      <td>2008-10</td>\n",
       "    </tr>\n",
       "    <tr>\n",
       "      <th>4</th>\n",
       "      <td>2008-11-30</td>\n",
       "      <td>98.97539</td>\n",
       "      <td>2008-11</td>\n",
       "    </tr>\n",
       "    <tr>\n",
       "      <th>5</th>\n",
       "      <td>2008-12-31</td>\n",
       "      <td>97.07973</td>\n",
       "      <td>2008-12</td>\n",
       "    </tr>\n",
       "    <tr>\n",
       "      <th>6</th>\n",
       "      <td>2009-01-31</td>\n",
       "      <td>96.07569</td>\n",
       "      <td>2009-01</td>\n",
       "    </tr>\n",
       "    <tr>\n",
       "      <th>7</th>\n",
       "      <td>2009-02-28</td>\n",
       "      <td>96.49385</td>\n",
       "      <td>2009-02</td>\n",
       "    </tr>\n",
       "    <tr>\n",
       "      <th>8</th>\n",
       "      <td>2009-03-31</td>\n",
       "      <td>96.97369</td>\n",
       "      <td>2009-03</td>\n",
       "    </tr>\n",
       "    <tr>\n",
       "      <th>9</th>\n",
       "      <td>2009-04-30</td>\n",
       "      <td>97.20951</td>\n",
       "      <td>2009-04</td>\n",
       "    </tr>\n",
       "  </tbody>\n",
       "</table>\n",
       "</div>"
      ],
      "text/plain": [
       "        date        CPI YearMonth\n",
       "0 2008-07-31  100.00000   2008-07\n",
       "1 2008-08-31  100.52510   2008-08\n",
       "2 2008-09-30  100.12380   2008-09\n",
       "3 2008-10-31   99.98538   2008-10\n",
       "4 2008-11-30   98.97539   2008-11\n",
       "5 2008-12-31   97.07973   2008-12\n",
       "6 2009-01-31   96.07569   2009-01\n",
       "7 2009-02-28   96.49385   2009-02\n",
       "8 2009-03-31   96.97369   2009-03\n",
       "9 2009-04-30   97.20951   2009-04"
      ]
     },
     "execution_count": 3,
     "metadata": {},
     "output_type": "execute_result"
    }
   ],
   "source": [
    "# cpi_monthly = pd.DataFrame(columns =['Month','CPI'])\n",
    "ps_cpi['YearMonth'] = ps_cpi['date'].dt.strftime('%Y-%m')\n",
    "cpi =ps_cpi.drop_duplicates('YearMonth', keep='last').copy().reset_index().drop(['index','PriceStats'],axis=1)\n",
    "cpi_train = (cpi[cpi.YearMonth<'2013-09'].copy())\n",
    "cpi_test = (cpi[cpi.YearMonth >='2013-09'].copy())\n",
    "# cpi_train.CPI = np.log(cpi_train.CPI)\n",
    "# cpi_test.CPI = np.log(cpi_test.CPI)\n",
    "cpi.head(10)\n"
   ]
  },
  {
   "cell_type": "markdown",
   "metadata": {},
   "source": [
    "Visualize the time series"
   ]
  },
  {
   "cell_type": "code",
   "execution_count": 4,
   "metadata": {},
   "outputs": [
    {
     "data": {
      "text/html": [
       "\n",
       "\n",
       "\n",
       "\n",
       "\n",
       "\n",
       "  <div class=\"bk-root\" id=\"84523d13-1220-4243-beed-47d78a3f28f2\" data-root-id=\"1003\"></div>\n"
      ]
     },
     "metadata": {},
     "output_type": "display_data"
    },
    {
     "data": {
      "application/javascript": "(function(root) {\n  function embed_document(root) {\n    \n  var docs_json = {\"2ce0b9a0-371b-4b22-ab33-f2367f9493c8\":{\"defs\":[],\"roots\":{\"references\":[{\"attributes\":{\"below\":[{\"id\":\"1014\"}],\"center\":[{\"id\":\"1017\"},{\"id\":\"1021\"}],\"height\":400,\"left\":[{\"id\":\"1018\"}],\"renderers\":[{\"id\":\"1039\"}],\"title\":{\"id\":\"1004\"},\"toolbar\":{\"id\":\"1029\"},\"width\":400,\"x_range\":{\"id\":\"1006\"},\"x_scale\":{\"id\":\"1010\"},\"y_range\":{\"id\":\"1008\"},\"y_scale\":{\"id\":\"1012\"}},\"id\":\"1003\",\"subtype\":\"Figure\",\"type\":\"Plot\"},{\"attributes\":{\"active_multi\":null,\"tools\":[{\"id\":\"1022\"},{\"id\":\"1023\"},{\"id\":\"1024\"},{\"id\":\"1025\"},{\"id\":\"1026\"},{\"id\":\"1027\"}]},\"id\":\"1029\",\"type\":\"Toolbar\"},{\"attributes\":{\"bottom_units\":\"screen\",\"fill_alpha\":0.5,\"fill_color\":\"lightgrey\",\"left_units\":\"screen\",\"level\":\"overlay\",\"line_alpha\":1.0,\"line_color\":\"black\",\"line_dash\":[4,4],\"line_width\":2,\"right_units\":\"screen\",\"syncable\":false,\"top_units\":\"screen\"},\"id\":\"1028\",\"type\":\"BoxAnnotation\"},{\"attributes\":{\"axis_label\":\"CPI\",\"formatter\":{\"id\":\"1047\"},\"major_label_policy\":{\"id\":\"1045\"},\"ticker\":{\"id\":\"1019\"}},\"id\":\"1018\",\"type\":\"LinearAxis\"},{\"attributes\":{\"axis\":{\"id\":\"1014\"},\"ticker\":null},\"id\":\"1017\",\"type\":\"Grid\"},{\"attributes\":{\"data\":{\"x\":[0,1,2,3,4,5,6,7,8,9,10,11,12,13,14,15,16,17,18,19,20,21,22,23,24,25,26,27,28,29,30,31,32,33,34,35,36,37,38,39,40,41,42,43,44,45,46,47,48,49,50,51,52,53,54,55,56,57,58,59,60,61],\"y\":{\"__ndarray__\":\"AAAAAAAAWUBLyAc9myFZQKvP1VbsB1lAe4hGdxD/WEActi3KbL5YQKWg20saRVhAl6jeGtgEWEBLyAc9mx9YQE6c3O9QPlhA1ouhnGhNWEDw+WGE8FxYQNBE2PD0blhAcVrwoq+kWEAYQznRrppYQOl942vPqFhAWwhyUMKsWEB00vvG17JYQOi8xi5Rt1hA48KBkCysWEDkvWplwsFYQEX11sBWw1hArHMMyF7dWEA/jBAebehYQHYyOEpe7VhAd6G5TiPnWECRm+EGfOhYQMjqVs9J8VhA0GG+vAD1WEAFhqxu9fxYQPLNNjem/1hAe4MvTKYKWUB3vp8aLylZQMX+snvySFlA8tJNYhCIWUBSSZ2AJrJZQHBfB84Z0VlAbqMBvAXKWUAdWmQ7389ZQBKlvcEX4llAqmBUUifsWUBYObTIdt5ZQCL99nXg2FlAat5xio7IWUCamZmZmeVZQMKGp1fKAlpA6Nms+lw1WkASg8DKoUlaQC9uowG8QVpAzojS3uA3WkAU0ETY8CxaQFioNc07UlpAo5I6AU1wWkCLbOf7qW1aQEvIBz2bTVpADwu1pnk7WkDIBz2bVU9aQNEi2/l+hlpAFR3J5T+YWkATYcPTK5FaQOF6FK5HnVpAEoPAyqGtWkBqTfOOU7BaQA==\",\"dtype\":\"float64\",\"order\":\"little\",\"shape\":[62]}},\"selected\":{\"id\":\"1048\"},\"selection_policy\":{\"id\":\"1049\"}},\"id\":\"1036\",\"type\":\"ColumnDataSource\"},{\"attributes\":{},\"id\":\"1026\",\"type\":\"ResetTool\"},{\"attributes\":{},\"id\":\"1042\",\"type\":\"AllLabels\"},{\"attributes\":{},\"id\":\"1045\",\"type\":\"AllLabels\"},{\"attributes\":{},\"id\":\"1044\",\"type\":\"BasicTickFormatter\"},{\"attributes\":{},\"id\":\"1047\",\"type\":\"BasicTickFormatter\"},{\"attributes\":{},\"id\":\"1048\",\"type\":\"Selection\"},{\"attributes\":{},\"id\":\"1019\",\"type\":\"BasicTicker\"},{\"attributes\":{\"text\":\"Monthly CPI\"},\"id\":\"1004\",\"type\":\"Title\"},{\"attributes\":{},\"id\":\"1049\",\"type\":\"UnionRenderers\"},{\"attributes\":{\"axis\":{\"id\":\"1018\"},\"dimension\":1,\"ticker\":null},\"id\":\"1021\",\"type\":\"Grid\"},{\"attributes\":{},\"id\":\"1010\",\"type\":\"LinearScale\"},{\"attributes\":{},\"id\":\"1006\",\"type\":\"DataRange1d\"},{\"attributes\":{\"data_source\":{\"id\":\"1036\"},\"glyph\":{\"id\":\"1037\"},\"hover_glyph\":null,\"muted_glyph\":null,\"nonselection_glyph\":{\"id\":\"1038\"},\"view\":{\"id\":\"1040\"}},\"id\":\"1039\",\"type\":\"GlyphRenderer\"},{\"attributes\":{},\"id\":\"1008\",\"type\":\"DataRange1d\"},{\"attributes\":{\"source\":{\"id\":\"1036\"}},\"id\":\"1040\",\"type\":\"CDSView\"},{\"attributes\":{},\"id\":\"1022\",\"type\":\"PanTool\"},{\"attributes\":{},\"id\":\"1023\",\"type\":\"WheelZoomTool\"},{\"attributes\":{\"line_color\":\"navy\",\"line_width\":2.5,\"x\":{\"field\":\"x\"},\"y\":{\"field\":\"y\"}},\"id\":\"1037\",\"type\":\"Line\"},{\"attributes\":{},\"id\":\"1012\",\"type\":\"LinearScale\"},{\"attributes\":{\"overlay\":{\"id\":\"1028\"}},\"id\":\"1024\",\"type\":\"BoxZoomTool\"},{\"attributes\":{},\"id\":\"1015\",\"type\":\"BasicTicker\"},{\"attributes\":{\"axis_label\":\"t\",\"formatter\":{\"id\":\"1044\"},\"major_label_policy\":{\"id\":\"1042\"},\"ticker\":{\"id\":\"1015\"}},\"id\":\"1014\",\"type\":\"LinearAxis\"},{\"attributes\":{},\"id\":\"1025\",\"type\":\"SaveTool\"},{\"attributes\":{},\"id\":\"1027\",\"type\":\"HelpTool\"},{\"attributes\":{\"line_alpha\":0.1,\"line_color\":\"navy\",\"line_width\":2.5,\"x\":{\"field\":\"x\"},\"y\":{\"field\":\"y\"}},\"id\":\"1038\",\"type\":\"Line\"}],\"root_ids\":[\"1003\"]},\"title\":\"Bokeh Application\",\"version\":\"2.3.1\"}};\n  var render_items = [{\"docid\":\"2ce0b9a0-371b-4b22-ab33-f2367f9493c8\",\"root_ids\":[\"1003\"],\"roots\":{\"1003\":\"84523d13-1220-4243-beed-47d78a3f28f2\"}}];\n  root.Bokeh.embed.embed_items_notebook(docs_json, render_items);\n\n  }\n  if (root.Bokeh !== undefined) {\n    embed_document(root);\n  } else {\n    var attempts = 0;\n    var timer = setInterval(function(root) {\n      if (root.Bokeh !== undefined) {\n        clearInterval(timer);\n        embed_document(root);\n      } else {\n        attempts++;\n        if (attempts > 100) {\n          clearInterval(timer);\n          console.log(\"Bokeh: ERROR: Unable to run BokehJS code because BokehJS library is missing\");\n        }\n      }\n    }, 10, root)\n  }\n})(window);",
      "application/vnd.bokehjs_exec.v0+json": ""
     },
     "metadata": {
      "application/vnd.bokehjs_exec.v0+json": {
       "id": "1003"
      }
     },
     "output_type": "display_data"
    }
   ],
   "source": [
    "p = figure(plot_width=400, plot_height=400, title = \"Monthly CPI\")\n",
    "p.line(cpi_train.index,cpi_train.CPI,line_color=\"navy\",line_width =2.5)\n",
    "p.xaxis.axis_label ='t'\n",
    "p.yaxis.axis_label ='CPI'\n",
    "show(p)"
   ]
  },
  {
   "cell_type": "markdown",
   "metadata": {},
   "source": [
    "From the visualization, it is clear that the timeseries has a deterministic trend. We try and fit a linear model to the data (as in the question above) and see if this is sufficient to represent the trend. We then subtract this trend from the data.\n"
   ]
  },
  {
   "cell_type": "code",
   "execution_count": 5,
   "metadata": {},
   "outputs": [
    {
     "name": "stdout",
     "output_type": "stream",
     "text": [
      "The linear trend is given by F(t) = 0.16104348366951224*t + (96.72932632872502)\n"
     ]
    },
    {
     "data": {
      "text/html": [
       "\n",
       "\n",
       "\n",
       "\n",
       "\n",
       "\n",
       "  <div class=\"bk-root\" id=\"4de8df5a-5f53-4ac6-a684-bce6f7802027\" data-root-id=\"1101\"></div>\n"
      ]
     },
     "metadata": {},
     "output_type": "display_data"
    },
    {
     "data": {
      "application/javascript": "(function(root) {\n  function embed_document(root) {\n    \n  var docs_json = {\"341cb91a-144f-49cf-9ef6-c91d95f4b6bb\":{\"defs\":[],\"roots\":{\"references\":[{\"attributes\":{\"below\":[{\"id\":\"1112\"}],\"center\":[{\"id\":\"1115\"},{\"id\":\"1119\"},{\"id\":\"1149\"}],\"height\":400,\"left\":[{\"id\":\"1116\"}],\"renderers\":[{\"id\":\"1137\"},{\"id\":\"1154\"}],\"title\":{\"id\":\"1102\"},\"toolbar\":{\"id\":\"1127\"},\"width\":400,\"x_range\":{\"id\":\"1104\"},\"x_scale\":{\"id\":\"1108\"},\"y_range\":{\"id\":\"1106\"},\"y_scale\":{\"id\":\"1110\"}},\"id\":\"1101\",\"subtype\":\"Figure\",\"type\":\"Plot\"},{\"attributes\":{},\"id\":\"1104\",\"type\":\"DataRange1d\"},{\"attributes\":{\"data_source\":{\"id\":\"1134\"},\"glyph\":{\"id\":\"1135\"},\"hover_glyph\":null,\"muted_glyph\":null,\"nonselection_glyph\":{\"id\":\"1136\"},\"view\":{\"id\":\"1138\"}},\"id\":\"1137\",\"type\":\"GlyphRenderer\"},{\"attributes\":{\"text\":\"CPI Time Series\"},\"id\":\"1102\",\"type\":\"Title\"},{\"attributes\":{},\"id\":\"1106\",\"type\":\"DataRange1d\"},{\"attributes\":{\"bottom_units\":\"screen\",\"fill_alpha\":0.5,\"fill_color\":\"lightgrey\",\"left_units\":\"screen\",\"level\":\"overlay\",\"line_alpha\":1.0,\"line_color\":\"black\",\"line_dash\":[4,4],\"line_width\":2,\"right_units\":\"screen\",\"syncable\":false,\"top_units\":\"screen\"},\"id\":\"1126\",\"type\":\"BoxAnnotation\"},{\"attributes\":{},\"id\":\"1108\",\"type\":\"LinearScale\"},{\"attributes\":{},\"id\":\"1142\",\"type\":\"BasicTickFormatter\"},{\"attributes\":{},\"id\":\"1110\",\"type\":\"LinearScale\"},{\"attributes\":{},\"id\":\"1143\",\"type\":\"AllLabels\"},{\"attributes\":{\"axis_label\":\"t\",\"formatter\":{\"id\":\"1142\"},\"major_label_policy\":{\"id\":\"1140\"},\"ticker\":{\"id\":\"1113\"}},\"id\":\"1112\",\"type\":\"LinearAxis\"},{\"attributes\":{},\"id\":\"1145\",\"type\":\"BasicTickFormatter\"},{\"attributes\":{},\"id\":\"1113\",\"type\":\"BasicTicker\"},{\"attributes\":{},\"id\":\"1146\",\"type\":\"Selection\"},{\"attributes\":{\"axis\":{\"id\":\"1112\"},\"ticker\":null},\"id\":\"1115\",\"type\":\"Grid\"},{\"attributes\":{},\"id\":\"1147\",\"type\":\"UnionRenderers\"},{\"attributes\":{\"axis_label\":\"CPI\",\"formatter\":{\"id\":\"1145\"},\"major_label_policy\":{\"id\":\"1143\"},\"ticker\":{\"id\":\"1117\"}},\"id\":\"1116\",\"type\":\"LinearAxis\"},{\"attributes\":{\"items\":[{\"id\":\"1150\"},{\"id\":\"1168\"}],\"location\":\"bottom_right\"},\"id\":\"1149\",\"type\":\"Legend\"},{\"attributes\":{},\"id\":\"1117\",\"type\":\"BasicTicker\"},{\"attributes\":{\"label\":{\"value\":\"Original Data\"},\"renderers\":[{\"id\":\"1137\"}]},\"id\":\"1150\",\"type\":\"LegendItem\"},{\"attributes\":{\"axis\":{\"id\":\"1116\"},\"dimension\":1,\"ticker\":null},\"id\":\"1119\",\"type\":\"Grid\"},{\"attributes\":{},\"id\":\"1165\",\"type\":\"Selection\"},{\"attributes\":{\"line_alpha\":0.1,\"line_color\":\"navy\",\"line_width\":2,\"x\":{\"field\":\"x\"},\"y\":{\"field\":\"y\"}},\"id\":\"1136\",\"type\":\"Line\"},{\"attributes\":{\"source\":{\"id\":\"1134\"}},\"id\":\"1138\",\"type\":\"CDSView\"},{\"attributes\":{\"line_alpha\":0.1,\"line_color\":\"orange\",\"line_width\":2.5,\"x\":{\"field\":\"x\"},\"y\":{\"field\":\"y\"}},\"id\":\"1153\",\"type\":\"Line\"},{\"attributes\":{},\"id\":\"1140\",\"type\":\"AllLabels\"},{\"attributes\":{\"data_source\":{\"id\":\"1151\"},\"glyph\":{\"id\":\"1152\"},\"hover_glyph\":null,\"muted_glyph\":null,\"nonselection_glyph\":{\"id\":\"1153\"},\"view\":{\"id\":\"1155\"}},\"id\":\"1154\",\"type\":\"GlyphRenderer\"},{\"attributes\":{\"active_multi\":null,\"tools\":[{\"id\":\"1120\"},{\"id\":\"1121\"},{\"id\":\"1122\"},{\"id\":\"1123\"},{\"id\":\"1124\"},{\"id\":\"1125\"}]},\"id\":\"1127\",\"type\":\"Toolbar\"},{\"attributes\":{\"data\":{\"x\":[0,1,2,3,4,5,6,7,8,9,10,11,12,13,14,15,16,17,18,19,20,21,22,23,24,25,26,27,28,29,30,31,32,33,34,35,36,37,38,39,40,41,42,43,44,45,46,47,48,49,50,51,52,53,54,55,56,57,58,59,60,61],\"y\":{\"__ndarray__\":\"AAAAAAAAWUBLyAc9myFZQKvP1VbsB1lAe4hGdxD/WEActi3KbL5YQKWg20saRVhAl6jeGtgEWEBLyAc9mx9YQE6c3O9QPlhA1ouhnGhNWEDw+WGE8FxYQNBE2PD0blhAcVrwoq+kWEAYQznRrppYQOl942vPqFhAWwhyUMKsWEB00vvG17JYQOi8xi5Rt1hA48KBkCysWEDkvWplwsFYQEX11sBWw1hArHMMyF7dWEA/jBAebehYQHYyOEpe7VhAd6G5TiPnWECRm+EGfOhYQMjqVs9J8VhA0GG+vAD1WEAFhqxu9fxYQPLNNjem/1hAe4MvTKYKWUB3vp8aLylZQMX+snvySFlA8tJNYhCIWUBSSZ2AJrJZQHBfB84Z0VlAbqMBvAXKWUAdWmQ7389ZQBKlvcEX4llAqmBUUifsWUBYObTIdt5ZQCL99nXg2FlAat5xio7IWUCamZmZmeVZQMKGp1fKAlpA6Nms+lw1WkASg8DKoUlaQC9uowG8QVpAzojS3uA3WkAU0ETY8CxaQFioNc07UlpAo5I6AU1wWkCLbOf7qW1aQEvIBz2bTVpADwu1pnk7WkDIBz2bVU9aQNEi2/l+hlpAFR3J5T+YWkATYcPTK5FaQOF6FK5HnVpAEoPAyqGtWkBqTfOOU7BaQA==\",\"dtype\":\"float64\",\"order\":\"little\",\"shape\":[62]}},\"selected\":{\"id\":\"1146\"},\"selection_policy\":{\"id\":\"1147\"}},\"id\":\"1134\",\"type\":\"ColumnDataSource\"},{\"attributes\":{\"source\":{\"id\":\"1151\"}},\"id\":\"1155\",\"type\":\"CDSView\"},{\"attributes\":{},\"id\":\"1120\",\"type\":\"PanTool\"},{\"attributes\":{},\"id\":\"1121\",\"type\":\"WheelZoomTool\"},{\"attributes\":{\"data\":{\"x\":[0,1,2,3,4,5,6,7,8,9,10,11,12,13,14,15,16,17,18,19,20,21,22,23,24,25,26,27,28,29,30,31,32,33,34,35,36,37,38,39,40,41,42,43,44,45,46,47,48,49,50,51,52,53,54,55,56,57,58,59,60,61],\"y\":{\"__ndarray__\":\"Fn9WSK0uWEAiZarR+zhYQC1L/lpKQ1hAOTFS5JhNWEBFF6Zt51dYQFH9+fY1YlhAXONNgIRsWEBoyaEJ03ZYQHSv9ZIhgVhAf5VJHHCLWECLe52lvpVYQJdh8S4NoFhAo0dFuFuqWECuLZlBqrRYQLoT7cr4vlhAxvlAVEfJWEDR35TdldNYQN3F6Gbk3VhA6as88DLoWED1kZB5gfJYQAB45ALQ/FhADF44jB4HWUAYRIwVbRFZQCQq4J67G1lALxA0KAomWUA79oexWDBZQEfc2zqnOllAUsIvxPVEWUBeqINNRE9ZQGqO19aSWVlAdnQrYOFjWUCBWn/pL25ZQI1A03J+eFlAmSYn/MyCWUCkDHuFG41ZQLDyzg5ql1lAvNgimLihWUDIvnYhB6xZQNOkyqpVtllA34oeNKTAWUDrcHK98spZQPZWxkZB1VlAAj0a0I/fWUAOI25Z3ulZQBoJwuIs9FlAJe8VbHv+WUAx1Wn1yQhaQD27vX4YE1pASKERCGcdWkBUh2WRtSdaQGBtuRoEMlpAbFMNpFI8WkB3OWEtoUZaQIMftbbvUFpAjwUJQD5bWkCa61zJjGVaQKbRsFLbb1pAsrcE3Cl6WkC+nVhleIRaQMmDrO7GjlpA1WkAeBWZWkDhT1QBZKNaQA==\",\"dtype\":\"float64\",\"order\":\"little\",\"shape\":[62]}},\"selected\":{\"id\":\"1165\"},\"selection_policy\":{\"id\":\"1166\"}},\"id\":\"1151\",\"type\":\"ColumnDataSource\"},{\"attributes\":{\"line_color\":\"orange\",\"line_width\":2.5,\"x\":{\"field\":\"x\"},\"y\":{\"field\":\"y\"}},\"id\":\"1152\",\"type\":\"Line\"},{\"attributes\":{\"line_color\":\"navy\",\"line_width\":2,\"x\":{\"field\":\"x\"},\"y\":{\"field\":\"y\"}},\"id\":\"1135\",\"type\":\"Line\"},{\"attributes\":{\"overlay\":{\"id\":\"1126\"}},\"id\":\"1122\",\"type\":\"BoxZoomTool\"},{\"attributes\":{},\"id\":\"1166\",\"type\":\"UnionRenderers\"},{\"attributes\":{},\"id\":\"1123\",\"type\":\"SaveTool\"},{\"attributes\":{\"label\":{\"value\":\"Linear Trend\"},\"renderers\":[{\"id\":\"1154\"}]},\"id\":\"1168\",\"type\":\"LegendItem\"},{\"attributes\":{},\"id\":\"1124\",\"type\":\"ResetTool\"},{\"attributes\":{},\"id\":\"1125\",\"type\":\"HelpTool\"}],\"root_ids\":[\"1101\"]},\"title\":\"Bokeh Application\",\"version\":\"2.3.1\"}};\n  var render_items = [{\"docid\":\"341cb91a-144f-49cf-9ef6-c91d95f4b6bb\",\"root_ids\":[\"1101\"],\"roots\":{\"1101\":\"4de8df5a-5f53-4ac6-a684-bce6f7802027\"}}];\n  root.Bokeh.embed.embed_items_notebook(docs_json, render_items);\n\n  }\n  if (root.Bokeh !== undefined) {\n    embed_document(root);\n  } else {\n    var attempts = 0;\n    var timer = setInterval(function(root) {\n      if (root.Bokeh !== undefined) {\n        clearInterval(timer);\n        embed_document(root);\n      } else {\n        attempts++;\n        if (attempts > 100) {\n          clearInterval(timer);\n          console.log(\"Bokeh: ERROR: Unable to run BokehJS code because BokehJS library is missing\");\n        }\n      }\n    }, 10, root)\n  }\n})(window);",
      "application/vnd.bokehjs_exec.v0+json": ""
     },
     "metadata": {
      "application/vnd.bokehjs_exec.v0+json": {
       "id": "1101"
      }
     },
     "output_type": "display_data"
    }
   ],
   "source": [
    "model = LinearRegression().fit(np.array(cpi_train.index).reshape(-1, 1),cpi_train.CPI)\n",
    "coefficients = [model.coef_[0],model.intercept_]\n",
    "print(\"The linear trend is given by F(t) = \" +str(coefficients[0])+\"*t + (\" +str(coefficients[1])+\")\")\n",
    "linear_cpi =model.predict(np.array(cpi_train.index).reshape(-1, 1))\n",
    "p = figure(plot_width=400, plot_height=400, title = \"CPI Time Series\")\n",
    "p.line(cpi_train.index,cpi_train.CPI, line_color=\"navy\", line_width=2, legend_label =\"Original Data\")\n",
    "p.line(cpi_train.index,linear_cpi, line_color=\"orange\",line_width=2.5,legend_label =\"Linear Trend\")\n",
    "\n",
    "p.xaxis.axis_label ='t'\n",
    "p.yaxis.axis_label ='CPI'\n",
    "p.legend.location='bottom_right'\n",
    "show(p)"
   ]
  },
  {
   "cell_type": "markdown",
   "metadata": {},
   "source": [
    "We now subtract this linear trend from the data. When prompted to 'Choose Method:' in the following part, please type 'linear'\n",
    "\n",
    "> $\\textit{Note :}$ An alternative to detrending the data in this manner would be to take first difference. Economists tend to log transform the CPI data and then take the first difference in order to detrend it. While the problem set only asks for the linear trend to be removed from the data, the code below allows you to visualize what the first difference of log transform looks like as well. In order to see this, please enter \"log\" when asked to choose method. Please remember to run the block again with the method as linear to proceed with the next part of the PSET."
   ]
  },
  {
   "cell_type": "code",
   "execution_count": 6,
   "metadata": {},
   "outputs": [
    {
     "name": "stdout",
     "output_type": "stream",
     "text": [
      "Choose Method:linear\n"
     ]
    },
    {
     "data": {
      "text/html": [
       "\n",
       "\n",
       "\n",
       "\n",
       "\n",
       "\n",
       "  <div class=\"bk-root\" id=\"584f7b03-2b62-4d63-a256-8b370f666699\" data-root-id=\"1251\"></div>\n"
      ]
     },
     "metadata": {},
     "output_type": "display_data"
    },
    {
     "data": {
      "application/javascript": "(function(root) {\n  function embed_document(root) {\n    \n  var docs_json = {\"1150e118-728f-4402-9a86-4e521739b161\":{\"defs\":[],\"roots\":{\"references\":[{\"attributes\":{\"below\":[{\"id\":\"1262\"}],\"center\":[{\"id\":\"1265\"},{\"id\":\"1269\"},{\"id\":\"1299\"}],\"height\":400,\"left\":[{\"id\":\"1266\"}],\"renderers\":[{\"id\":\"1287\"}],\"title\":{\"id\":\"1252\"},\"toolbar\":{\"id\":\"1277\"},\"width\":400,\"x_range\":{\"id\":\"1254\"},\"x_scale\":{\"id\":\"1258\"},\"y_range\":{\"id\":\"1256\"},\"y_scale\":{\"id\":\"1260\"}},\"id\":\"1251\",\"subtype\":\"Figure\",\"type\":\"Plot\"},{\"attributes\":{},\"id\":\"1256\",\"type\":\"DataRange1d\"},{\"attributes\":{\"axis\":{\"id\":\"1262\"},\"ticker\":null},\"id\":\"1265\",\"type\":\"Grid\"},{\"attributes\":{},\"id\":\"1275\",\"type\":\"HelpTool\"},{\"attributes\":{\"source\":{\"id\":\"1284\"}},\"id\":\"1288\",\"type\":\"CDSView\"},{\"attributes\":{\"active_multi\":null,\"tools\":[{\"id\":\"1270\"},{\"id\":\"1271\"},{\"id\":\"1272\"},{\"id\":\"1273\"},{\"id\":\"1274\"},{\"id\":\"1275\"}]},\"id\":\"1277\",\"type\":\"Toolbar\"},{\"attributes\":{\"bottom_units\":\"screen\",\"fill_alpha\":0.5,\"fill_color\":\"lightgrey\",\"left_units\":\"screen\",\"level\":\"overlay\",\"line_alpha\":1.0,\"line_color\":\"black\",\"line_dash\":[4,4],\"line_width\":2,\"right_units\":\"screen\",\"syncable\":false,\"top_units\":\"screen\"},\"id\":\"1276\",\"type\":\"BoxAnnotation\"},{\"attributes\":{},\"id\":\"1260\",\"type\":\"LinearScale\"},{\"attributes\":{},\"id\":\"1290\",\"type\":\"AllLabels\"},{\"attributes\":{\"formatter\":{\"id\":\"1295\"},\"major_label_policy\":{\"id\":\"1293\"},\"ticker\":{\"id\":\"1267\"}},\"id\":\"1266\",\"type\":\"LinearAxis\"},{\"attributes\":{\"formatter\":{\"id\":\"1292\"},\"major_label_policy\":{\"id\":\"1290\"},\"ticker\":{\"id\":\"1263\"}},\"id\":\"1262\",\"type\":\"LinearAxis\"},{\"attributes\":{},\"id\":\"1292\",\"type\":\"BasicTickFormatter\"},{\"attributes\":{},\"id\":\"1263\",\"type\":\"BasicTicker\"},{\"attributes\":{},\"id\":\"1258\",\"type\":\"LinearScale\"},{\"attributes\":{},\"id\":\"1293\",\"type\":\"AllLabels\"},{\"attributes\":{\"text\":\"CPI Time Series\"},\"id\":\"1252\",\"type\":\"Title\"},{\"attributes\":{},\"id\":\"1295\",\"type\":\"BasicTickFormatter\"},{\"attributes\":{},\"id\":\"1267\",\"type\":\"BasicTicker\"},{\"attributes\":{},\"id\":\"1296\",\"type\":\"Selection\"},{\"attributes\":{\"axis\":{\"id\":\"1266\"},\"dimension\":1,\"ticker\":null},\"id\":\"1269\",\"type\":\"Grid\"},{\"attributes\":{\"data\":{\"x\":[0,1,2,3,4,5,6,7,8,9,10,11,12,13,14,15,16,17,18,19,20,21,22,23,24,25,26,27,28,29,30,31,32,33,34,35,36,37,38,39,40,41,42,43,44,45,46,47,48,49,50,51,52,53,54,55,56,57,58,59,60,61],\"y\":{\"__ndarray__\":\"QB0w9VYqCkAgZaxr7RMNQMCP8Ho/lAhAQOiKXvIuBkDAtechV6H5PwCsXB6rG92/QLHOWxnr+b9AR4Am8831v4DJRMYotPC/gNQE1L8D77+AzcCdEGfsv4BjjgwfjOi/AMi0U1Wwtr8AlupfcPvZvwDRlQlfKda/AGvxzgOF3L+AroZMC1/gv4B6BBGcSeO/AIN03S8D7r+ACOoSil/ov4BdwQahvOy/ADD1FeLf5L+A7Nu9+3/kvwDX+1OqLue/AFw3vWxz77+AqpapKvfxv8BfPOFaV/K/gCBY3EH9879Alsi1t5P0vwAeMOgne/a/wD78/sRO9r+AAue3M0DxvwDkIJD7xee/AGSxmpgNtT8AVx6RfYXiPwBgNpzf1+w/AFll75Em5D+Aqs32DOzhP4AfgHkL4eU/gOXqGo/B5T8AbchBC4TTPwBgMYV5+aw/AJheqEUB178A0CVS/xKxvwBQ+8rpOs0/gGF1S8dw6z9AeKtV9TXwPwB52XLBUec/AIbnwNZ52j8AACN9G+20PwB8HT7ZG+A/gJufli796T8AihlDZ4TjPwDAuWrNo6q/AID6U5nE378A0uMfLjfWvwArUSqno9Y/AGNlxAkW3j8AqobV3GbJPwAw7s9+Ac0/AD0ZwFKM1D8AEvs9G9/JPw==\",\"dtype\":\"float64\",\"order\":\"little\",\"shape\":[62]}},\"selected\":{\"id\":\"1296\"},\"selection_policy\":{\"id\":\"1297\"}},\"id\":\"1284\",\"type\":\"ColumnDataSource\"},{\"attributes\":{},\"id\":\"1297\",\"type\":\"UnionRenderers\"},{\"attributes\":{\"items\":[{\"id\":\"1300\"}]},\"id\":\"1299\",\"type\":\"Legend\"},{\"attributes\":{\"line_color\":\"navy\",\"line_width\":2,\"x\":{\"field\":\"x\"},\"y\":{\"field\":\"y\"}},\"id\":\"1285\",\"type\":\"Line\"},{\"attributes\":{\"label\":{\"value\":\"Detrended Data\"},\"renderers\":[{\"id\":\"1287\"}]},\"id\":\"1300\",\"type\":\"LegendItem\"},{\"attributes\":{\"line_alpha\":0.1,\"line_color\":\"navy\",\"line_width\":2,\"x\":{\"field\":\"x\"},\"y\":{\"field\":\"y\"}},\"id\":\"1286\",\"type\":\"Line\"},{\"attributes\":{\"data_source\":{\"id\":\"1284\"},\"glyph\":{\"id\":\"1285\"},\"hover_glyph\":null,\"muted_glyph\":null,\"nonselection_glyph\":{\"id\":\"1286\"},\"view\":{\"id\":\"1288\"}},\"id\":\"1287\",\"type\":\"GlyphRenderer\"},{\"attributes\":{},\"id\":\"1270\",\"type\":\"PanTool\"},{\"attributes\":{},\"id\":\"1254\",\"type\":\"DataRange1d\"},{\"attributes\":{},\"id\":\"1271\",\"type\":\"WheelZoomTool\"},{\"attributes\":{\"overlay\":{\"id\":\"1276\"}},\"id\":\"1272\",\"type\":\"BoxZoomTool\"},{\"attributes\":{},\"id\":\"1273\",\"type\":\"SaveTool\"},{\"attributes\":{},\"id\":\"1274\",\"type\":\"ResetTool\"}],\"root_ids\":[\"1251\"]},\"title\":\"Bokeh Application\",\"version\":\"2.3.1\"}};\n  var render_items = [{\"docid\":\"1150e118-728f-4402-9a86-4e521739b161\",\"root_ids\":[\"1251\"],\"roots\":{\"1251\":\"584f7b03-2b62-4d63-a256-8b370f666699\"}}];\n  root.Bokeh.embed.embed_items_notebook(docs_json, render_items);\n\n  }\n  if (root.Bokeh !== undefined) {\n    embed_document(root);\n  } else {\n    var attempts = 0;\n    var timer = setInterval(function(root) {\n      if (root.Bokeh !== undefined) {\n        clearInterval(timer);\n        embed_document(root);\n      } else {\n        attempts++;\n        if (attempts > 100) {\n          clearInterval(timer);\n          console.log(\"Bokeh: ERROR: Unable to run BokehJS code because BokehJS library is missing\");\n        }\n      }\n    }, 10, root)\n  }\n})(window);",
      "application/vnd.bokehjs_exec.v0+json": ""
     },
     "metadata": {
      "application/vnd.bokehjs_exec.v0+json": {
       "id": "1251"
      }
     },
     "output_type": "display_data"
    },
    {
     "name": "stdout",
     "output_type": "stream",
     "text": [
      "the maximum residual value is:3.634730187605456\n"
     ]
    }
   ],
   "source": [
    "x = input('Choose Method:')\n",
    "if x == 'linear':\n",
    "    remaining = cpi_train.CPI - linear_cpi\n",
    "    linear_cpi_test = model.predict(np.array(cpi_test.index).reshape(-1, 1))\n",
    "    remaining_test = cpi_test.CPI - linear_cpi_test\n",
    "    test = cpi_test.index\n",
    "    train = cpi_train.index\n",
    "else:\n",
    "    cpi_diff_log = np.log(cpi.CPI).diff()\n",
    "    remaining = cpi_diff_log[0:cpi_train.shape[0]]\n",
    "    remaining.iloc[0] = 0    \n",
    "    #.reset_index()#.drop(['index'],axis =1)\n",
    "    remaining_test = cpi_diff_log[cpi_train.shape[0]:].dropna()\n",
    "    remaining_test.iloc[0] = 0\n",
    "    test = cpi_test.index\n",
    "    train = cpi_train.index\n",
    "\n",
    "\n",
    "    \n",
    "p = figure(plot_width=400, plot_height=400, title = \"CPI Time Series\")\n",
    "p.line(train,remaining, line_color=\"navy\", line_width=2, legend_label =\"Detrended Data\")\n",
    "\n",
    "\n",
    "\n",
    "# p.line(cpi_diff.index,cpi_diff,line_color=\"green\",line_width =2.5)\n",
    "show(p)\n",
    "print(\"the maximum residual value is:\"+str(np.max(remaining)))"
   ]
  },
  {
   "cell_type": "markdown",
   "metadata": {},
   "source": [
    "Note that at some stage, we will be required to add back the trend to the data. The function $\\texttt{rebuild_diffed()}$ below has been designed for this purpose. We will be calling this function later."
   ]
  },
  {
   "cell_type": "code",
   "execution_count": 7,
   "metadata": {},
   "outputs": [],
   "source": [
    "def rebuild_diffed(series, first_element_original,x,linear_trend):\n",
    "    if x == 'linear':\n",
    "        final = series + linear_trend\n",
    "    else:\n",
    "        cumsum = pd.Series(series).cumsum()\n",
    "        final = np.exp(cumsum.fillna(0) + first_element_original)\n",
    "        if first_element_original == 0:\n",
    "            final = np.exp(cumsum.fillna(0))\n",
    "    return final"
   ]
  },
  {
   "cell_type": "markdown",
   "metadata": {},
   "source": [
    "As there seems to be no other trend present in this residual, we can take the linear trend to be sufficient and move to the next step, i.e. to deseasonalize the data. However, the above visualization seems to indicate no clear seasonality. Hence, we directly proceed to fitting an AR Model on the residual. To do so, we first plot the autocorrelation and partial autocorrelation plots."
   ]
  },
  {
   "cell_type": "code",
   "execution_count": 8,
   "metadata": {},
   "outputs": [
    {
     "data": {
      "image/png": "[encoded data removed]",
      "text/plain": [
       "<Figure size 432x288 with 1 Axes>"
      ]
     },
     "metadata": {
      "needs_background": "light"
     },
     "output_type": "display_data"
    },
    {
     "data": {
      "image/png": "[encoded data removed]",
      "text/plain": [
       "<Figure size 432x288 with 1 Axes>"
      ]
     },
     "metadata": {
      "needs_background": "light"
     },
     "output_type": "display_data"
    }
   ],
   "source": [
    "#linear\n",
    "plot_acf(remaining)\n",
    "plt.show()\n",
    "plot_pacf(remaining)\n",
    "plt.show()"
   ]
  },
  {
   "cell_type": "markdown",
   "metadata": {},
   "source": [
    "From the above PACF plot, we can see that the highest lag at which the plot extends beyond the statistically significant boundary is at lag 2. This indicates that an AR Model of lag 2 should be sufficient to fit the data. However, we can further verify this by calculating the rmse of the fit"
   ]
  },
  {
   "cell_type": "code",
   "execution_count": 9,
   "metadata": {},
   "outputs": [
    {
     "name": "stderr",
     "output_type": "stream",
     "text": [
      "/anaconda3/lib/python3.7/site-packages/statsmodels/tsa/ar_model.py:252: FutureWarning: The parameter names will change after 0.12 is released. Set old_names to False to use the new names now. Set old_names to True to use the old names. \n",
      "  FutureWarning,\n",
      "/anaconda3/lib/python3.7/site-packages/statsmodels/tsa/ar_model.py:252: FutureWarning: The parameter names will change after 0.12 is released. Set old_names to False to use the new names now. Set old_names to True to use the old names. \n",
      "  FutureWarning,\n",
      "/anaconda3/lib/python3.7/site-packages/statsmodels/tsa/ar_model.py:252: FutureWarning: The parameter names will change after 0.12 is released. Set old_names to False to use the new names now. Set old_names to True to use the old names. \n",
      "  FutureWarning,\n",
      "/anaconda3/lib/python3.7/site-packages/statsmodels/tsa/ar_model.py:252: FutureWarning: The parameter names will change after 0.12 is released. Set old_names to False to use the new names now. Set old_names to True to use the old names. \n",
      "  FutureWarning,\n",
      "/anaconda3/lib/python3.7/site-packages/statsmodels/tsa/ar_model.py:252: FutureWarning: The parameter names will change after 0.12 is released. Set old_names to False to use the new names now. Set old_names to True to use the old names. \n",
      "  FutureWarning,\n",
      "/anaconda3/lib/python3.7/site-packages/statsmodels/tsa/ar_model.py:252: FutureWarning: The parameter names will change after 0.12 is released. Set old_names to False to use the new names now. Set old_names to True to use the old names. \n",
      "  FutureWarning,\n",
      "/anaconda3/lib/python3.7/site-packages/statsmodels/tsa/ar_model.py:252: FutureWarning: The parameter names will change after 0.12 is released. Set old_names to False to use the new names now. Set old_names to True to use the old names. \n",
      "  FutureWarning,\n"
     ]
    },
    {
     "data": {
      "text/html": [
       "\n",
       "\n",
       "\n",
       "\n",
       "\n",
       "\n",
       "  <div class=\"bk-root\" id=\"b2d184b9-77ab-4ed7-92b3-b09af461b2c4\" data-root-id=\"1383\"></div>\n"
      ]
     },
     "metadata": {},
     "output_type": "display_data"
    },
    {
     "data": {
      "application/javascript": "(function(root) {\n  function embed_document(root) {\n    \n  var docs_json = {\"ae2c71b8-60de-4892-abdd-f9ae4156befa\":{\"defs\":[],\"roots\":{\"references\":[{\"attributes\":{\"below\":[{\"id\":\"1394\"}],\"center\":[{\"id\":\"1397\"},{\"id\":\"1401\"},{\"id\":\"1431\"}],\"height\":400,\"left\":[{\"id\":\"1398\"}],\"renderers\":[{\"id\":\"1419\"}],\"title\":{\"id\":\"1384\"},\"toolbar\":{\"id\":\"1409\"},\"width\":400,\"x_range\":{\"id\":\"1386\"},\"x_scale\":{\"id\":\"1390\"},\"y_range\":{\"id\":\"1388\"},\"y_scale\":{\"id\":\"1392\"}},\"id\":\"1383\",\"subtype\":\"Figure\",\"type\":\"Plot\"},{\"attributes\":{},\"id\":\"1427\",\"type\":\"BasicTickFormatter\"},{\"attributes\":{},\"id\":\"1428\",\"type\":\"Selection\"},{\"attributes\":{},\"id\":\"1399\",\"type\":\"BasicTicker\"},{\"attributes\":{},\"id\":\"1429\",\"type\":\"UnionRenderers\"},{\"attributes\":{\"axis\":{\"id\":\"1394\"},\"ticker\":null},\"id\":\"1397\",\"type\":\"Grid\"},{\"attributes\":{\"axis\":{\"id\":\"1398\"},\"dimension\":1,\"ticker\":null},\"id\":\"1401\",\"type\":\"Grid\"},{\"attributes\":{\"items\":[{\"id\":\"1432\"}]},\"id\":\"1431\",\"type\":\"Legend\"},{\"attributes\":{},\"id\":\"1390\",\"type\":\"LinearScale\"},{\"attributes\":{\"source\":{\"id\":\"1416\"}},\"id\":\"1420\",\"type\":\"CDSView\"},{\"attributes\":{\"label\":{\"value\":\"RMSE\"},\"renderers\":[{\"id\":\"1419\"}]},\"id\":\"1432\",\"type\":\"LegendItem\"},{\"attributes\":{\"data\":{\"x\":[1,2,3,4,5,6,7],\"y\":[0.4245898727866745,0.32656877529273626,0.32770290052402523,0.31615457753801773,0.3068656056592596,0.260342993874571,0.2537636598936937]},\"selected\":{\"id\":\"1428\"},\"selection_policy\":{\"id\":\"1429\"}},\"id\":\"1416\",\"type\":\"ColumnDataSource\"},{\"attributes\":{},\"id\":\"1388\",\"type\":\"DataRange1d\"},{\"attributes\":{},\"id\":\"1402\",\"type\":\"PanTool\"},{\"attributes\":{},\"id\":\"1403\",\"type\":\"WheelZoomTool\"},{\"attributes\":{\"overlay\":{\"id\":\"1408\"}},\"id\":\"1404\",\"type\":\"BoxZoomTool\"},{\"attributes\":{},\"id\":\"1392\",\"type\":\"LinearScale\"},{\"attributes\":{},\"id\":\"1405\",\"type\":\"SaveTool\"},{\"attributes\":{},\"id\":\"1395\",\"type\":\"BasicTicker\"},{\"attributes\":{},\"id\":\"1406\",\"type\":\"ResetTool\"},{\"attributes\":{},\"id\":\"1407\",\"type\":\"HelpTool\"},{\"attributes\":{},\"id\":\"1386\",\"type\":\"DataRange1d\"},{\"attributes\":{},\"id\":\"1425\",\"type\":\"AllLabels\"},{\"attributes\":{},\"id\":\"1422\",\"type\":\"AllLabels\"},{\"attributes\":{\"active_multi\":null,\"tools\":[{\"id\":\"1402\"},{\"id\":\"1403\"},{\"id\":\"1404\"},{\"id\":\"1405\"},{\"id\":\"1406\"},{\"id\":\"1407\"}]},\"id\":\"1409\",\"type\":\"Toolbar\"},{\"attributes\":{\"bottom_units\":\"screen\",\"fill_alpha\":0.5,\"fill_color\":\"lightgrey\",\"left_units\":\"screen\",\"level\":\"overlay\",\"line_alpha\":1.0,\"line_color\":\"black\",\"line_dash\":[4,4],\"line_width\":2,\"right_units\":\"screen\",\"syncable\":false,\"top_units\":\"screen\"},\"id\":\"1408\",\"type\":\"BoxAnnotation\"},{\"attributes\":{\"data_source\":{\"id\":\"1416\"},\"glyph\":{\"id\":\"1417\"},\"hover_glyph\":null,\"muted_glyph\":null,\"nonselection_glyph\":{\"id\":\"1418\"},\"view\":{\"id\":\"1420\"}},\"id\":\"1419\",\"type\":\"GlyphRenderer\"},{\"attributes\":{\"axis_label\":\"RMSE\",\"formatter\":{\"id\":\"1427\"},\"major_label_policy\":{\"id\":\"1425\"},\"ticker\":{\"id\":\"1399\"}},\"id\":\"1398\",\"type\":\"LinearAxis\"},{\"attributes\":{\"fill_alpha\":{\"value\":0.5},\"fill_color\":{\"value\":\"orange\"},\"line_color\":{\"value\":\"navy\"},\"marker\":{\"value\":\"square\"},\"size\":{\"value\":15},\"x\":{\"field\":\"x\"},\"y\":{\"field\":\"y\"}},\"id\":\"1417\",\"type\":\"Scatter\"},{\"attributes\":{\"axis_label\":\"n\",\"formatter\":{\"id\":\"1424\"},\"major_label_policy\":{\"id\":\"1422\"},\"ticker\":{\"id\":\"1395\"}},\"id\":\"1394\",\"type\":\"LinearAxis\"},{\"attributes\":{\"fill_alpha\":{\"value\":0.1},\"fill_color\":{\"value\":\"orange\"},\"line_alpha\":{\"value\":0.1},\"line_color\":{\"value\":\"navy\"},\"marker\":{\"value\":\"square\"},\"size\":{\"value\":15},\"x\":{\"field\":\"x\"},\"y\":{\"field\":\"y\"}},\"id\":\"1418\",\"type\":\"Scatter\"},{\"attributes\":{\"text\":\"RMSE of AR Models of order n\"},\"id\":\"1384\",\"type\":\"Title\"},{\"attributes\":{},\"id\":\"1424\",\"type\":\"BasicTickFormatter\"}],\"root_ids\":[\"1383\"]},\"title\":\"Bokeh Application\",\"version\":\"2.3.1\"}};\n  var render_items = [{\"docid\":\"ae2c71b8-60de-4892-abdd-f9ae4156befa\",\"root_ids\":[\"1383\"],\"roots\":{\"1383\":\"b2d184b9-77ab-4ed7-92b3-b09af461b2c4\"}}];\n  root.Bokeh.embed.embed_items_notebook(docs_json, render_items);\n\n  }\n  if (root.Bokeh !== undefined) {\n    embed_document(root);\n  } else {\n    var attempts = 0;\n    var timer = setInterval(function(root) {\n      if (root.Bokeh !== undefined) {\n        clearInterval(timer);\n        embed_document(root);\n      } else {\n        attempts++;\n        if (attempts > 100) {\n          clearInterval(timer);\n          console.log(\"Bokeh: ERROR: Unable to run BokehJS code because BokehJS library is missing\");\n        }\n      }\n    }, 10, root)\n  }\n})(window);",
      "application/vnd.bokehjs_exec.v0+json": ""
     },
     "metadata": {
      "application/vnd.bokehjs_exec.v0+json": {
       "id": "1383"
      }
     },
     "output_type": "display_data"
    }
   ],
   "source": [
    "rmse_train=[]\n",
    "\n",
    "for n in range(1,8):\n",
    "    model = AutoReg(remaining, lags= n,trend='n')\n",
    "    model_fit = model.fit()\n",
    "    predictions=model_fit.predict()\n",
    "    rmse=(mean_squared_error(remaining[n:], predictions[n:]))**0.5\n",
    "    rmse_train.append(rmse)\n",
    "\n",
    "    \n",
    "    \n",
    "p = figure(plot_width=400, plot_height=400, title = \"RMSE of AR Models of order n\")\n",
    "p.scatter(np.arange(1,8),rmse_train,size = 15, marker =\"square\", line_color=\"navy\",fill_color=\"orange\", fill_alpha =0.5, legend_label =\"RMSE\")\n",
    "p.xaxis.axis_label ='n'\n",
    "p.yaxis.axis_label ='RMSE'\n",
    "p.legend.location='top_right'\n",
    "show(p)\n",
    "\n",
    "\n"
   ]
  },
  {
   "cell_type": "code",
   "execution_count": 10,
   "metadata": {},
   "outputs": [
    {
     "name": "stderr",
     "output_type": "stream",
     "text": [
      "/anaconda3/lib/python3.7/site-packages/statsmodels/tsa/ar_model.py:252: FutureWarning: The parameter names will change after 0.12 is released. Set old_names to False to use the new names now. Set old_names to True to use the old names. \n",
      "  FutureWarning,\n",
      "/anaconda3/lib/python3.7/site-packages/statsmodels/tsa/ar_model.py:252: FutureWarning: The parameter names will change after 0.12 is released. Set old_names to False to use the new names now. Set old_names to True to use the old names. \n",
      "  FutureWarning,\n",
      "/anaconda3/lib/python3.7/site-packages/statsmodels/tsa/ar_model.py:252: FutureWarning: The parameter names will change after 0.12 is released. Set old_names to False to use the new names now. Set old_names to True to use the old names. \n",
      "  FutureWarning,\n",
      "/anaconda3/lib/python3.7/site-packages/statsmodels/tsa/ar_model.py:252: FutureWarning: The parameter names will change after 0.12 is released. Set old_names to False to use the new names now. Set old_names to True to use the old names. \n",
      "  FutureWarning,\n",
      "/anaconda3/lib/python3.7/site-packages/statsmodels/tsa/ar_model.py:252: FutureWarning: The parameter names will change after 0.12 is released. Set old_names to False to use the new names now. Set old_names to True to use the old names. \n",
      "  FutureWarning,\n",
      "/anaconda3/lib/python3.7/site-packages/statsmodels/tsa/ar_model.py:252: FutureWarning: The parameter names will change after 0.12 is released. Set old_names to False to use the new names now. Set old_names to True to use the old names. \n",
      "  FutureWarning,\n",
      "/anaconda3/lib/python3.7/site-packages/statsmodels/tsa/ar_model.py:252: FutureWarning: The parameter names will change after 0.12 is released. Set old_names to False to use the new names now. Set old_names to True to use the old names. \n",
      "  FutureWarning,\n"
     ]
    },
    {
     "name": "stdout",
     "output_type": "stream",
     "text": [
      "Test RMSE for AR(1):0.3718449350821093\n",
      "Test RMSE for AR(2):0.39328060138088866\n",
      "Test RMSE for AR(3):0.3784955272936298\n",
      "Test RMSE for AR(4):0.44251979719237056\n",
      "Test RMSE for AR(5):0.43456315263365036\n",
      "Test RMSE for AR(6):0.34020763928627823\n",
      "Test RMSE for AR(7):0.31251327073280627\n"
     ]
    },
    {
     "data": {
      "text/html": [
       "\n",
       "\n",
       "\n",
       "\n",
       "\n",
       "\n",
       "  <div class=\"bk-root\" id=\"c8afa53e-20ef-439c-968e-e63ed97d56af\" data-root-id=\"1525\"></div>\n"
      ]
     },
     "metadata": {},
     "output_type": "display_data"
    },
    {
     "data": {
      "application/javascript": "(function(root) {\n  function embed_document(root) {\n    \n  var docs_json = {\"15303012-0540-405b-bf4f-a2de6e9e680b\":{\"defs\":[],\"roots\":{\"references\":[{\"attributes\":{\"below\":[{\"id\":\"1536\"}],\"center\":[{\"id\":\"1539\"},{\"id\":\"1543\"},{\"id\":\"1573\"}],\"height\":400,\"left\":[{\"id\":\"1540\"}],\"renderers\":[{\"id\":\"1561\"}],\"title\":{\"id\":\"1526\"},\"toolbar\":{\"id\":\"1551\"},\"width\":400,\"x_range\":{\"id\":\"1528\"},\"x_scale\":{\"id\":\"1532\"},\"y_range\":{\"id\":\"1530\"},\"y_scale\":{\"id\":\"1534\"}},\"id\":\"1525\",\"subtype\":\"Figure\",\"type\":\"Plot\"},{\"attributes\":{},\"id\":\"1544\",\"type\":\"PanTool\"},{\"attributes\":{},\"id\":\"1564\",\"type\":\"AllLabels\"},{\"attributes\":{\"active_multi\":null,\"tools\":[{\"id\":\"1544\"},{\"id\":\"1545\"},{\"id\":\"1546\"},{\"id\":\"1547\"},{\"id\":\"1548\"},{\"id\":\"1549\"}]},\"id\":\"1551\",\"type\":\"Toolbar\"},{\"attributes\":{\"bottom_units\":\"screen\",\"fill_alpha\":0.5,\"fill_color\":\"lightgrey\",\"left_units\":\"screen\",\"level\":\"overlay\",\"line_alpha\":1.0,\"line_color\":\"black\",\"line_dash\":[4,4],\"line_width\":2,\"right_units\":\"screen\",\"syncable\":false,\"top_units\":\"screen\"},\"id\":\"1550\",\"type\":\"BoxAnnotation\"},{\"attributes\":{\"axis_label\":\"n\",\"formatter\":{\"id\":\"1566\"},\"major_label_policy\":{\"id\":\"1564\"},\"ticker\":{\"id\":\"1537\"}},\"id\":\"1536\",\"type\":\"LinearAxis\"},{\"attributes\":{\"data_source\":{\"id\":\"1558\"},\"glyph\":{\"id\":\"1559\"},\"hover_glyph\":null,\"muted_glyph\":null,\"nonselection_glyph\":{\"id\":\"1560\"},\"view\":{\"id\":\"1562\"}},\"id\":\"1561\",\"type\":\"GlyphRenderer\"},{\"attributes\":{\"source\":{\"id\":\"1558\"}},\"id\":\"1562\",\"type\":\"CDSView\"},{\"attributes\":{\"axis\":{\"id\":\"1536\"},\"ticker\":null},\"id\":\"1539\",\"type\":\"Grid\"},{\"attributes\":{\"fill_alpha\":{\"value\":0.5},\"fill_color\":{\"value\":\"orange\"},\"line_color\":{\"value\":\"navy\"},\"marker\":{\"value\":\"square\"},\"size\":{\"value\":15},\"x\":{\"field\":\"x\"},\"y\":{\"field\":\"y\"}},\"id\":\"1559\",\"type\":\"Scatter\"},{\"attributes\":{},\"id\":\"1566\",\"type\":\"BasicTickFormatter\"},{\"attributes\":{\"axis\":{\"id\":\"1540\"},\"dimension\":1,\"ticker\":null},\"id\":\"1543\",\"type\":\"Grid\"},{\"attributes\":{},\"id\":\"1567\",\"type\":\"AllLabels\"},{\"attributes\":{},\"id\":\"1569\",\"type\":\"BasicTickFormatter\"},{\"attributes\":{},\"id\":\"1570\",\"type\":\"Selection\"},{\"attributes\":{\"text\":\"RMSE of AR Models of order n\"},\"id\":\"1526\",\"type\":\"Title\"},{\"attributes\":{\"overlay\":{\"id\":\"1550\"}},\"id\":\"1546\",\"type\":\"BoxZoomTool\"},{\"attributes\":{},\"id\":\"1571\",\"type\":\"UnionRenderers\"},{\"attributes\":{\"items\":[{\"id\":\"1574\"}],\"location\":\"bottom_right\"},\"id\":\"1573\",\"type\":\"Legend\"},{\"attributes\":{},\"id\":\"1530\",\"type\":\"DataRange1d\"},{\"attributes\":{},\"id\":\"1537\",\"type\":\"BasicTicker\"},{\"attributes\":{\"label\":{\"value\":\"RMSE\"},\"renderers\":[{\"id\":\"1561\"}]},\"id\":\"1574\",\"type\":\"LegendItem\"},{\"attributes\":{},\"id\":\"1545\",\"type\":\"WheelZoomTool\"},{\"attributes\":{},\"id\":\"1534\",\"type\":\"LinearScale\"},{\"attributes\":{},\"id\":\"1528\",\"type\":\"DataRange1d\"},{\"attributes\":{\"axis_label\":\"RMSE\",\"formatter\":{\"id\":\"1569\"},\"major_label_policy\":{\"id\":\"1567\"},\"ticker\":{\"id\":\"1541\"}},\"id\":\"1540\",\"type\":\"LinearAxis\"},{\"attributes\":{},\"id\":\"1547\",\"type\":\"SaveTool\"},{\"attributes\":{},\"id\":\"1532\",\"type\":\"LinearScale\"},{\"attributes\":{},\"id\":\"1548\",\"type\":\"ResetTool\"},{\"attributes\":{\"fill_alpha\":{\"value\":0.1},\"fill_color\":{\"value\":\"orange\"},\"line_alpha\":{\"value\":0.1},\"line_color\":{\"value\":\"navy\"},\"marker\":{\"value\":\"square\"},\"size\":{\"value\":15},\"x\":{\"field\":\"x\"},\"y\":{\"field\":\"y\"}},\"id\":\"1560\",\"type\":\"Scatter\"},{\"attributes\":{},\"id\":\"1549\",\"type\":\"HelpTool\"},{\"attributes\":{\"data\":{\"x\":[1,2,3,4,5,6,7],\"y\":[0.3718449350821093,0.39328060138088866,0.3784955272936298,0.44251979719237056,0.43456315263365036,0.34020763928627823,0.31251327073280627]},\"selected\":{\"id\":\"1570\"},\"selection_policy\":{\"id\":\"1571\"}},\"id\":\"1558\",\"type\":\"ColumnDataSource\"},{\"attributes\":{},\"id\":\"1541\",\"type\":\"BasicTicker\"}],\"root_ids\":[\"1525\"]},\"title\":\"Bokeh Application\",\"version\":\"2.3.1\"}};\n  var render_items = [{\"docid\":\"15303012-0540-405b-bf4f-a2de6e9e680b\",\"root_ids\":[\"1525\"],\"roots\":{\"1525\":\"c8afa53e-20ef-439c-968e-e63ed97d56af\"}}];\n  root.Bokeh.embed.embed_items_notebook(docs_json, render_items);\n\n  }\n  if (root.Bokeh !== undefined) {\n    embed_document(root);\n  } else {\n    var attempts = 0;\n    var timer = setInterval(function(root) {\n      if (root.Bokeh !== undefined) {\n        clearInterval(timer);\n        embed_document(root);\n      } else {\n        attempts++;\n        if (attempts > 100) {\n          clearInterval(timer);\n          console.log(\"Bokeh: ERROR: Unable to run BokehJS code because BokehJS library is missing\");\n        }\n      }\n    }, 10, root)\n  }\n})(window);",
      "application/vnd.bokehjs_exec.v0+json": ""
     },
     "metadata": {
      "application/vnd.bokehjs_exec.v0+json": {
       "id": "1525"
      }
     },
     "output_type": "display_data"
    }
   ],
   "source": [
    "#plot RMSE for a range of lags p \n",
    "n = 2\n",
    "rmse_ar=[]\n",
    "for n in range(1,8):\n",
    "    model = AutoReg(remaining, lags= n)\n",
    "    model_fit = model.fit()\n",
    "    coef = model_fit.params\n",
    "    past = remaining[len(remaining)-n:].values\n",
    "    past = [past[i] for i in range(len(past))]    \n",
    "    test_predictions = list()\n",
    "    for t in range(len(remaining_test.dropna())):\n",
    "        length = len(past)\n",
    "        lag = [past[i] for i in range(length-n,length)]\n",
    "        pred = coef[0]\n",
    "        for d in range(n):\n",
    "            pred += coef[d+1] * lag[n-d-1]\n",
    "        obs = remaining_test.values[t]\n",
    "        test_predictions.append(pred)\n",
    "        past.append(obs)\n",
    "    rmse = (mean_squared_error(remaining_test.dropna(), test_predictions))**0.5\n",
    "    rmse_ar.append(rmse)\n",
    "    print('Test RMSE for AR(' + str(n) +'):' + str(rmse))\n",
    "\n",
    "p = figure(plot_width=400, plot_height=400, title = \"RMSE of AR Models of order n\")\n",
    "p.scatter(np.arange(1,8),rmse_ar,size = 15, marker =\"square\", line_color=\"navy\",fill_color=\"orange\", fill_alpha =0.5, legend_label =\"RMSE\")\n",
    "p.xaxis.axis_label ='n'\n",
    "p.yaxis.axis_label ='RMSE'\n",
    "p.legend.location='bottom_right'\n",
    "show(p)"
   ]
  },
  {
   "cell_type": "markdown",
   "metadata": {},
   "source": [
    "The plot above seems to indicate the AR(1) model predictions have the least rmse. While it would have been ideal to have our previous conclusion of model order 2 validated by the RMSE, we should note this kind of discrepancy between the two diagnostic methods (rmse and PACF) can occur when working with finite data sets. In order to proceed, we choose to work with model order of 2 so we do not miss out on possible lag terms."
   ]
  },
  {
   "cell_type": "code",
   "execution_count": 11,
   "metadata": {},
   "outputs": [
    {
     "name": "stderr",
     "output_type": "stream",
     "text": [
      "/anaconda3/lib/python3.7/site-packages/statsmodels/tsa/ar_model.py:252: FutureWarning: The parameter names will change after 0.12 is released. Set old_names to False to use the new names now. Set old_names to True to use the old names. \n",
      "  FutureWarning,\n"
     ]
    }
   ],
   "source": [
    "## Building AR (2) Model \n",
    "n = 2\n",
    "AR2_model = AutoReg(remaining, lags= n).fit()# Here we have used the default value for the trend parameter\n",
    "coef = AR2_model.params\n",
    "# walk forward over time steps in test\n",
    "past = remaining[len(remaining)-n:].values\n",
    "past = [past[i] for i in range(len(past))]\n",
    "test_predictions = list()\n",
    "training_predictions = AR2_model.predict(start = train[0], end =train[-1])\n",
    "for t in range(len(remaining_test)):\n",
    "    length = len(past)\n",
    "    lag = [past[i] for i in range(length-n,length)]\n",
    "    pred = coef[0]\n",
    "    for d in range(n):\n",
    "        pred += coef[d+1] * lag[n-d-1]\n",
    "    obs = remaining_test.values[t]\n",
    "    test_predictions.append(pred)\n",
    "    past.append(obs)\n",
    "final_training = (rebuild_diffed(training_predictions,np.log(cpi_train.CPI[0]),x,linear_cpi))\n",
    "final_test = (rebuild_diffed(test_predictions,np.log(cpi_train.iloc[-1].CPI),x,linear_cpi_test))\n",
    "\n"
   ]
  },
  {
   "cell_type": "markdown",
   "metadata": {},
   "source": [
    "We now plot the final model predictions and the actual observed data together to visualize the fit."
   ]
  },
  {
   "cell_type": "code",
   "execution_count": 12,
   "metadata": {},
   "outputs": [
    {
     "data": {
      "text/html": [
       "\n",
       "\n",
       "\n",
       "\n",
       "\n",
       "\n",
       "  <div class=\"bk-root\" id=\"5ec2b7b9-c84d-4e1a-8a39-a03a2070ddef\" data-root-id=\"1677\"></div>\n"
      ]
     },
     "metadata": {},
     "output_type": "display_data"
    },
    {
     "data": {
      "application/javascript": "(function(root) {\n  function embed_document(root) {\n    \n  var docs_json = {\"bc649612-fd55-428a-9eef-9875bf4fae0f\":{\"defs\":[],\"roots\":{\"references\":[{\"attributes\":{\"below\":[{\"id\":\"1688\"}],\"center\":[{\"id\":\"1691\"},{\"id\":\"1695\"},{\"id\":\"1725\"}],\"height\":400,\"left\":[{\"id\":\"1692\"}],\"renderers\":[{\"id\":\"1713\"},{\"id\":\"1730\"},{\"id\":\"1748\"},{\"id\":\"1768\"}],\"title\":{\"id\":\"1678\"},\"toolbar\":{\"id\":\"1703\"},\"width\":800,\"x_range\":{\"id\":\"1680\"},\"x_scale\":{\"id\":\"1684\"},\"y_range\":{\"id\":\"1682\"},\"y_scale\":{\"id\":\"1686\"}},\"id\":\"1677\",\"subtype\":\"Figure\",\"type\":\"Plot\"},{\"attributes\":{\"items\":[{\"id\":\"1726\"},{\"id\":\"1744\"},{\"id\":\"1764\"},{\"id\":\"1786\"}],\"location\":\"bottom_right\"},\"id\":\"1725\",\"type\":\"Legend\"},{\"attributes\":{},\"id\":\"1680\",\"type\":\"DataRange1d\"},{\"attributes\":{\"line_alpha\":0.1,\"line_dash\":[6],\"line_width\":2.5,\"x\":{\"field\":\"x\"},\"y\":{\"field\":\"y\"}},\"id\":\"1712\",\"type\":\"Line\"},{\"attributes\":{\"line_color\":\"red\",\"line_width\":2.5,\"x\":{\"field\":\"x\"},\"y\":{\"field\":\"y\"}},\"id\":\"1746\",\"type\":\"Line\"},{\"attributes\":{\"data_source\":{\"id\":\"1710\"},\"glyph\":{\"id\":\"1711\"},\"hover_glyph\":null,\"muted_glyph\":null,\"nonselection_glyph\":{\"id\":\"1712\"},\"view\":{\"id\":\"1714\"}},\"id\":\"1713\",\"type\":\"GlyphRenderer\"},{\"attributes\":{},\"id\":\"1762\",\"type\":\"UnionRenderers\"},{\"attributes\":{},\"id\":\"1686\",\"type\":\"LinearScale\"},{\"attributes\":{},\"id\":\"1696\",\"type\":\"PanTool\"},{\"attributes\":{\"label\":{\"value\":\"Final AR(2) Model (Training Data Fit)\"},\"renderers\":[{\"id\":\"1748\"}]},\"id\":\"1764\",\"type\":\"LegendItem\"},{\"attributes\":{},\"id\":\"1741\",\"type\":\"Selection\"},{\"attributes\":{\"axis\":{\"id\":\"1688\"},\"ticker\":null},\"id\":\"1691\",\"type\":\"Grid\"},{\"attributes\":{},\"id\":\"1700\",\"type\":\"ResetTool\"},{\"attributes\":{},\"id\":\"1783\",\"type\":\"Selection\"},{\"attributes\":{},\"id\":\"1699\",\"type\":\"SaveTool\"},{\"attributes\":{\"line_alpha\":0.1,\"line_color\":\"orange\",\"line_width\":2.5,\"x\":{\"field\":\"x\"},\"y\":{\"field\":\"y\"}},\"id\":\"1767\",\"type\":\"Line\"},{\"attributes\":{\"data_source\":{\"id\":\"1765\"},\"glyph\":{\"id\":\"1766\"},\"hover_glyph\":null,\"muted_glyph\":null,\"nonselection_glyph\":{\"id\":\"1767\"},\"view\":{\"id\":\"1769\"}},\"id\":\"1768\",\"type\":\"GlyphRenderer\"},{\"attributes\":{},\"id\":\"1697\",\"type\":\"WheelZoomTool\"},{\"attributes\":{\"source\":{\"id\":\"1727\"}},\"id\":\"1731\",\"type\":\"CDSView\"},{\"attributes\":{\"overlay\":{\"id\":\"1702\"}},\"id\":\"1698\",\"type\":\"BoxZoomTool\"},{\"attributes\":{\"source\":{\"id\":\"1765\"}},\"id\":\"1769\",\"type\":\"CDSView\"},{\"attributes\":{},\"id\":\"1719\",\"type\":\"AllLabels\"},{\"attributes\":{\"data_source\":{\"id\":\"1727\"},\"glyph\":{\"id\":\"1728\"},\"hover_glyph\":null,\"muted_glyph\":null,\"nonselection_glyph\":{\"id\":\"1729\"},\"view\":{\"id\":\"1731\"}},\"id\":\"1730\",\"type\":\"GlyphRenderer\"},{\"attributes\":{},\"id\":\"1701\",\"type\":\"HelpTool\"},{\"attributes\":{\"line_dash\":[6],\"line_width\":2.5,\"x\":{\"field\":\"x\"},\"y\":{\"field\":\"y\"}},\"id\":\"1711\",\"type\":\"Line\"},{\"attributes\":{},\"id\":\"1693\",\"type\":\"BasicTicker\"},{\"attributes\":{\"line_color\":\"orange\",\"line_width\":2.5,\"x\":{\"field\":\"x\"},\"y\":{\"field\":\"y\"}},\"id\":\"1766\",\"type\":\"Line\"},{\"attributes\":{},\"id\":\"1721\",\"type\":\"BasicTickFormatter\"},{\"attributes\":{\"label\":{\"value\":\"Training Data\"},\"renderers\":[{\"id\":\"1713\"}]},\"id\":\"1726\",\"type\":\"LegendItem\"},{\"attributes\":{},\"id\":\"1718\",\"type\":\"BasicTickFormatter\"},{\"attributes\":{\"line_alpha\":0.1,\"line_color\":\"green\",\"line_dash\":[6],\"line_width\":2.5,\"x\":{\"field\":\"x\"},\"y\":{\"field\":\"y\"}},\"id\":\"1729\",\"type\":\"Line\"},{\"attributes\":{},\"id\":\"1784\",\"type\":\"UnionRenderers\"},{\"attributes\":{\"source\":{\"id\":\"1710\"}},\"id\":\"1714\",\"type\":\"CDSView\"},{\"attributes\":{},\"id\":\"1716\",\"type\":\"AllLabels\"},{\"attributes\":{\"label\":{\"value\":\"Final AR(2) Model Predictions\"},\"renderers\":[{\"id\":\"1768\"}]},\"id\":\"1786\",\"type\":\"LegendItem\"},{\"attributes\":{},\"id\":\"1689\",\"type\":\"BasicTicker\"},{\"attributes\":{\"line_color\":\"green\",\"line_dash\":[6],\"line_width\":2.5,\"x\":{\"field\":\"x\"},\"y\":{\"field\":\"y\"}},\"id\":\"1728\",\"type\":\"Line\"},{\"attributes\":{},\"id\":\"1682\",\"type\":\"DataRange1d\"},{\"attributes\":{\"axis\":{\"id\":\"1692\"},\"dimension\":1,\"ticker\":null},\"id\":\"1695\",\"type\":\"Grid\"},{\"attributes\":{},\"id\":\"1684\",\"type\":\"LinearScale\"},{\"attributes\":{},\"id\":\"1742\",\"type\":\"UnionRenderers\"},{\"attributes\":{\"data\":{\"x\":[62,63,64,65,66,67,68,69,70,71,72,73,74,75,76,77,78,79,80,81,82,83,84,85,86,87,88,89,90,91,92,93,94,95,96,97,98,99,100,101,102,103,104,105,106,107,108,109,110,111,112,113,114,115,116,117,118,119,120,121,122,123,124,125,126,127,128,129,130,131,132,133,134,135,136],\"y\":{\"__ndarray__\":\"BoGVQ4u4WkAqOpLLf8BaQGaIY13crlpAm+Ydp+igWkBqTfOOU6BaQKH4MeauuVpAl/+QfvvSWkDlYaHWNP9aQPW52or9FVtAke18PzUuW0C6SQwCKztbQJzEILByOFtAf/s6cM4sW0CDL0ymCjJbQLivA+eMIFtAOwFNhA37WkAy5q4l5NNaQHrHKTqSs1pAGsBbIEHRWkDZX3ZPHvpaQFyPwvUoCFtAM8SxLm4rW0DHKTqSy0NbQHh6pSxDRFtAn6ut2F86W0CdgCbChi9bQA5Pr5RlLFtAGeJYF7cdW0D1udqK/QVbQNqs+lxtEVtAkDF3LSEXW0CiRbbz/TRbQLx0kxgEVltAw2SqYFRyW0DFILByaIlbQKfoSC7/fVtA/yH99nWEW0Bhw9MrZZVbQOC+DpwznltA5WGh1jSTW0CTOgFNhJVbQJEPejarvltAt9EA3gLVW0Am5IOezdpbQHKKjuTy71tAmbuWkA/2W0Bq3nGKjvxbQFYOLbKd91tA4umVsgwNXEBQjZduEjNcQOauJeSDLlxAppvEILAuXEBDrWnecSpcQH0/NV66UVxAnzws1JpyXEBQjZduEoNcQAdfmEwVoFxAw/UoXI++XECYTBWMSspcQBBYObTIylxAexSuR+HOXEBIUPwYc9dcQCo6kst/5FxAJCh+jLnLXEBxGw3gLbRcQHxhMlUwwlxAqDXNO07hXEAQ6bevAwtdQAMJih9jMl1ASnuDL0xCXUAW+8vuyUNdQFXBqKROUF1Aq8/VVuxPXUAAAAAAAAD4fwAAAAAAAPh/\",\"dtype\":\"float64\",\"order\":\"little\",\"shape\":[75]}},\"selected\":{\"id\":\"1741\"},\"selection_policy\":{\"id\":\"1742\"}},\"id\":\"1727\",\"type\":\"ColumnDataSource\"},{\"attributes\":{\"label\":{\"value\":\"Test Data\"},\"renderers\":[{\"id\":\"1730\"}]},\"id\":\"1744\",\"type\":\"LegendItem\"},{\"attributes\":{},\"id\":\"1723\",\"type\":\"UnionRenderers\"},{\"attributes\":{\"axis_label\":\"t\",\"formatter\":{\"id\":\"1718\"},\"major_label_policy\":{\"id\":\"1716\"},\"ticker\":{\"id\":\"1689\"}},\"id\":\"1688\",\"type\":\"LinearAxis\"},{\"attributes\":{\"bottom_units\":\"screen\",\"fill_alpha\":0.5,\"fill_color\":\"lightgrey\",\"left_units\":\"screen\",\"level\":\"overlay\",\"line_alpha\":1.0,\"line_color\":\"black\",\"line_dash\":[4,4],\"line_width\":2,\"right_units\":\"screen\",\"syncable\":false,\"top_units\":\"screen\"},\"id\":\"1702\",\"type\":\"BoxAnnotation\"},{\"attributes\":{\"data\":{\"x\":[62,63,64,65,66,67,68,69,70,71,72,73,74,75,76,77,78,79,80,81,82,83,84,85,86,87,88,89,90,91,92,93,94,95,96,97,98,99,100,101,102,103,104,105,106,107,108,109,110,111,112,113,114,115,116,117,118,119,120,121,122,123,124,125,126,127,128,129,130,131,132,133,134,135,136],\"y\":{\"__ndarray__\":\"bh/niCexWkDEQkCJvLxaQMtnFhsKxVpA2iLMuZqrWkBGxQRHoqRaQBtkhU5nrVpAAlutVWnRWkAfgmAek+daQL3qeY7RFltAiMtySqMfW0BZVhQrvDVbQKrUnIIrPFtAzIUzSNMzW0BPsOaO/idbQDEoufs8N1tARI6KFnEfW0BHDogDOvlaQP6NrKFt21pA4i2msZHHWkBqnyJlJgJbQM3ogY2eKltAGU0ZbKYpW0ANb0eWBFNbQK0kC6SuYltA9p3PsIBYW0BpYFYZTU1bQEIThU9TRltAUORfahNKW0BHr2o4cDpbQPc7CmX2JFtATFP0MtRCW0CH+0rzcEZbQD/Y57sTbVtAhLZA5BKLW0CHDYpHKKFbQOyjmr7PsltADEYdgJeZW0D0wcoBV6pbQKRrS4p1v1tAd9hBEkPEW0D1+XIhK7NbQIOXlKAyvltAt6PI55P1W0B2WZVvcf9bQHr+oKZi/VtAu4amf28YXEB9hEPGbxdcQBXz5//sHlxAZ9b+lhIXXECK0S1yMzhcQOrBibFJYVxAKOW+dzVJXEDp84m+/U1cQEgt1PFqSlxAlz6Yfs2CXEBlw4mimptcQHwO5sUVolxAHnPbWuHBXEB8XnsJ9dxcQDUTvXZx3lxAM4fu5ADbXED4aGFrTOJcQGghZz6a7VxAx84nQ3b8XEAEMHGK4NZcQHL00OP+xlxA/VudKCzoXEB9MIcwDwxdQI4rs8/iNF1AOxU/k/9UXUCo1WhVS1ddQEY/fDH1Ul1ABg10Dd9kXUAsRWtn2l9dQAAAAAAAAPh/\",\"dtype\":\"float64\",\"order\":\"little\",\"shape\":[75]}},\"selected\":{\"id\":\"1783\"},\"selection_policy\":{\"id\":\"1784\"}},\"id\":\"1765\",\"type\":\"ColumnDataSource\"},{\"attributes\":{\"active_multi\":null,\"tools\":[{\"id\":\"1696\"},{\"id\":\"1697\"},{\"id\":\"1698\"},{\"id\":\"1699\"},{\"id\":\"1700\"},{\"id\":\"1701\"}]},\"id\":\"1703\",\"type\":\"Toolbar\"},{\"attributes\":{},\"id\":\"1761\",\"type\":\"Selection\"},{\"attributes\":{\"axis_label\":\"CPI\",\"formatter\":{\"id\":\"1721\"},\"major_label_policy\":{\"id\":\"1719\"},\"ticker\":{\"id\":\"1693\"}},\"id\":\"1692\",\"type\":\"LinearAxis\"},{\"attributes\":{\"data\":{\"x\":[0,1,2,3,4,5,6,7,8,9,10,11,12,13,14,15,16,17,18,19,20,21,22,23,24,25,26,27,28,29,30,31,32,33,34,35,36,37,38,39,40,41,42,43,44,45,46,47,48,49,50,51,52,53,54,55,56,57,58,59,60,61],\"y\":{\"__ndarray__\":\"AAAAAAAAWUBLyAc9myFZQKvP1VbsB1lAe4hGdxD/WEActi3KbL5YQKWg20saRVhAl6jeGtgEWEBLyAc9mx9YQE6c3O9QPlhA1ouhnGhNWEDw+WGE8FxYQNBE2PD0blhAcVrwoq+kWEAYQznRrppYQOl942vPqFhAWwhyUMKsWEB00vvG17JYQOi8xi5Rt1hA48KBkCysWEDkvWplwsFYQEX11sBWw1hArHMMyF7dWEA/jBAebehYQHYyOEpe7VhAd6G5TiPnWECRm+EGfOhYQMjqVs9J8VhA0GG+vAD1WEAFhqxu9fxYQPLNNjem/1hAe4MvTKYKWUB3vp8aLylZQMX+snvySFlA8tJNYhCIWUBSSZ2AJrJZQHBfB84Z0VlAbqMBvAXKWUAdWmQ7389ZQBKlvcEX4llAqmBUUifsWUBYObTIdt5ZQCL99nXg2FlAat5xio7IWUCamZmZmeVZQMKGp1fKAlpA6Nms+lw1WkASg8DKoUlaQC9uowG8QVpAzojS3uA3WkAU0ETY8CxaQFioNc07UlpAo5I6AU1wWkCLbOf7qW1aQEvIBz2bTVpADwu1pnk7WkDIBz2bVU9aQNEi2/l+hlpAFR3J5T+YWkATYcPTK5FaQOF6FK5HnVpAEoPAyqGtWkBqTfOOU7BaQA==\",\"dtype\":\"float64\",\"order\":\"little\",\"shape\":[62]}},\"selected\":{\"id\":\"1722\"},\"selection_policy\":{\"id\":\"1723\"}},\"id\":\"1710\",\"type\":\"ColumnDataSource\"},{\"attributes\":{\"line_alpha\":0.1,\"line_color\":\"red\",\"line_width\":2.5,\"x\":{\"field\":\"x\"},\"y\":{\"field\":\"y\"}},\"id\":\"1747\",\"type\":\"Line\"},{\"attributes\":{},\"id\":\"1722\",\"type\":\"Selection\"},{\"attributes\":{\"data_source\":{\"id\":\"1745\"},\"glyph\":{\"id\":\"1746\"},\"hover_glyph\":null,\"muted_glyph\":null,\"nonselection_glyph\":{\"id\":\"1747\"},\"view\":{\"id\":\"1749\"}},\"id\":\"1748\",\"type\":\"GlyphRenderer\"},{\"attributes\":{\"data\":{\"x\":[0,1,2,3,4,5,6,7,8,9,10,11,12,13,14,15,16,17,18,19,20,21,22,23,24,25,26,27,28,29,30,31,32,33,34,35,36,37,38,39,40,41,42,43,44,45,46,47,48,49,50,51,52,53,54,55,56,57,58,59,60,61],\"y\":{\"__ndarray__\":\"AAAAAAAA+H8AAAAAAAD4f20xsZhWBVlAU3vUk6PTWEBKC9sirtdYQB/Jl9r0iFhA3hYDyc8MWEAD2caGSfpXQEELIGH0QVhA0nGWmYheWEAp3nleWGRYQKKJj9UGc1hAy8jnQ8SEWED9Au8kdcRYQN0KYwvVnFhAPowXBfq2WEAqL9vx1rZYQND1WnPuvlhA6EB2acLDWEAmxdkLxbRYQJObJhZk2VhAIPB9vyjSWEC8AO2V6fVYQDF1r0fd+FhAHeSdIqz7WED2kwDj7/JYQDVGPlEp+lhAydIBHzwHWUANVb8NnQlZQGkPYLtOFFlAP5A958cVWUCUutlfDCVZQC26tffCSVlA5f0UlLtlWUCWrhGljapZQIwYXe3kwllAjLRjYajXWUBxV3ip/r9ZQAxXFjehzVlAJTGdJMfkWUBxGc3vjupZQFyI44U71VlAQMFY+jzXWUB+PsqLvMZZQH2oTjv691lA1594qFURWkAcWAyw6kZaQD0Nl2wJSVpAHHurkvU1WkDt+OJ3PS9aQCDvTvggKFpALA4HuG5hWkCHsTxEkndaQC8/ZKJBZlpAnATteFs/WkBv8SQ1gjpaQGpvZe6NYFpApgxN4CmhWkDiKl7FhJ1aQJkxzEncjFpALPDk0seiWkCenpb3IbRaQA==\",\"dtype\":\"float64\",\"order\":\"little\",\"shape\":[62]}},\"selected\":{\"id\":\"1761\"},\"selection_policy\":{\"id\":\"1762\"}},\"id\":\"1745\",\"type\":\"ColumnDataSource\"},{\"attributes\":{\"text\":\"CPI predictions\"},\"id\":\"1678\",\"type\":\"Title\"},{\"attributes\":{\"source\":{\"id\":\"1745\"}},\"id\":\"1749\",\"type\":\"CDSView\"}],\"root_ids\":[\"1677\"]},\"title\":\"Bokeh Application\",\"version\":\"2.3.1\"}};\n  var render_items = [{\"docid\":\"bc649612-fd55-428a-9eef-9875bf4fae0f\",\"root_ids\":[\"1677\"],\"roots\":{\"1677\":\"5ec2b7b9-c84d-4e1a-8a39-a03a2070ddef\"}}];\n  root.Bokeh.embed.embed_items_notebook(docs_json, render_items);\n\n  }\n  if (root.Bokeh !== undefined) {\n    embed_document(root);\n  } else {\n    var attempts = 0;\n    var timer = setInterval(function(root) {\n      if (root.Bokeh !== undefined) {\n        clearInterval(timer);\n        embed_document(root);\n      } else {\n        attempts++;\n        if (attempts > 100) {\n          clearInterval(timer);\n          console.log(\"Bokeh: ERROR: Unable to run BokehJS code because BokehJS library is missing\");\n        }\n      }\n    }, 10, root)\n  }\n})(window);",
      "application/vnd.bokehjs_exec.v0+json": ""
     },
     "metadata": {
      "application/vnd.bokehjs_exec.v0+json": {
       "id": "1677"
      }
     },
     "output_type": "display_data"
    }
   ],
   "source": [
    "p = figure(plot_width=800, plot_height=400, title = \"CPI predictions\")\n",
    "p.line(cpi_train.index,cpi_train.CPI,line_width =2.5, line_color=\"black\", line_dash=\"dashed\", legend_label =\"Training Data\")\n",
    "p.line(cpi_test.index,cpi_test.CPI,line_width =2.5, line_color=\"green\", line_dash=\"dashed\", legend_label =\"Test Data\")\n",
    "p.line(cpi_train.index,final_training,line_color=\"red\",line_width=2.5,legend_label =\"Final AR(2) Model (Training Data Fit)\")\n",
    "p.line(cpi_test.index,final_test,line_color=\"orange\",line_width=2.5,legend_label =\"Final AR(2) Model Predictions\")\n",
    "\n",
    "\n",
    "p.legend.location = \"bottom_right\"\n",
    "p.xaxis.axis_label ='t'\n",
    "p.yaxis.axis_label ='CPI'\n",
    "\n",
    "show(p)\n"
   ]
  },
  {
   "cell_type": "markdown",
   "metadata": {},
   "source": [
    "We see that the AR(2) Model does predict pretty well and the mean squared prediction error is small. We can also reaffirm this conclusion by plotting the residuals after the AR(2) predictions are subtracted from the detrended data "
   ]
  },
  {
   "cell_type": "code",
   "execution_count": 13,
   "metadata": {},
   "outputs": [
    {
     "data": {
      "image/png": "[encoded data removed]",
      "text/plain": [
       "<Figure size 432x288 with 1 Axes>"
      ]
     },
     "metadata": {
      "needs_background": "light"
     },
     "output_type": "display_data"
    }
   ],
   "source": [
    "residuals = (remaining - training_predictions)[2:]\n",
    "plot_pacf(residuals)\n",
    "plt.show()"
   ]
  },
  {
   "cell_type": "code",
   "execution_count": 14,
   "metadata": {},
   "outputs": [
    {
     "name": "stdout",
     "output_type": "stream",
     "text": [
      "The rmse of the final fit is 0.39328060138088855\n"
     ]
    }
   ],
   "source": [
    "rmse = mean_squared_error(cpi_test.dropna().CPI,final_test[:-2])**0.5\n",
    "print(\"The rmse of the final fit is \" + str(rmse))"
   ]
  },
  {
   "cell_type": "markdown",
   "metadata": {},
   "source": [
    "We see that the fit has a low rmse, considering that the order of the data is $10^2$."
   ]
  },
  {
   "cell_type": "markdown",
   "metadata": {},
   "source": [
    "**Inflation Rate**\n",
    "In the next part of the question, since we will be working with external regressors that have different units(such as BER), we must first convert all the data into an equivalent form, i.e monthly inflation rates. We will first do so for CPI from which inflation rates can be simply calculated as\n",
    "> $IR_t = \\frac{CPI_t -CPI_{t-1}}{CPI_{t-1}}$"
   ]
  },
  {
   "cell_type": "code",
   "execution_count": 15,
   "metadata": {},
   "outputs": [],
   "source": [
    "def calc_inflation_rate(data):\n",
    "    ir = []\n",
    "    for i in range(1,len(data)):\n",
    "        ir_temp = (data[i]-data[i-1])/data[i-1] *100 # in percentage     \n",
    "        ir.append(ir_temp)\n",
    "#         print(i)\n",
    "    return ir"
   ]
  },
  {
   "cell_type": "code",
   "execution_count": 78,
   "metadata": {},
   "outputs": [
    {
     "name": "stdout",
     "output_type": "stream",
     "text": [
      "The inflation rate from CPI for the month of February in 2013 was 0.295722930 %\n",
      "The inflation rate from CPI for the month of February in 2013 was 0.295286530 %\n"
     ]
    }
   ],
   "source": [
    "#calculate monthly inflation from CPI\n",
    "val = calc_inflation_rate(cpi.CPI.values)\n",
    "val2=np.log(cpi.CPI).diff().values*100  # in percentage\n",
    "\n",
    "cpi.loc[1:, 'IR_cpi'] = val\n",
    "cpi['diff_log'] = val2\n",
    "\n",
    "cpi_ir_train = (cpi[cpi.YearMonth<'2013-09'].copy())\n",
    "cpi_ir_test = (cpi[cpi.YearMonth >='2013-09'].copy())\n",
    "\n",
    "print(\"The inflation rate from CPI for the month of February in 2013 was %0.9f\" % cpi[cpi.YearMonth =='2013-02']['IR_cpi'] + \" %\")\n",
    "print(\"The inflation rate from CPI for the month of February in 2013 was %0.9f\" % cpi[cpi.YearMonth =='2013-02']['diff_log'] + \" %\")\n"
   ]
  },
  {
   "cell_type": "code",
   "execution_count": 141,
   "metadata": {},
   "outputs": [
    {
     "data": {
      "text/html": [
       "\n",
       "\n",
       "\n",
       "\n",
       "\n",
       "\n",
       "  <div class=\"bk-root\" id=\"8cbcbcd4-6a7e-4dc3-9290-17708a0b4f47\" data-root-id=\"19860\"></div>\n"
      ]
     },
     "metadata": {},
     "output_type": "display_data"
    },
    {
     "data": {
      "application/javascript": "(function(root) {\n  function embed_document(root) {\n    \n  var docs_json = {\"b27fc1dc-1dee-4534-81e3-4b3a6c2641ef\":{\"defs\":[],\"roots\":{\"references\":[{\"attributes\":{\"below\":[{\"id\":\"19871\"}],\"center\":[{\"id\":\"19874\"},{\"id\":\"19878\"}],\"height\":400,\"left\":[{\"id\":\"19875\"}],\"renderers\":[{\"id\":\"19896\"},{\"id\":\"19901\"}],\"title\":{\"id\":\"19861\"},\"toolbar\":{\"id\":\"19886\"},\"width\":400,\"x_range\":{\"id\":\"19863\"},\"x_scale\":{\"id\":\"19867\"},\"y_range\":{\"id\":\"19865\"},\"y_scale\":{\"id\":\"19869\"}},\"id\":\"19860\",\"subtype\":\"Figure\",\"type\":\"Plot\"},{\"attributes\":{\"line_alpha\":0.1,\"line_color\":\"navy\",\"line_width\":2.5,\"x\":{\"field\":\"x\"},\"y\":{\"field\":\"y\"}},\"id\":\"19895\",\"type\":\"Line\"},{\"attributes\":{\"line_alpha\":0.1,\"line_color\":\"orange\",\"line_width\":2.5,\"x\":{\"field\":\"x\"},\"y\":{\"field\":\"y\"}},\"id\":\"19900\",\"type\":\"Line\"},{\"attributes\":{},\"id\":\"19879\",\"type\":\"PanTool\"},{\"attributes\":{},\"id\":\"19876\",\"type\":\"BasicTicker\"},{\"attributes\":{},\"id\":\"19880\",\"type\":\"WheelZoomTool\"},{\"attributes\":{\"data\":{\"x\":[0,1,2,3,4,5,6,7,8,9,10,11,12,13,14,15,16,17,18,19,20,21,22,23,24,25,26,27,28,29,30,31,32,33,34,35,36,37,38,39,40,41,42,43,44,45,46,47,48,49,50,51,52,53,54,55,56,57,58,59,60,61,62,63,64,65,66,67,68,69,70,71,72,73,74,75,76,77,78,79,80,81,82,83,84,85,86,87,88,89,90,91,92,93,94,95,96,97,98,99,100,101,102,103,104,105,106,107,108,109,110,111,112,113,114,115,116,117,118,119,120,121,122,123,124,125,126,127,128,129,130,131,132,133,134,135,136],\"y\":{\"__ndarray__\":\"AAAAAAAA+H8Az6lbXcLgP8CX3Qilmdm/gIckx0W1wb+A3d0mkD7wvwA+Ybga8f6/cC7sG1Gi8L9ASzpfgMvbP0ABmagqv98/gHFk/9MWzz+Ab5+o4enPP8BC5mcwdtI/YCbYysVe6z+AdR/t5E/EvwB1pOtTrcw/AKhaOyMCsD8A6pIE6aS4PwBCog7kG7I/gNnHYNyPxr+AreVrn9XVPwAgF7tvhJk/wDCNSwU62j+AEgPrhzbGPwBu35Zu1bM/AA7Cxa4Bub8A6NRKb6CVP4Aw26cRqcE/AIpwtrrGrT8ATGTbudu/PwA09kG6h6U/AGBWIaP7xT+AjiRoS2neP8AWz2OIe98/YNtBDDYN7z9gMLITAYrkP0DtM+qkCt4/AFlXNbhuu78Ak9YSIKy2P8B1p9qRn9E/gKnQbJdrwz8A+tfzoW7KvwBywFdvm7W/gLQYGPObz7+Airv/VBncP4CRY2cbHtw/QFfOfzo26D+AtTKGGU7TPwCSjXWID76/gCUaX0LIwr+AXfH2MODEv8COrfp1wuE/wMls+pF+3D8AwvDsTvOjvwDyy1SlZd6/wON6r5NB0b9ACM94+eXSP2BMu9vTGeo/ALlQZPi10D8A2yS+MKG6vwCE0C7TxMY/gLvLlPWuzj8ADmlq+zGkPwDEQuOfxb4/AHAVFhLBvT+A6zgEKoHQv4BD50SxK8q/APj/BG1/gb+AxAEtjsPXPwBOAKdOn9c/4MaK3c6K5D+AFQ9uYxDVP0BcwxZLUNY/gFkmtIXRxz8AFktWJfujv4BW2xraZsW/AEAOsutBsz+Ap0PScBnQvwCxq4lQU+G/ALWxnOox4r/AiSBecDDevwAg8ONIu9s/gMnBvKn94j8AHmjyqf/JP6AQj4qpROA/QGhk5kRh1j8AcGAVhWp7PwDOrtkXJcK/AOEWxajvw78AClFucgenvwB9Q6INC8u/AL6OjCzp1b8AXCH5uCTFPwB3m4znDrU/wKrc0r1/2z+A12bF/kXeP0CAdlGB19k/QJ3etZr81D8ALqiumrzEvwBkur5YgLc/AB0Zy7+7zj8AJ6naBui/P4Bh9PXe68O/AEQHsCPBoD+gu5QCJpjiP8BCDfG3GdQ/AK8bT1TNtD9AQNR6TfPSPwBnE5RD3rU/AHf57b84tz8ANWBrCKmxv8AR5rGEIdM/QKQn5BPm4D8Aq6aKDCqwvwBgWmv6nmM/AMhtPg0frr8Ayw2T92LhP4BDiIsv9dw/ADdSvQjpzD+AIFSCJWPZP8CQQMXRj9o/AGwl88tjxD8AII7J3GJ7PwBcdxG/caw/AHZBT9q6vT8ApM1IWJrGPwAEalD+eNW/QOENdH551L+AvcJLZ2HIPwAPsMc3/to/QG1Nf3gA4j+Aj13Ys+bgP4DwS1nEN8s/AECqj1pilD+A1mkszF7FPwDAiNTD9XS/AAAAAAAA+H8AAAAAAAD4fw==\",\"dtype\":\"float64\",\"order\":\"little\",\"shape\":[137]}},\"selected\":{\"id\":\"20488\"},\"selection_policy\":{\"id\":\"20489\"}},\"id\":\"19893\",\"type\":\"ColumnDataSource\"},{\"attributes\":{\"data_source\":{\"id\":\"19893\"},\"glyph\":{\"id\":\"19894\"},\"hover_glyph\":null,\"muted_glyph\":null,\"nonselection_glyph\":{\"id\":\"19895\"},\"view\":{\"id\":\"19897\"}},\"id\":\"19896\",\"type\":\"GlyphRenderer\"},{\"attributes\":{\"line_color\":\"navy\",\"line_width\":2.5,\"x\":{\"field\":\"x\"},\"y\":{\"field\":\"y\"}},\"id\":\"19894\",\"type\":\"Line\"},{\"attributes\":{\"overlay\":{\"id\":\"19885\"}},\"id\":\"19881\",\"type\":\"BoxZoomTool\"},{\"attributes\":{},\"id\":\"19869\",\"type\":\"LinearScale\"},{\"attributes\":{},\"id\":\"19882\",\"type\":\"SaveTool\"},{\"attributes\":{},\"id\":\"19883\",\"type\":\"ResetTool\"},{\"attributes\":{},\"id\":\"19884\",\"type\":\"HelpTool\"},{\"attributes\":{\"axis\":{\"id\":\"19871\"},\"ticker\":null},\"id\":\"19874\",\"type\":\"Grid\"},{\"attributes\":{\"source\":{\"id\":\"19893\"}},\"id\":\"19897\",\"type\":\"CDSView\"},{\"attributes\":{},\"id\":\"20491\",\"type\":\"UnionRenderers\"},{\"attributes\":{},\"id\":\"19863\",\"type\":\"DataRange1d\"},{\"attributes\":{\"active_multi\":null,\"tools\":[{\"id\":\"19879\"},{\"id\":\"19880\"},{\"id\":\"19881\"},{\"id\":\"19882\"},{\"id\":\"19883\"},{\"id\":\"19884\"}]},\"id\":\"19886\",\"type\":\"Toolbar\"},{\"attributes\":{\"bottom_units\":\"screen\",\"fill_alpha\":0.5,\"fill_color\":\"lightgrey\",\"left_units\":\"screen\",\"level\":\"overlay\",\"line_alpha\":1.0,\"line_color\":\"black\",\"line_dash\":[4,4],\"line_width\":2,\"right_units\":\"screen\",\"syncable\":false,\"top_units\":\"screen\"},\"id\":\"19885\",\"type\":\"BoxAnnotation\"},{\"attributes\":{},\"id\":\"19872\",\"type\":\"BasicTicker\"},{\"attributes\":{\"line_color\":\"orange\",\"line_width\":2.5,\"x\":{\"field\":\"x\"},\"y\":{\"field\":\"y\"}},\"id\":\"19899\",\"type\":\"Line\"},{\"attributes\":{\"source\":{\"id\":\"19898\"}},\"id\":\"19902\",\"type\":\"CDSView\"},{\"attributes\":{\"data_source\":{\"id\":\"19898\"},\"glyph\":{\"id\":\"19899\"},\"hover_glyph\":null,\"muted_glyph\":null,\"nonselection_glyph\":{\"id\":\"19900\"},\"view\":{\"id\":\"19902\"}},\"id\":\"19901\",\"type\":\"GlyphRenderer\"},{\"attributes\":{\"axis_label\":\"t\",\"formatter\":{\"id\":\"20484\"},\"major_label_policy\":{\"id\":\"20482\"},\"ticker\":{\"id\":\"19872\"}},\"id\":\"19871\",\"type\":\"LinearAxis\"},{\"attributes\":{\"data\":{\"x\":[0,1,2,3,4,5,6,7,8,9,10,11,12,13,14,15,16,17,18,19,20,21,22,23,24,25,26,27,28,29,30,31,32,33,34,35,36,37,38,39,40,41,42,43,44,45,46,47,48,49,50,51,52,53,54,55,56,57,58,59,60,61,62,63,64,65,66,67,68,69,70,71,72,73,74,75,76,77,78,79,80,81,82,83,84,85,86,87,88,89,90,91,92,93,94,95,96,97,98,99,100,101,102,103,104,105,106,107,108,109,110,111,112,113,114,115,116,117,118,119,120,121,122,123,124,125,126,127,128,129,130,131,132,133,134,135,136],\"y\":{\"__ndarray__\":\"AAAAAAAA+H+AJeSDns3gP2qi5gOOjNm/DchGZCOywb/LOlMhhinwv/Ff0QkBpf6/SWkQDUKM8L80TvGZ+drbPwFLVGxb098/Bqj8VYAgzz/jU1MhE/TPP2l3CCcDfdI/bpg+yNJ86z8SABdHxUvEv+vlS8WOtcw/ajGFUmsDsD/b6jCo8qe4P6ZJZemHHbI/9M0E/8WKxr/t8sQgK9/VP8bdbRxAhZk/oL/L1ctH2j91Nn3MdzvGP1wSvz1m17M/vubAnI7+uL8dbqr4BKGVPys+inYwrME/tWqcQ/LIrT8al7qIzeC/P40EdvjiiKU/6g269XgAxj+Rh7Ui0nvePwzq/Wljj98/yYMNfucz7z/LTM8d6prkP49Fau+4HN4/SNdyTPVqu78MH+07sq62PxRZzH3JpdE/UbcVaV1vwz8cZa6dpmfKv3Lm6+oZmbW/0jxIZveRz79vmXFsJSncP++8gjXxLdw/DBRUfLxN6D+D/7eYj1XTP9h9Rj8EC76/USSStrvEwr+ViVfu1dvEv4bkn7IZz+E/41CqPtWO3D/OKeo5UPKjv3AmpQcyU96/6+tQcqA70b/N+dvdH+3SPyGX8e0mNeo/zY6vZ4+70D93PUVcpZ26v9R+WyADysY/dY/2rWG4zj88+vt4ADOkP/5Fd2xcyr4/toVVuX/FvT9M4LOGuHvQv07X3RvZJMq/69qSCDx/gb9sn+oi3c7XP5glMDJ7qtc/q93nOrmb5D/Hc6ehRRnVP2z2wktDWtY/Dwyn8DLXxz/rYQLbJfqjv1zk5S9GYsW/TE0fgcZDsz9zXHrhQhTQv1+QPFNUR+G/4KTF/7Ik4r/+wNdiPR7ev4j9ShKwyts/IhCAJB4M4z8oRxeBbQbKP2V9NDRET+A/rZfHTkxr1j8UJVo3wWp7PyeRsmbNIcK/b4rj0q/rw7+fnZoQHwanvz1x9by+A8u/gHhhUZXf1b+krioKMinFPw32tlEfEbU/KScsF+OO2z9VejaOWljeP56z6A7h5Nk/zXP0PmwF1T+luP1xTrjEv8gXQuwbg7c/BdKYwTPFzj/L4Jh0Hu2/P4LL/oXn58O/mYDWXNfBoD+MmjZZAabiP6AuRrzOIdQ/CncvWX7PtD/OgYH6ffrSPwPFgN+n4LU/Uk2pX3I7tz+cPC5Meaexvyc99nHYKNM/tLySQYXx4D8EwmsrviiwvyDWnNEJn2M/yhfHsMgcrr9SQ4asFG/hP2gCjWn7Bd0/clUBA2bxzD94FY/KDXDZP8iiyRTzndo/Rrqm0vRnxD/jAfTJGGN7PzK+l/nEc6w/ptnNGEa/vT+QpdbvdJ/GPyrQ/EDIb9W/BE9ZZB5x1L+3YmLyWWfIP1r7+5XPDNs/YKekKnUN4j9c9pwOJvLgP+YJXisuP8s/s83xiN9ilD96KU7zXWPFP/BrXK+g9XS/AAAAAAAA+H8AAAAAAAD4fw==\",\"dtype\":\"float64\",\"order\":\"little\",\"shape\":[137]}},\"selected\":{\"id\":\"20490\"},\"selection_policy\":{\"id\":\"20491\"}},\"id\":\"19898\",\"type\":\"ColumnDataSource\"},{\"attributes\":{},\"id\":\"20484\",\"type\":\"BasicTickFormatter\"},{\"attributes\":{\"axis_label\":\"Monthly IR\",\"formatter\":{\"id\":\"20487\"},\"major_label_policy\":{\"id\":\"20485\"},\"ticker\":{\"id\":\"19876\"}},\"id\":\"19875\",\"type\":\"LinearAxis\"},{\"attributes\":{},\"id\":\"20485\",\"type\":\"AllLabels\"},{\"attributes\":{},\"id\":\"20487\",\"type\":\"BasicTickFormatter\"},{\"attributes\":{},\"id\":\"20488\",\"type\":\"Selection\"},{\"attributes\":{},\"id\":\"20482\",\"type\":\"AllLabels\"},{\"attributes\":{\"axis\":{\"id\":\"19875\"},\"dimension\":1,\"ticker\":null},\"id\":\"19878\",\"type\":\"Grid\"},{\"attributes\":{},\"id\":\"20489\",\"type\":\"UnionRenderers\"},{\"attributes\":{},\"id\":\"19865\",\"type\":\"DataRange1d\"},{\"attributes\":{},\"id\":\"20490\",\"type\":\"Selection\"},{\"attributes\":{},\"id\":\"19867\",\"type\":\"LinearScale\"},{\"attributes\":{\"text\":\"Monthly IR from CPI (in %)\"},\"id\":\"19861\",\"type\":\"Title\"}],\"root_ids\":[\"19860\"]},\"title\":\"Bokeh Application\",\"version\":\"2.3.1\"}};\n  var render_items = [{\"docid\":\"b27fc1dc-1dee-4534-81e3-4b3a6c2641ef\",\"root_ids\":[\"19860\"],\"roots\":{\"19860\":\"8cbcbcd4-6a7e-4dc3-9290-17708a0b4f47\"}}];\n  root.Bokeh.embed.embed_items_notebook(docs_json, render_items);\n\n  }\n  if (root.Bokeh !== undefined) {\n    embed_document(root);\n  } else {\n    var attempts = 0;\n    var timer = setInterval(function(root) {\n      if (root.Bokeh !== undefined) {\n        clearInterval(timer);\n        embed_document(root);\n      } else {\n        attempts++;\n        if (attempts > 100) {\n          clearInterval(timer);\n          console.log(\"Bokeh: ERROR: Unable to run BokehJS code because BokehJS library is missing\");\n        }\n      }\n    }, 10, root)\n  }\n})(window);",
      "application/vnd.bokehjs_exec.v0+json": ""
     },
     "metadata": {
      "application/vnd.bokehjs_exec.v0+json": {
       "id": "19860"
      }
     },
     "output_type": "display_data"
    }
   ],
   "source": [
    "p = figure(plot_width=400, plot_height=400, title = \"Monthly IR from CPI (in %)\")\n",
    "p.line(cpi.index,cpi['diff_log'],line_color=\"navy\",line_width =2.5)\n",
    "p.line(cpi.index,cpi['IR_cpi'],line_color=\"orange\",line_width =2.5)\n",
    "p.xaxis.axis_label ='t'\n",
    "p.yaxis.axis_label ='Monthly IR'\n",
    "\n",
    "show(p)\n",
    "\n"
   ]
  },
  {
   "cell_type": "markdown",
   "metadata": {},
   "source": [
    "Repeat the above analysis for the monthly Inflation Rate computed from CPI.  We have not included this repeated analysis here."
   ]
  },
  {
   "cell_type": "markdown",
   "metadata": {},
   "source": [
    "As PriceStats varies daily, the \"monthly\" inflation rate can be calculated in different ways. First, we calculate the average PriceStat of the month to represent the monthly PriceStats value and then proceed to calculate monthly inflation rate using this monthly PriceStats value. To convert it to inflation rate, we use the same formula that we did for CPI\n",
    "> $PS_t = \\frac{PS_t -PS_{t-1}}{PS_{t-1}}$"
   ]
  },
  {
   "cell_type": "code",
   "execution_count": 451,
   "metadata": {},
   "outputs": [
    {
     "name": "stdout",
     "output_type": "stream",
     "text": [
      "The inflation rate from Avg PriceStats for the month of February in 2013 was 1.03587\n"
     ]
    }
   ],
   "source": [
    "ps_monthly = pd.DataFrame(columns =['YearMonth','PS'])\n",
    "ps_monthly['PS'] =ps_cpi.groupby('YearMonth').PriceStats.mean().values\n",
    "ps_monthly['YearMonth'] = cpi.YearMonth\n",
    "val = calc_inflation_rate(ps_monthly.PS.values)\n",
    "ps_monthly.loc[1:, 'IR_ps'] = val\n",
    "\n",
    "ps_ir_train = (ps_monthly[ps_monthly.YearMonth<'2013-09'].copy())\n",
    "ps_ir_test = (ps_monthly[ps_monthly.YearMonth >='2013-09'].copy())\n",
    "\n",
    "print(\"The inflation rate from Avg PriceStats for the month of February in 2013 was %0.5f\" % ps_monthly[ps_monthly.YearMonth == '2013-02'].IR_ps)\n"
   ]
  },
  {
   "cell_type": "code",
   "execution_count": 158,
   "metadata": {},
   "outputs": [
    {
     "data": {
      "text/plain": [
       "0      0.0\n",
       "1      0.0\n",
       "2      0.0\n",
       "3      0.0\n",
       "4      0.0\n",
       "      ... \n",
       "132    NaN\n",
       "133    NaN\n",
       "134    NaN\n",
       "135    NaN\n",
       "136    NaN\n",
       "Name: IR, Length: 137, dtype: float64"
      ]
     },
     "execution_count": 158,
     "metadata": {},
     "output_type": "execute_result"
    }
   ],
   "source": [
    "ps_ir_train3.IR-ps_monthly_daily.IR"
   ]
  },
  {
   "cell_type": "code",
   "execution_count": 19,
   "metadata": {},
   "outputs": [
    {
     "data": {
      "text/html": [
       "\n",
       "\n",
       "\n",
       "\n",
       "\n",
       "\n",
       "  <div class=\"bk-root\" id=\"d9ec8d94-9f7d-4c94-bda6-91c922d74d3e\" data-root-id=\"2118\"></div>\n"
      ]
     },
     "metadata": {},
     "output_type": "display_data"
    },
    {
     "data": {
      "application/javascript": "(function(root) {\n  function embed_document(root) {\n    \n  var docs_json = {\"d6ec04c3-2d64-4379-a3e4-ab4fceb727ab\":{\"defs\":[],\"roots\":{\"references\":[{\"attributes\":{\"below\":[{\"id\":\"2129\"}],\"center\":[{\"id\":\"2132\"},{\"id\":\"2136\"},{\"id\":\"2166\"}],\"height\":400,\"left\":[{\"id\":\"2133\"}],\"renderers\":[{\"id\":\"2154\"},{\"id\":\"2171\"}],\"title\":{\"id\":\"2119\"},\"toolbar\":{\"id\":\"2144\"},\"width\":400,\"x_range\":{\"id\":\"2121\"},\"x_scale\":{\"id\":\"2125\"},\"y_range\":{\"id\":\"2123\"},\"y_scale\":{\"id\":\"2127\"}},\"id\":\"2118\",\"subtype\":\"Figure\",\"type\":\"Plot\"},{\"attributes\":{\"line_alpha\":0.1,\"line_color\":\"green\",\"line_width\":2.5,\"x\":{\"field\":\"x\"},\"y\":{\"field\":\"y\"}},\"id\":\"2170\",\"type\":\"Line\"},{\"attributes\":{},\"id\":\"2138\",\"type\":\"WheelZoomTool\"},{\"attributes\":{\"data_source\":{\"id\":\"2168\"},\"glyph\":{\"id\":\"2169\"},\"hover_glyph\":null,\"muted_glyph\":null,\"nonselection_glyph\":{\"id\":\"2170\"},\"view\":{\"id\":\"2172\"}},\"id\":\"2171\",\"type\":\"GlyphRenderer\"},{\"attributes\":{\"overlay\":{\"id\":\"2143\"}},\"id\":\"2139\",\"type\":\"BoxZoomTool\"},{\"attributes\":{\"source\":{\"id\":\"2168\"}},\"id\":\"2172\",\"type\":\"CDSView\"},{\"attributes\":{},\"id\":\"2159\",\"type\":\"BasicTickFormatter\"},{\"attributes\":{},\"id\":\"2140\",\"type\":\"SaveTool\"},{\"attributes\":{\"line_color\":\"green\",\"line_width\":2.5,\"x\":{\"field\":\"x\"},\"y\":{\"field\":\"y\"}},\"id\":\"2169\",\"type\":\"Line\"},{\"attributes\":{},\"id\":\"2141\",\"type\":\"ResetTool\"},{\"attributes\":{},\"id\":\"2183\",\"type\":\"UnionRenderers\"},{\"attributes\":{},\"id\":\"2142\",\"type\":\"HelpTool\"},{\"attributes\":{},\"id\":\"2127\",\"type\":\"LinearScale\"},{\"attributes\":{\"label\":{\"value\":\"pricestats\"},\"renderers\":[{\"id\":\"2171\"}]},\"id\":\"2185\",\"type\":\"LegendItem\"},{\"attributes\":{\"data_source\":{\"id\":\"2151\"},\"glyph\":{\"id\":\"2152\"},\"hover_glyph\":null,\"muted_glyph\":null,\"nonselection_glyph\":{\"id\":\"2153\"},\"view\":{\"id\":\"2155\"}},\"id\":\"2154\",\"type\":\"GlyphRenderer\"},{\"attributes\":{\"source\":{\"id\":\"2151\"}},\"id\":\"2155\",\"type\":\"CDSView\"},{\"attributes\":{},\"id\":\"2125\",\"type\":\"LinearScale\"},{\"attributes\":{},\"id\":\"2163\",\"type\":\"Selection\"},{\"attributes\":{},\"id\":\"2121\",\"type\":\"DataRange1d\"},{\"attributes\":{\"bottom_units\":\"screen\",\"fill_alpha\":0.5,\"fill_color\":\"lightgrey\",\"left_units\":\"screen\",\"level\":\"overlay\",\"line_alpha\":1.0,\"line_color\":\"black\",\"line_dash\":[4,4],\"line_width\":2,\"right_units\":\"screen\",\"syncable\":false,\"top_units\":\"screen\"},\"id\":\"2143\",\"type\":\"BoxAnnotation\"},{\"attributes\":{\"axis_label\":\"t\",\"formatter\":{\"id\":\"2159\"},\"major_label_policy\":{\"id\":\"2157\"},\"ticker\":{\"id\":\"2130\"}},\"id\":\"2129\",\"type\":\"LinearAxis\"},{\"attributes\":{},\"id\":\"2130\",\"type\":\"BasicTicker\"},{\"attributes\":{\"text\":\"Monthly CPI/PS\"},\"id\":\"2119\",\"type\":\"Title\"},{\"attributes\":{\"axis\":{\"id\":\"2129\"},\"ticker\":null},\"id\":\"2132\",\"type\":\"Grid\"},{\"attributes\":{},\"id\":\"2162\",\"type\":\"BasicTickFormatter\"},{\"attributes\":{\"active_multi\":null,\"tools\":[{\"id\":\"2137\"},{\"id\":\"2138\"},{\"id\":\"2139\"},{\"id\":\"2140\"},{\"id\":\"2141\"},{\"id\":\"2142\"}]},\"id\":\"2144\",\"type\":\"Toolbar\"},{\"attributes\":{\"axis_label\":\"CPI\",\"formatter\":{\"id\":\"2162\"},\"major_label_policy\":{\"id\":\"2160\"},\"ticker\":{\"id\":\"2134\"}},\"id\":\"2133\",\"type\":\"LinearAxis\"},{\"attributes\":{},\"id\":\"2157\",\"type\":\"AllLabels\"},{\"attributes\":{\"line_alpha\":0.1,\"line_color\":\"navy\",\"line_width\":2.5,\"x\":{\"field\":\"x\"},\"y\":{\"field\":\"y\"}},\"id\":\"2153\",\"type\":\"Line\"},{\"attributes\":{},\"id\":\"2134\",\"type\":\"BasicTicker\"},{\"attributes\":{},\"id\":\"2164\",\"type\":\"UnionRenderers\"},{\"attributes\":{},\"id\":\"2123\",\"type\":\"DataRange1d\"},{\"attributes\":{\"items\":[{\"id\":\"2167\"},{\"id\":\"2185\"}],\"location\":\"bottom_right\"},\"id\":\"2166\",\"type\":\"Legend\"},{\"attributes\":{\"axis\":{\"id\":\"2133\"},\"dimension\":1,\"ticker\":null},\"id\":\"2136\",\"type\":\"Grid\"},{\"attributes\":{\"label\":{\"value\":\"CPI\"},\"renderers\":[{\"id\":\"2154\"}]},\"id\":\"2167\",\"type\":\"LegendItem\"},{\"attributes\":{\"data\":{\"x\":[0,1,2,3,4,5,6,7,8,9,10,11,12,13,14,15,16,17,18,19,20,21,22,23,24,25,26,27,28,29,30,31,32,33,34,35,36,37,38,39,40,41,42,43,44,45,46,47,48,49,50,51,52,53,54,55,56,57,58,59,60,61,62,63,64,65,66,67,68,69,70,71,72,73,74,75,76,77,78,79,80,81,82,83,84,85,86,87,88,89,90,91,92,93,94,95,96,97,98,99,100,101,102,103,104,105,106,107,108,109,110,111,112,113,114,115,116,117,118,119,120,121,122,123,124,125,126,127,128,129,130,131,132,133,134,135,136],\"y\":{\"__ndarray__\":\"AAAAAAAAWUBLyAc9myFZQKvP1VbsB1lAe4hGdxD/WEActi3KbL5YQKWg20saRVhAl6jeGtgEWEBLyAc9mx9YQE6c3O9QPlhA1ouhnGhNWEDw+WGE8FxYQNBE2PD0blhAcVrwoq+kWEAYQznRrppYQOl942vPqFhAWwhyUMKsWEB00vvG17JYQOi8xi5Rt1hA48KBkCysWEDkvWplwsFYQEX11sBWw1hArHMMyF7dWEA/jBAebehYQHYyOEpe7VhAd6G5TiPnWECRm+EGfOhYQMjqVs9J8VhA0GG+vAD1WEAFhqxu9fxYQPLNNjem/1hAe4MvTKYKWUB3vp8aLylZQMX+snvySFlA8tJNYhCIWUBSSZ2AJrJZQHBfB84Z0VlAbqMBvAXKWUAdWmQ7389ZQBKlvcEX4llAqmBUUifsWUBYObTIdt5ZQCL99nXg2FlAat5xio7IWUCamZmZmeVZQMKGp1fKAlpA6Nms+lw1WkASg8DKoUlaQC9uowG8QVpAzojS3uA3WkAU0ETY8CxaQFioNc07UlpAo5I6AU1wWkCLbOf7qW1aQEvIBz2bTVpADwu1pnk7WkDIBz2bVU9aQNEi2/l+hlpAFR3J5T+YWkATYcPTK5FaQOF6FK5HnVpAEoPAyqGtWkBqTfOOU7BaQAaBlUOLuFpAKjqSy3/AWkBmiGNd3K5aQJvmHafooFpAak3zjlOgWkCh+DHmrrlaQJf/kH770lpA5WGh1jT/WkD1udqK/RVbQJHtfD81LltAukkMAis7W0CcxCCwcjhbQH/7OnDOLFtAgy9MpgoyW0C4rwPnjCBbQDsBTYQN+1pAMuauJeTTWkB6xyk6krNaQBrAWyBB0VpA2V92Tx76WkBcj8L1KAhbQDPEsS5uK1tAxyk6kstDW0B4eqUsQ0RbQJ+rrdhfOltAnYAmwoYvW0AOT6+UZSxbQBniWBe3HVtA9bnaiv0FW0DarPpcbRFbQJAxdy0hF1tAokW28/00W0C8dJMYBFZbQMNkqmBUcltAxSCwcmiJW0Cn6Egu/31bQP8h/fZ1hFtAYcPTK2WVW0Dgvg6cM55bQOVhodY0k1tAkzoBTYSVW0CRD3o2q75bQLfRAN4C1VtAJuSDns3aW0Byio7k8u9bQJm7lpAP9ltAat5xio78W0BWDi2ynfdbQOLplbIMDVxAUI2XbhIzXEDmriXkgy5cQKabxCCwLlxAQ61p3nEqXEB9PzVeulFcQJ88LNSaclxAUI2XbhKDXEAHX5hMFaBcQMP1KFyPvlxAmEwVjErKXEAQWDm0yMpcQHsUrkfhzlxASFD8GHPXXEAqOpLLf+RcQCQofoy5y1xAcRsN4C20XEB8YTJVMMJcQKg1zTtO4VxAEOm3rwMLXUADCYofYzJdQEp7gy9MQl1AFvvL7slDXUBVwaikTlBdQKvP1VbsT11AAAAAAAAA+H8AAAAAAAD4fw==\",\"dtype\":\"float64\",\"order\":\"little\",\"shape\":[137]}},\"selected\":{\"id\":\"2163\"},\"selection_policy\":{\"id\":\"2164\"}},\"id\":\"2151\",\"type\":\"ColumnDataSource\"},{\"attributes\":{},\"id\":\"2160\",\"type\":\"AllLabels\"},{\"attributes\":{\"data\":{\"x\":[0,1,2,3,4,5,6,7,8,9,10,11,12,13,14,15,16,17,18,19,20,21,22,23,24,25,26,27,28,29,30,31,32,33,34,35,36,37,38,39,40,41,42,43,44,45,46,47,48,49,50,51,52,53,54,55,56,57,58,59,60,61,62,63,64,65,66,67,68,69,70,71,72,73,74,75,76,77,78,79,80,81,82,83,84,85,86,87,88,89,90,91,92,93,94,95,96,97,98,99,100,101,102,103,104,105,106,107,108,109,110,111,112,113,114,115,116,117,118,119,120,121,122,123,124,125,126,127,128,129,130,131,132,133,134,135,136],\"y\":{\"__ndarray__\":\"8DhFR/L6WEDfn0dgiu5YQDI19hJQ8VhAwuCD7bjAWEAjb5NkME5YQDwQDEHLDVhAWNBb2AogWEBoUdwyYklYQJ5EbTHQVlhA9NVVgVpnWEB/g53+I39YQO8w7Zv7kFhAA+dJxqylWEBGomB47a1YQAtlziArsVhAhDDYyni0WEA0I5anhsZYQGr/k3FUvVhATi4qcjrbWECRsZnB29RYQLfoQ1o2/FhAFu5v4ykcWUAGvUJLQDZZQEvAwlxlHllAhtmfotQ1WUCfAH/M5TxZQNFcp5GWQFlAdvPaS11dWUAHbPRXtXNZQGsJ+aBnf1lA0oYcv4CQWUCivqp2DKFZQFuDRX05t1lAPCZ4ME/mWUA6c8HhXgVaQHub/uxH7FlAq1v6xHzzWUCj+kkvi/pZQCPzyB8MCFpAL8WMPh75WUDXf4rQ9fpZQGhHXMh86FlA6yJjn28AWkDtTtxaWyhaQAUEMJK4ZVpAHD1+b9N/WkAh5a2Zv21aQKbH7236U1pAXLJLEQ1NWkA7sYYy8INaQGAn4pooqVpAmqGXlI6rWkCuV2s7gI5aQIwhezc3e1pA9MuMoEeBWkB1JJf/kMdaQEh438EB3VpA1g/EjAPWWkBC0c0JBuFaQCxFBWGB5lpAu919VvLpWkD5qGWu3/FaQA4tsp3v91pAYaHWNO/sWkA0366E2+laQCLwnu1A7lpAjtylOZv8WkAzav+FIghbQP8UpW7WGVtA+/IC7KMtW0BXp6mozT1bQD6+l9VOR1tAp5jRxyNMW0C48ZagWk9bQPPVexfcVFtAVfR8oV5OW0BmuuoUvkFbQNmjIVLIIVtAvs5vrvLzWkAtRAVKyQRbQBKQGFNBKFtA8oj3CY0zW0D7tyRrnVZbQFK5Y8QYaVtAA6DuzLZvW0DHMYd4Am9bQAuVkvjvYFtAKbFgtntjW0ALou4DkFpbQMrfWfLGUVtArmd3PWxEW0A41IukdjBbQCj3cu1DTVtAndoG23VwW0CgheJ4rZFbQNE0TjCJqFtAhHhRNl+mW0BXOQO0uKdbQBBwCFVqtFtAraKYILPBW0DD8BExJcBbQImasFZRzFtAXVYIRwDpW0CH6mhZOO9bQE6kVCbF/VtA9t4FNz8NXEDKpcQz7hRcQFCqfToeGVxAA6F68SQcXEBAD+JF2TBcQDo2AvG6XlxAOYKAnhxqXEA0iyrWg3pcQBZqTfOOe1xAN+kDqOyPXEBtVn2utqBcQOK0WoHeqFxAgKSIDKvGXEDkQyNdueVcQKPC2EKQ9VxAGDUSwmD/XEApaedKlQddQC+BW3fzEl1AaFgzzhYmXUBR9wFIbR5dQGo0z6KCB11AVIdi0bcAXUC55ebalRNdQGODWLtzO11ARGZBO7piXUCtYAVn5XZdQG8qUmFsc11ApQm6AAd6XUCaZ6CsOXldQGT+5AKqgF1A/n2PrMSNXUCO5PIf0pNdQA==\",\"dtype\":\"float64\",\"order\":\"little\",\"shape\":[137]}},\"selected\":{\"id\":\"2182\"},\"selection_policy\":{\"id\":\"2183\"}},\"id\":\"2168\",\"type\":\"ColumnDataSource\"},{\"attributes\":{\"line_color\":\"navy\",\"line_width\":2.5,\"x\":{\"field\":\"x\"},\"y\":{\"field\":\"y\"}},\"id\":\"2152\",\"type\":\"Line\"},{\"attributes\":{},\"id\":\"2137\",\"type\":\"PanTool\"},{\"attributes\":{},\"id\":\"2182\",\"type\":\"Selection\"}],\"root_ids\":[\"2118\"]},\"title\":\"Bokeh Application\",\"version\":\"2.3.1\"}};\n  var render_items = [{\"docid\":\"d6ec04c3-2d64-4379-a3e4-ab4fceb727ab\",\"root_ids\":[\"2118\"],\"roots\":{\"2118\":\"d9ec8d94-9f7d-4c94-bda6-91c922d74d3e\"}}];\n  root.Bokeh.embed.embed_items_notebook(docs_json, render_items);\n\n  }\n  if (root.Bokeh !== undefined) {\n    embed_document(root);\n  } else {\n    var attempts = 0;\n    var timer = setInterval(function(root) {\n      if (root.Bokeh !== undefined) {\n        clearInterval(timer);\n        embed_document(root);\n      } else {\n        attempts++;\n        if (attempts > 100) {\n          clearInterval(timer);\n          console.log(\"Bokeh: ERROR: Unable to run BokehJS code because BokehJS library is missing\");\n        }\n      }\n    }, 10, root)\n  }\n})(window);",
      "application/vnd.bokehjs_exec.v0+json": ""
     },
     "metadata": {
      "application/vnd.bokehjs_exec.v0+json": {
       "id": "2118"
      }
     },
     "output_type": "display_data"
    }
   ],
   "source": [
    "#Plot of monthly CPI and PS\n",
    "p = figure(plot_width=400, plot_height=400, title = \"Monthly CPI/PS\")\n",
    "p.line(cpi.index,cpi.CPI,line_color=\"navy\",line_width =2.5,legend_label =\"CPI\")\n",
    "p.line(ps_monthly.index,ps_monthly.PS,line_color=\"green\",line_width =2.5,legend_label =\"pricestats\")\n",
    "\n",
    "p.xaxis.axis_label ='t'\n",
    "p.yaxis.axis_label ='CPI'\n",
    "p.legend.location='bottom_right'\n",
    "\n",
    "\n",
    "show(p)"
   ]
  },
  {
   "cell_type": "code",
   "execution_count": 452,
   "metadata": {},
   "outputs": [
    {
     "data": {
      "text/html": [
       "\n",
       "\n",
       "\n",
       "\n",
       "\n",
       "\n",
       "  <div class=\"bk-root\" id=\"7981bc37-f214-4342-b5c8-402f02e5df4d\" data-root-id=\"38803\"></div>\n"
      ]
     },
     "metadata": {},
     "output_type": "display_data"
    },
    {
     "data": {
      "application/javascript": "(function(root) {\n  function embed_document(root) {\n    \n  var docs_json = {\"8675c544-0243-4fe7-9db1-5db92d1bbe59\":{\"defs\":[],\"roots\":{\"references\":[{\"attributes\":{\"below\":[{\"id\":\"38814\"}],\"center\":[{\"id\":\"38817\"},{\"id\":\"38821\"},{\"id\":\"38851\"}],\"height\":400,\"left\":[{\"id\":\"38818\"}],\"renderers\":[{\"id\":\"38839\"},{\"id\":\"38856\"}],\"title\":{\"id\":\"38804\"},\"toolbar\":{\"id\":\"38829\"},\"width\":400,\"x_range\":{\"id\":\"38806\"},\"x_scale\":{\"id\":\"38810\"},\"y_range\":{\"id\":\"38808\"},\"y_scale\":{\"id\":\"38812\"}},\"id\":\"38803\",\"subtype\":\"Figure\",\"type\":\"Plot\"},{\"attributes\":{},\"id\":\"38848\",\"type\":\"Selection\"},{\"attributes\":{},\"id\":\"38847\",\"type\":\"BasicTickFormatter\"},{\"attributes\":{\"data\":{\"x\":[0,1,2,3,4,5,6,7,8,9,10,11,12,13,14,15,16,17,18,19,20,21,22,23,24,25,26,27,28,29,30,31,32,33,34,35,36,37,38,39,40,41,42,43,44,45,46,47,48,49,50,51,52,53,54,55,56,57,58,59,60,61,62,63,64,65,66,67,68,69,70,71,72,73,74,75,76,77,78,79,80,81,82,83,84,85,86,87,88,89,90,91,92,93,94,95,96,97,98,99,100,101,102,103,104,105,106,107,108,109,110,111,112,113,114,115,116,117,118,119,120,121,122,123,124,125,126,127,128,129,130,131,132,133,134,135,136],\"y\":{\"__ndarray__\":\"AAAAAAAA+H9wbZ/50tTIvzCH9WcdPaY/WYAdDuFZ6L+lVB/YVOv8v5fekuwOj/C/D5pzBFf30j9UIhK0kGvlP3Cjlx/zpcs/I0ZzlEn90D8ZPLBTR17YP+o0Xkd4NdI/+Oeyp6wO1T9x8IAT4b3AP6Jzlex7Q6o/N6FNJq/Bqj9HqhK5DkXSP76UV5QWj8K/G7DzMZM23j8jTeHQc6C5v1uEgAF8z+M/eQGEKmH43z+r4udCJfnZP+707ZGZp9e/EJQFM+pS1z/WYuVQSwi8P48DFNPrPq0/Fv/kNyB93D/z94BKzQXWP0WMECM5+sY/0kun5a7D0D9TLJUzMS7QP/PVBS+todU/s0eTRxzj5j+x3Rjde/vdP+6BIqnwGti/abwk6KLMuz/Q0DE11jC7P1VqTCZq/ck/781/uuSszL/DjWCsb16cP4VCU3uXxtG/VTkoyu8b1z9A7ufQAjHjP1PwZrv9Uu0/2e8VJRu52D+6eeaK/g3Rv5lW8xiJYNi/EDd6uqNPur/AlOtsCxbqP9cxD5vsi+E/KBMqSdX9oT/endTQijzbv19EK5egJ9K/LKkXbknmtj/baI1R65LwP9xy6AgFBNQ/kd774CIIur9u9ndRUoPEP+FvEL/0ZLQ/9784pMeVqT8zf6bkJHS9P8hSFYCtf7Y/yMOJT6plxL/D3sWH3dqmvyWD+JuUVbA/ga41tMSlyj/2/dNDDVzFP3vSJG9HX9A/1lNCqH1E0j//mDRANrzNP9mnrM/yccE/htBSd4C2sT/6NXU9wIynP64qAsH8KLQ/29ECUO2+t7+LSuoXFx/Hv/kHxwJUUN2/9oDGx9Ed5b93KN/OjDzPP8fALazPaOA/2oR1CwXMxD9cTitw9xzgPy42pxqp5tA/i04zPTokuD9EoAdsHoqEv8jrS4DYpcm/9XGJwvGYoj+YzA1hEEnAv+tmr+YTD8C/vla8VOlwyL84kUfdu0zSv0PviZ6Ue9o/SCo9dyYd4D+udiGJqUPeP4H0xe5qutQ/cFpLkbVLn7+WeoLKFIaTP3okxz1E88Y/C18ZSZH5xz8LX30ko2aWv7rUvXqQ7sU/i9xKTc/L2T8dWx7sRUi2P+ZH0VwJC8o/m2Kob1Glyz+odJT3/mO7P5+BaUUJ060/rGEUj1qKpT8ZD1u17WnSP9vZWA4cWOQ/h+SAqCEPxD/fyGhLN93MP1tVM5qST40/+r6UTDbg0T+h42ol+WPNP1TB8Tz/fLw/GYXD+23+2T+4ZKE5D/vaP4wSKMQIaMs/lLRnVP3xwD+Q4G5R1Eu8P212zL5rlMM/FhdketB00D9GMGnyWUm6v3oYfUvPrNO/xxERaN1lt78V+RYnbEPQP9FI9JGCI+E/USGS8GfL4D/mTexJmCjRPy49X1GLkqe/3/ao83tstj/AsWZfo8SFvyUh+/4sPbk//qDGfl41xj/6f0Mq0Xq0Pw==\",\"dtype\":\"float64\",\"order\":\"little\",\"shape\":[137]}},\"selected\":{\"id\":\"38867\"},\"selection_policy\":{\"id\":\"38868\"}},\"id\":\"38853\",\"type\":\"ColumnDataSource\"},{\"attributes\":{},\"id\":\"38822\",\"type\":\"PanTool\"},{\"attributes\":{},\"id\":\"38844\",\"type\":\"BasicTickFormatter\"},{\"attributes\":{},\"id\":\"38849\",\"type\":\"UnionRenderers\"},{\"attributes\":{},\"id\":\"38810\",\"type\":\"LinearScale\"},{\"attributes\":{\"items\":[{\"id\":\"38852\"},{\"id\":\"38870\"}]},\"id\":\"38851\",\"type\":\"Legend\"},{\"attributes\":{},\"id\":\"38827\",\"type\":\"HelpTool\"},{\"attributes\":{},\"id\":\"38867\",\"type\":\"Selection\"},{\"attributes\":{\"axis\":{\"id\":\"38814\"},\"ticker\":null},\"id\":\"38817\",\"type\":\"Grid\"},{\"attributes\":{},\"id\":\"38868\",\"type\":\"UnionRenderers\"},{\"attributes\":{},\"id\":\"38826\",\"type\":\"ResetTool\"},{\"attributes\":{\"axis\":{\"id\":\"38818\"},\"dimension\":1,\"ticker\":null},\"id\":\"38821\",\"type\":\"Grid\"},{\"attributes\":{\"source\":{\"id\":\"38853\"}},\"id\":\"38857\",\"type\":\"CDSView\"},{\"attributes\":{\"label\":{\"value\":\"IR_cpi\"},\"renderers\":[{\"id\":\"38839\"}]},\"id\":\"38852\",\"type\":\"LegendItem\"},{\"attributes\":{\"line_color\":\"navy\",\"line_width\":2.5,\"x\":{\"field\":\"x\"},\"y\":{\"field\":\"y\"}},\"id\":\"38837\",\"type\":\"Line\"},{\"attributes\":{},\"id\":\"38812\",\"type\":\"LinearScale\"},{\"attributes\":{\"bottom_units\":\"screen\",\"fill_alpha\":0.5,\"fill_color\":\"lightgrey\",\"left_units\":\"screen\",\"level\":\"overlay\",\"line_alpha\":1.0,\"line_color\":\"black\",\"line_dash\":[4,4],\"line_width\":2,\"right_units\":\"screen\",\"syncable\":false,\"top_units\":\"screen\"},\"id\":\"38828\",\"type\":\"BoxAnnotation\"},{\"attributes\":{},\"id\":\"38825\",\"type\":\"SaveTool\"},{\"attributes\":{\"line_color\":\"green\",\"line_width\":2.5,\"x\":{\"field\":\"x\"},\"y\":{\"field\":\"y\"}},\"id\":\"38854\",\"type\":\"Line\"},{\"attributes\":{\"data\":{\"x\":[0,1,2,3,4,5,6,7,8,9,10,11,12,13,14,15,16,17,18,19,20,21,22,23,24,25,26,27,28,29,30,31,32,33,34,35,36,37,38,39,40,41,42,43,44,45,46,47,48,49,50,51,52,53,54,55,56,57,58,59,60,61,62,63,64,65,66,67,68,69,70,71,72,73,74,75,76,77,78,79,80,81,82,83,84,85,86,87,88,89,90,91,92,93,94,95,96,97,98,99,100,101,102,103,104,105,106,107,108,109,110,111,112,113,114,115,116,117,118,119,120,121,122,123,124,125,126,127,128,129,130,131,132,133,134,135,136],\"y\":{\"__ndarray__\":\"AAAAAAAA+H+AJeSDns3gP2qi5gOOjNm/DchGZCOywb/LOlMhhinwv/Ff0QkBpf6/SWkQDUKM8L80TvGZ+drbPwFLVGxb098/Bqj8VYAgzz/jU1MhE/TPP2l3CCcDfdI/bpg+yNJ86z8SABdHxUvEv+vlS8WOtcw/ajGFUmsDsD/b6jCo8qe4P6ZJZemHHbI/9M0E/8WKxr/t8sQgK9/VP8bdbRxAhZk/oL/L1ctH2j91Nn3MdzvGP1wSvz1m17M/vubAnI7+uL8dbqr4BKGVPys+inYwrME/tWqcQ/LIrT8al7qIzeC/P40EdvjiiKU/6g269XgAxj+Rh7Ui0nvePwzq/Wljj98/yYMNfucz7z/LTM8d6prkP49Fau+4HN4/SNdyTPVqu78MH+07sq62PxRZzH3JpdE/UbcVaV1vwz8cZa6dpmfKv3Lm6+oZmbW/0jxIZveRz79vmXFsJSncP++8gjXxLdw/DBRUfLxN6D+D/7eYj1XTP9h9Rj8EC76/USSStrvEwr+ViVfu1dvEv4bkn7IZz+E/41CqPtWO3D/OKeo5UPKjv3AmpQcyU96/6+tQcqA70b/N+dvdH+3SPyGX8e0mNeo/zY6vZ4+70D93PUVcpZ26v9R+WyADysY/dY/2rWG4zj88+vt4ADOkP/5Fd2xcyr4/toVVuX/FvT9M4LOGuHvQv07X3RvZJMq/69qSCDx/gb9sn+oi3c7XP5glMDJ7qtc/q93nOrmb5D/Hc6ehRRnVP2z2wktDWtY/Dwyn8DLXxz/rYQLbJfqjv1zk5S9GYsW/TE0fgcZDsz9zXHrhQhTQv1+QPFNUR+G/4KTF/7Ik4r/+wNdiPR7ev4j9ShKwyts/IhCAJB4M4z8oRxeBbQbKP2V9NDRET+A/rZfHTkxr1j8UJVo3wWp7PyeRsmbNIcK/b4rj0q/rw7+fnZoQHwanvz1x9by+A8u/gHhhUZXf1b+krioKMinFPw32tlEfEbU/KScsF+OO2z9VejaOWljeP56z6A7h5Nk/zXP0PmwF1T+luP1xTrjEv8gXQuwbg7c/BdKYwTPFzj/L4Jh0Hu2/P4LL/oXn58O/mYDWXNfBoD+MmjZZAabiP6AuRrzOIdQ/CncvWX7PtD/OgYH6ffrSPwPFgN+n4LU/Uk2pX3I7tz+cPC5Meaexvyc99nHYKNM/tLySQYXx4D8EwmsrviiwvyDWnNEJn2M/yhfHsMgcrr9SQ4asFG/hP2gCjWn7Bd0/clUBA2bxzD94FY/KDXDZP8iiyRTzndo/Rrqm0vRnxD/jAfTJGGN7PzK+l/nEc6w/ptnNGEa/vT+QpdbvdJ/GPyrQ/EDIb9W/BE9ZZB5x1L+3YmLyWWfIP1r7+5XPDNs/YKekKnUN4j9c9pwOJvLgP+YJXisuP8s/s83xiN9ilD96KU7zXWPFP/BrXK+g9XS/AAAAAAAA+H8AAAAAAAD4fw==\",\"dtype\":\"float64\",\"order\":\"little\",\"shape\":[137]}},\"selected\":{\"id\":\"38848\"},\"selection_policy\":{\"id\":\"38849\"}},\"id\":\"38836\",\"type\":\"ColumnDataSource\"},{\"attributes\":{\"overlay\":{\"id\":\"38828\"}},\"id\":\"38824\",\"type\":\"BoxZoomTool\"},{\"attributes\":{},\"id\":\"38842\",\"type\":\"AllLabels\"},{\"attributes\":{\"text\":\"Monthly IR\"},\"id\":\"38804\",\"type\":\"Title\"},{\"attributes\":{},\"id\":\"38845\",\"type\":\"AllLabels\"},{\"attributes\":{},\"id\":\"38806\",\"type\":\"DataRange1d\"},{\"attributes\":{\"axis_label\":\"t\",\"formatter\":{\"id\":\"38844\"},\"major_label_policy\":{\"id\":\"38842\"},\"ticker\":{\"id\":\"38815\"}},\"id\":\"38814\",\"type\":\"LinearAxis\"},{\"attributes\":{},\"id\":\"38819\",\"type\":\"BasicTicker\"},{\"attributes\":{\"active_multi\":null,\"tools\":[{\"id\":\"38822\"},{\"id\":\"38823\"},{\"id\":\"38824\"},{\"id\":\"38825\"},{\"id\":\"38826\"},{\"id\":\"38827\"}]},\"id\":\"38829\",\"type\":\"Toolbar\"},{\"attributes\":{\"axis_label\":\"CPI\",\"formatter\":{\"id\":\"38847\"},\"major_label_policy\":{\"id\":\"38845\"},\"ticker\":{\"id\":\"38819\"}},\"id\":\"38818\",\"type\":\"LinearAxis\"},{\"attributes\":{\"line_alpha\":0.1,\"line_color\":\"navy\",\"line_width\":2.5,\"x\":{\"field\":\"x\"},\"y\":{\"field\":\"y\"}},\"id\":\"38838\",\"type\":\"Line\"},{\"attributes\":{\"line_alpha\":0.1,\"line_color\":\"green\",\"line_width\":2.5,\"x\":{\"field\":\"x\"},\"y\":{\"field\":\"y\"}},\"id\":\"38855\",\"type\":\"Line\"},{\"attributes\":{\"source\":{\"id\":\"38836\"}},\"id\":\"38840\",\"type\":\"CDSView\"},{\"attributes\":{},\"id\":\"38815\",\"type\":\"BasicTicker\"},{\"attributes\":{},\"id\":\"38808\",\"type\":\"DataRange1d\"},{\"attributes\":{\"data_source\":{\"id\":\"38853\"},\"glyph\":{\"id\":\"38854\"},\"hover_glyph\":null,\"muted_glyph\":null,\"nonselection_glyph\":{\"id\":\"38855\"},\"view\":{\"id\":\"38857\"}},\"id\":\"38856\",\"type\":\"GlyphRenderer\"},{\"attributes\":{},\"id\":\"38823\",\"type\":\"WheelZoomTool\"},{\"attributes\":{\"label\":{\"value\":\"IR_ps\"},\"renderers\":[{\"id\":\"38856\"}]},\"id\":\"38870\",\"type\":\"LegendItem\"},{\"attributes\":{\"data_source\":{\"id\":\"38836\"},\"glyph\":{\"id\":\"38837\"},\"hover_glyph\":null,\"muted_glyph\":null,\"nonselection_glyph\":{\"id\":\"38838\"},\"view\":{\"id\":\"38840\"}},\"id\":\"38839\",\"type\":\"GlyphRenderer\"}],\"root_ids\":[\"38803\"]},\"title\":\"Bokeh Application\",\"version\":\"2.3.1\"}};\n  var render_items = [{\"docid\":\"8675c544-0243-4fe7-9db1-5db92d1bbe59\",\"root_ids\":[\"38803\"],\"roots\":{\"38803\":\"7981bc37-f214-4342-b5c8-402f02e5df4d\"}}];\n  root.Bokeh.embed.embed_items_notebook(docs_json, render_items);\n\n  }\n  if (root.Bokeh !== undefined) {\n    embed_document(root);\n  } else {\n    var attempts = 0;\n    var timer = setInterval(function(root) {\n      if (root.Bokeh !== undefined) {\n        clearInterval(timer);\n        embed_document(root);\n      } else {\n        attempts++;\n        if (attempts > 100) {\n          clearInterval(timer);\n          console.log(\"Bokeh: ERROR: Unable to run BokehJS code because BokehJS library is missing\");\n        }\n      }\n    }, 10, root)\n  }\n})(window);",
      "application/vnd.bokehjs_exec.v0+json": ""
     },
     "metadata": {
      "application/vnd.bokehjs_exec.v0+json": {
       "id": "38803"
      }
     },
     "output_type": "display_data"
    }
   ],
   "source": [
    "p = figure(plot_width=400, plot_height=400, title = \"Monthly IR\")\n",
    "p.line(cpi.index,cpi.IR_cpi,line_color=\"navy\",line_width =2.5,legend_label=\"IR_cpi\")\n",
    "p.line(ps_monthly.index,ps_monthly.IR_ps,line_color=\"green\",line_width =2.5,legend_label=\"IR_ps\")\n",
    "\n",
    "\n",
    "p.xaxis.axis_label ='t'\n",
    "p.yaxis.axis_label ='CPI'\n",
    "show(p)"
   ]
  },
  {
   "cell_type": "markdown",
   "metadata": {},
   "source": [
    "Next, we use the PriceStat from the last day of the month to represent the monthly PriceStats value and then proceed to calculate monthly inflation rate using this monthly PriceStats value"
   ]
  },
  {
   "cell_type": "code",
   "execution_count": 58,
   "metadata": {},
   "outputs": [
    {
     "name": "stdout",
     "output_type": "stream",
     "text": [
      "The inflation rate from Avg PriceStats for the month of February in 2013 was 1.159452992 %\n"
     ]
    }
   ],
   "source": [
    "# Inflation rate from pricestat last day\n",
    "ps_monthly_last = pd.DataFrame(columns =['YearMonth','PS'])\n",
    "ps_monthly_last =ps_cpi.drop_duplicates('YearMonth', keep='last').copy().reset_index().drop(['index','CPI'],axis=1)\n",
    "val = calc_inflation_rate(ps_monthly_last.PriceStats.values)\n",
    "\n",
    "\n",
    "ps_monthly_last.loc[1:, 'IR_ps_last'] = val\n",
    "print(\"The inflation rate from Avg PriceStats for the month of February in 2013 was %0.9f\" % ps_monthly_last[ps_monthly_last.YearMonth == '2013-02']['IR_ps_last']  + \" %\")\n",
    "\n",
    "ps_ir_train2 = (ps_monthly_last[ps_monthly_last.YearMonth<'2013-09'].copy())\n",
    "ps_ir_test2 = (ps_monthly_last[ps_monthly_last.YearMonth >='2013-09'].copy())\n",
    "\n",
    "\n"
   ]
  },
  {
   "cell_type": "markdown",
   "metadata": {},
   "source": [
    "Lastly, we first calculate daily inflation rates and use the average of these rates across a month to represent the monthly inflation rate"
   ]
  },
  {
   "cell_type": "code",
   "execution_count": 59,
   "metadata": {},
   "outputs": [
    {
     "name": "stdout",
     "output_type": "stream",
     "text": [
      "The inflation rate from last day PriceStats for the month of February in 2013 was 1.235507066 %\n"
     ]
    }
   ],
   "source": [
    "ps_cpi_temp = ps_cpi.copy()\n",
    "ps_monthly_daily = pd.DataFrame(columns =['YearMonth','IR'])\n",
    "val = calc_inflation_rate(ps_cpi.PriceStats.values)\n",
    "ps_cpi_temp = ps_cpi_temp.drop([0])\n",
    "ps_cpi_temp['Daily_PS_IR'] = [i for i in val]\n",
    "\n",
    "ps_monthly_daily['IR'] =ps_cpi_temp.groupby('YearMonth').Daily_PS_IR.mean().values*30\n",
    "ps_monthly_daily['YearMonth'] = cpi.YearMonth\n",
    "\n",
    "ps_ir_train3 = (ps_monthly_daily[ps_monthly_daily.YearMonth<'2013-09'].copy())\n",
    "ps_ir_test3 = (ps_monthly_daily[ps_monthly_daily.YearMonth >='2013-09'].copy())\n",
    "\n",
    "print(\"The inflation rate from last day PriceStats for the month of February in 2013 was %0.9f\" % ps_monthly_daily[ps_monthly_daily.YearMonth == '2013-02']['IR'] + \" %\")"
   ]
  },
  {
   "cell_type": "code",
   "execution_count": 454,
   "metadata": {},
   "outputs": [
    {
     "data": {
      "text/html": [
       "\n",
       "\n",
       "\n",
       "\n",
       "\n",
       "\n",
       "  <div class=\"bk-root\" id=\"4a24b93b-f367-48e6-880a-2edbc24b41b5\" data-root-id=\"40969\"></div>\n"
      ]
     },
     "metadata": {},
     "output_type": "display_data"
    },
    {
     "data": {
      "application/javascript": "(function(root) {\n  function embed_document(root) {\n    \n  var docs_json = {\"4d6b3b9c-0ae5-4f98-8c81-2682c0b66ad7\":{\"defs\":[],\"roots\":{\"references\":[{\"attributes\":{\"below\":[{\"id\":\"40980\"}],\"center\":[{\"id\":\"40983\"},{\"id\":\"40987\"},{\"id\":\"41017\"}],\"height\":400,\"left\":[{\"id\":\"40984\"}],\"renderers\":[{\"id\":\"41005\"},{\"id\":\"41022\"},{\"id\":\"41040\"},{\"id\":\"41060\"}],\"title\":{\"id\":\"40970\"},\"toolbar\":{\"id\":\"40995\"},\"width\":400,\"x_range\":{\"id\":\"40972\"},\"x_scale\":{\"id\":\"40976\"},\"y_range\":{\"id\":\"40974\"},\"y_scale\":{\"id\":\"40978\"}},\"id\":\"40969\",\"subtype\":\"Figure\",\"type\":\"Plot\"},{\"attributes\":{\"line_alpha\":0.1,\"line_color\":\"orange\",\"line_width\":2.5,\"x\":{\"field\":\"x\"},\"y\":{\"field\":\"y\"}},\"id\":\"41059\",\"type\":\"Line\"},{\"attributes\":{},\"id\":\"41034\",\"type\":\"UnionRenderers\"},{\"attributes\":{\"label\":{\"value\":\"IR from PS last day\"},\"renderers\":[{\"id\":\"41040\"}]},\"id\":\"41056\",\"type\":\"LegendItem\"},{\"attributes\":{\"label\":{\"value\":\"IR from CPI\"},\"renderers\":[{\"id\":\"41005\"}]},\"id\":\"41018\",\"type\":\"LegendItem\"},{\"attributes\":{},\"id\":\"40981\",\"type\":\"BasicTicker\"},{\"attributes\":{\"axis\":{\"id\":\"40980\"},\"ticker\":null},\"id\":\"40983\",\"type\":\"Grid\"},{\"attributes\":{\"line_alpha\":0.1,\"line_color\":\"red\",\"line_width\":2.5,\"x\":{\"field\":\"x\"},\"y\":{\"field\":\"y\"}},\"id\":\"41039\",\"type\":\"Line\"},{\"attributes\":{\"data\":{\"x\":[0,1,2,3,4,5,6,7,8,9,10,11,12,13,14,15,16,17,18,19,20,21,22,23,24,25,26,27,28,29,30,31,32,33,34,35,36,37,38,39,40,41,42,43,44,45,46,47,48,49,50,51,52,53,54,55,56,57,58,59,60,61,62,63,64,65,66,67,68,69,70,71,72,73,74,75,76,77,78,79,80,81,82,83,84,85,86,87,88,89,90,91,92,93,94,95,96,97,98,99,100,101,102,103,104,105,106,107,108,109,110,111,112,113,114,115,116,117,118,119,120,121,122,123,124,125,126,127,128,129,130,131,132,133,134,135,136],\"y\":{\"__ndarray__\":\"AAAAAAAA+H+AJeSDns3gP2qi5gOOjNm/DchGZCOywb/LOlMhhinwv/Ff0QkBpf6/SWkQDUKM8L80TvGZ+drbPwFLVGxb098/Bqj8VYAgzz/jU1MhE/TPP2l3CCcDfdI/bpg+yNJ86z8SABdHxUvEv+vlS8WOtcw/ajGFUmsDsD/b6jCo8qe4P6ZJZemHHbI/9M0E/8WKxr/t8sQgK9/VP8bdbRxAhZk/oL/L1ctH2j91Nn3MdzvGP1wSvz1m17M/vubAnI7+uL8dbqr4BKGVPys+inYwrME/tWqcQ/LIrT8al7qIzeC/P40EdvjiiKU/6g269XgAxj+Rh7Ui0nvePwzq/Wljj98/yYMNfucz7z/LTM8d6prkP49Fau+4HN4/SNdyTPVqu78MH+07sq62PxRZzH3JpdE/UbcVaV1vwz8cZa6dpmfKv3Lm6+oZmbW/0jxIZveRz79vmXFsJSncP++8gjXxLdw/DBRUfLxN6D+D/7eYj1XTP9h9Rj8EC76/USSStrvEwr+ViVfu1dvEv4bkn7IZz+E/41CqPtWO3D/OKeo5UPKjv3AmpQcyU96/6+tQcqA70b/N+dvdH+3SPyGX8e0mNeo/zY6vZ4+70D93PUVcpZ26v9R+WyADysY/dY/2rWG4zj88+vt4ADOkP/5Fd2xcyr4/toVVuX/FvT9M4LOGuHvQv07X3RvZJMq/69qSCDx/gb9sn+oi3c7XP5glMDJ7qtc/q93nOrmb5D/Hc6ehRRnVP2z2wktDWtY/Dwyn8DLXxz/rYQLbJfqjv1zk5S9GYsW/TE0fgcZDsz9zXHrhQhTQv1+QPFNUR+G/4KTF/7Ik4r/+wNdiPR7ev4j9ShKwyts/IhCAJB4M4z8oRxeBbQbKP2V9NDRET+A/rZfHTkxr1j8UJVo3wWp7PyeRsmbNIcK/b4rj0q/rw7+fnZoQHwanvz1x9by+A8u/gHhhUZXf1b+krioKMinFPw32tlEfEbU/KScsF+OO2z9VejaOWljeP56z6A7h5Nk/zXP0PmwF1T+luP1xTrjEv8gXQuwbg7c/BdKYwTPFzj/L4Jh0Hu2/P4LL/oXn58O/mYDWXNfBoD+MmjZZAabiP6AuRrzOIdQ/CncvWX7PtD/OgYH6ffrSPwPFgN+n4LU/Uk2pX3I7tz+cPC5Meaexvyc99nHYKNM/tLySQYXx4D8EwmsrviiwvyDWnNEJn2M/yhfHsMgcrr9SQ4asFG/hP2gCjWn7Bd0/clUBA2bxzD94FY/KDXDZP8iiyRTzndo/Rrqm0vRnxD/jAfTJGGN7PzK+l/nEc6w/ptnNGEa/vT+QpdbvdJ/GPyrQ/EDIb9W/BE9ZZB5x1L+3YmLyWWfIP1r7+5XPDNs/YKekKnUN4j9c9pwOJvLgP+YJXisuP8s/s83xiN9ilD96KU7zXWPFP/BrXK+g9XS/AAAAAAAA+H8AAAAAAAD4fw==\",\"dtype\":\"float64\",\"order\":\"little\",\"shape\":[137]}},\"selected\":{\"id\":\"41014\"},\"selection_policy\":{\"id\":\"41015\"}},\"id\":\"41002\",\"type\":\"ColumnDataSource\"},{\"attributes\":{},\"id\":\"40993\",\"type\":\"HelpTool\"},{\"attributes\":{\"line_alpha\":0.1,\"line_color\":\"green\",\"line_width\":2.5,\"x\":{\"field\":\"x\"},\"y\":{\"field\":\"y\"}},\"id\":\"41021\",\"type\":\"Line\"},{\"attributes\":{},\"id\":\"41075\",\"type\":\"Selection\"},{\"attributes\":{\"data_source\":{\"id\":\"41037\"},\"glyph\":{\"id\":\"41038\"},\"hover_glyph\":null,\"muted_glyph\":null,\"nonselection_glyph\":{\"id\":\"41039\"},\"view\":{\"id\":\"41041\"}},\"id\":\"41040\",\"type\":\"GlyphRenderer\"},{\"attributes\":{\"items\":[{\"id\":\"41018\"},{\"id\":\"41036\"},{\"id\":\"41056\"},{\"id\":\"41078\"}],\"location\":\"bottom_right\"},\"id\":\"41017\",\"type\":\"Legend\"},{\"attributes\":{},\"id\":\"41008\",\"type\":\"AllLabels\"},{\"attributes\":{\"data\":{\"x\":[0,1,2,3,4,5,6,7,8,9,10,11,12,13,14,15,16,17,18,19,20,21,22,23,24,25,26,27,28,29,30,31,32,33,34,35,36,37,38,39,40,41,42,43,44,45,46,47,48,49,50,51,52,53,54,55,56,57,58,59,60,61,62,63,64,65,66,67,68,69,70,71,72,73,74,75,76,77,78,79,80,81,82,83,84,85,86,87,88,89,90,91,92,93,94,95,96,97,98,99,100,101,102,103,104,105,106,107,108,109,110,111,112,113,114,115,116,117,118,119,120,121,122,123,124,125,126,127,128,129,130,131,132,133,134,135,136],\"y\":{\"__ndarray__\":\"AAAAAAAA+H+Byv6jqVjLv1mHFkZcras/oVFqPG2f+7+od5nfzmf3v4+YJEkNMeG/vLls6S6Q5z+cdgqe5b/WP7k98GoJbdw/mKOjMP+c0j87bi8Y3b/VPzOAG6Dc3tA/spIEa5w71j/wV1tprCeYv/D5Ms4Qiqi/8/c1QY/J4T8Rd1gqmFrEv++ClNghfLa/QS0udKv41D+8vqc7jRPXP07TDOOp/ds/Okr1Rk486D/KgXfZM4vUv2UkeJi4WMo/yzpLQJpL0T8lf74cNqvNv55DdGzTd9U/E+cRUTOT3T+bjoaUhKjZP5MiCOFR2cE/654+XXjCzj8AbTWGA7nMP7V3GgPXeOA/D4VNRGAS6z8yTCrFLIrFvxWbwcDnRNS/M1b6WN/H4D8YPLkrF1lcP4oOz55pr76/9/GVQKwwrz+EjecVlGrLv1yC6S+ChLO/oocoSkQq4j+muB5xoVzqP7IarJ5koeg/5hoVkgYqm7+BhasaIuXTvzivpr8c7eG/0XXuUjHZ3D+MRbtrP1nwP3muSKFPhbk/eUQiJVePy792SIXYkYDJvz3bQgOzj9C/7Oj3T/2j2j/m57qUHo3yPydrpRcKL8u/Azl1iSk1xL+Y9K0UwHbdPxMsy1vvWtC/EDFY7mf81T/JCnwkSWO6P2tFtVRckbW/kCdkWWmBxL/JpsI9dGWfP+8U8gWpecs/VSVMxWjfpj9lxgd8SIjUP/s3Nr3eJNI/rlGegVpdzz/+vo57htvGPy596InaOrs/ABbwQtqCdj8SSNNjOb6zP7ZPVgyEhrE/hQutFxuEyr/z+bn3qJbIv2Mj42DjfOa/Me3m309W2r9UMt/SypbmP9KpkHO7Xss/akoo8o821z8StUnybo3ZPyWHJM0bs8Q/ksPtEIjsoT8OHyQEore0v7pG08HRJL6/3hWE+vCghr/i4Q4FlejMvxx7/cZObo2/t1P2EYlw1r/5WVUEYxuWvxyFBlHPt+Q/fIh9zKh14D8qXqUS3dzWP3guQ6C5x7s/xb9y8fapkL+NVrPSNm7BP+vymCpsNck/CsNvB3/cvz9CqwRiotuxvyCM7cvW7dc/Rlux3NE8xj9lmAfdAvvKPyyjsq65OcU/Oik7vkB6zj9xS21DgUq2P9mi7gIDCr+/Vib+1l0T1D8LcBPBRgPTP8VVuI9dauE/k3hjkm6swj/DZX6673jGP7WYDyZSPrA/2yvF9VAs2z+cwI0UTFWSP8gwzS0KMtE/C0bDbToV3z/Yp8XqbjTYP1u+7QTq6Jw/0QuYLXgfyz9KX5e0TQyJP8lD3H6pytE/ipyNr/nXyD+BvUKdlCbTv4frD5n/gNK/4PjEdD+yvz9GrOUWXizaP7KH8SG/8OE/4/he0UhY3D9U8mr2qPm8Py9Yfn3sz7y/9koEU6Fjwz+ELYMcBpK3v2jO/c0azNE/v/5BQCuEuj9iq8S0WlyQPw==\",\"dtype\":\"float64\",\"order\":\"little\",\"shape\":[137]}},\"selected\":{\"id\":\"41053\"},\"selection_policy\":{\"id\":\"41054\"}},\"id\":\"41037\",\"type\":\"ColumnDataSource\"},{\"attributes\":{},\"id\":\"41053\",\"type\":\"Selection\"},{\"attributes\":{\"data_source\":{\"id\":\"41002\"},\"glyph\":{\"id\":\"41003\"},\"hover_glyph\":null,\"muted_glyph\":null,\"nonselection_glyph\":{\"id\":\"41004\"},\"view\":{\"id\":\"41006\"}},\"id\":\"41005\",\"type\":\"GlyphRenderer\"},{\"attributes\":{\"label\":{\"value\":\"IR from PS average\"},\"renderers\":[{\"id\":\"41022\"}]},\"id\":\"41036\",\"type\":\"LegendItem\"},{\"attributes\":{},\"id\":\"40985\",\"type\":\"BasicTicker\"},{\"attributes\":{\"axis_label\":\"t\",\"formatter\":{\"id\":\"41010\"},\"major_label_policy\":{\"id\":\"41008\"},\"ticker\":{\"id\":\"40981\"}},\"id\":\"40980\",\"type\":\"LinearAxis\"},{\"attributes\":{},\"id\":\"41013\",\"type\":\"BasicTickFormatter\"},{\"attributes\":{},\"id\":\"40992\",\"type\":\"ResetTool\"},{\"attributes\":{},\"id\":\"41011\",\"type\":\"AllLabels\"},{\"attributes\":{\"axis_label\":\"Monthly IR\",\"formatter\":{\"id\":\"41013\"},\"major_label_policy\":{\"id\":\"41011\"},\"ticker\":{\"id\":\"40985\"}},\"id\":\"40984\",\"type\":\"LinearAxis\"},{\"attributes\":{},\"id\":\"40972\",\"type\":\"DataRange1d\"},{\"attributes\":{\"source\":{\"id\":\"41019\"}},\"id\":\"41023\",\"type\":\"CDSView\"},{\"attributes\":{},\"id\":\"40988\",\"type\":\"PanTool\"},{\"attributes\":{},\"id\":\"41054\",\"type\":\"UnionRenderers\"},{\"attributes\":{},\"id\":\"40989\",\"type\":\"WheelZoomTool\"},{\"attributes\":{},\"id\":\"41076\",\"type\":\"UnionRenderers\"},{\"attributes\":{},\"id\":\"40976\",\"type\":\"LinearScale\"},{\"attributes\":{\"line_color\":\"orange\",\"line_width\":2.5,\"x\":{\"field\":\"x\"},\"y\":{\"field\":\"y\"}},\"id\":\"41058\",\"type\":\"Line\"},{\"attributes\":{},\"id\":\"41014\",\"type\":\"Selection\"},{\"attributes\":{\"data_source\":{\"id\":\"41019\"},\"glyph\":{\"id\":\"41020\"},\"hover_glyph\":null,\"muted_glyph\":null,\"nonselection_glyph\":{\"id\":\"41021\"},\"view\":{\"id\":\"41023\"}},\"id\":\"41022\",\"type\":\"GlyphRenderer\"},{\"attributes\":{\"line_color\":\"navy\",\"line_width\":2.5,\"x\":{\"field\":\"x\"},\"y\":{\"field\":\"y\"}},\"id\":\"41003\",\"type\":\"Line\"},{\"attributes\":{},\"id\":\"40978\",\"type\":\"LinearScale\"},{\"attributes\":{\"source\":{\"id\":\"41057\"}},\"id\":\"41061\",\"type\":\"CDSView\"},{\"attributes\":{\"data_source\":{\"id\":\"41057\"},\"glyph\":{\"id\":\"41058\"},\"hover_glyph\":null,\"muted_glyph\":null,\"nonselection_glyph\":{\"id\":\"41059\"},\"view\":{\"id\":\"41061\"}},\"id\":\"41060\",\"type\":\"GlyphRenderer\"},{\"attributes\":{},\"id\":\"41010\",\"type\":\"BasicTickFormatter\"},{\"attributes\":{},\"id\":\"41033\",\"type\":\"Selection\"},{\"attributes\":{},\"id\":\"40991\",\"type\":\"SaveTool\"},{\"attributes\":{\"active_multi\":null,\"tools\":[{\"id\":\"40988\"},{\"id\":\"40989\"},{\"id\":\"40990\"},{\"id\":\"40991\"},{\"id\":\"40992\"},{\"id\":\"40993\"}]},\"id\":\"40995\",\"type\":\"Toolbar\"},{\"attributes\":{\"axis\":{\"id\":\"40984\"},\"dimension\":1,\"ticker\":null},\"id\":\"40987\",\"type\":\"Grid\"},{\"attributes\":{\"line_color\":\"green\",\"line_width\":2.5,\"x\":{\"field\":\"x\"},\"y\":{\"field\":\"y\"}},\"id\":\"41020\",\"type\":\"Line\"},{\"attributes\":{\"line_alpha\":0.1,\"line_color\":\"navy\",\"line_width\":2.5,\"x\":{\"field\":\"x\"},\"y\":{\"field\":\"y\"}},\"id\":\"41004\",\"type\":\"Line\"},{\"attributes\":{\"bottom_units\":\"screen\",\"fill_alpha\":0.5,\"fill_color\":\"lightgrey\",\"left_units\":\"screen\",\"level\":\"overlay\",\"line_alpha\":1.0,\"line_color\":\"black\",\"line_dash\":[4,4],\"line_width\":2,\"right_units\":\"screen\",\"syncable\":false,\"top_units\":\"screen\"},\"id\":\"40994\",\"type\":\"BoxAnnotation\"},{\"attributes\":{\"line_color\":\"red\",\"line_width\":2.5,\"x\":{\"field\":\"x\"},\"y\":{\"field\":\"y\"}},\"id\":\"41038\",\"type\":\"Line\"},{\"attributes\":{\"label\":{\"value\":\"IR from PS average daily\"},\"renderers\":[{\"id\":\"41060\"}]},\"id\":\"41078\",\"type\":\"LegendItem\"},{\"attributes\":{\"data\":{\"x\":[0,1,2,3,4,5,6,7,8,9,10,11,12,13,14,15,16,17,18,19,20,21,22,23,24,25,26,27,28,29,30,31,32,33,34,35,36,37,38,39,40,41,42,43,44,45,46,47,48,49,50,51,52,53,54,55,56,57,58,59,60,61,62,63,64,65,66,67,68,69,70,71,72,73,74,75,76,77,78,79,80,81,82,83,84,85,86,87,88,89,90,91,92,93,94,95,96,97,98,99,100,101,102,103,104,105,106,107,108,109,110,111,112,113,114,115,116,117,118,119,120,121,122,123,124,125,126,127,128,129,130,131,132,133,134,135,136],\"y\":{\"__ndarray__\":\"AAAAAAAA+H9wbZ/50tTIvzCH9WcdPaY/WYAdDuFZ6L+lVB/YVOv8v5fekuwOj/C/D5pzBFf30j9UIhK0kGvlP3Cjlx/zpcs/I0ZzlEn90D8ZPLBTR17YP+o0Xkd4NdI/+Oeyp6wO1T9x8IAT4b3AP6Jzlex7Q6o/N6FNJq/Bqj9HqhK5DkXSP76UV5QWj8K/G7DzMZM23j8jTeHQc6C5v1uEgAF8z+M/eQGEKmH43z+r4udCJfnZP+707ZGZp9e/EJQFM+pS1z/WYuVQSwi8P48DFNPrPq0/Fv/kNyB93D/z94BKzQXWP0WMECM5+sY/0kun5a7D0D9TLJUzMS7QP/PVBS+todU/s0eTRxzj5j+x3Rjde/vdP+6BIqnwGti/abwk6KLMuz/Q0DE11jC7P1VqTCZq/ck/781/uuSszL/DjWCsb16cP4VCU3uXxtG/VTkoyu8b1z9A7ufQAjHjP1PwZrv9Uu0/2e8VJRu52D+6eeaK/g3Rv5lW8xiJYNi/EDd6uqNPur/AlOtsCxbqP9cxD5vsi+E/KBMqSdX9oT/endTQijzbv19EK5egJ9K/LKkXbknmtj/baI1R65LwP9xy6AgFBNQ/kd774CIIur9u9ndRUoPEP+FvEL/0ZLQ/9784pMeVqT8zf6bkJHS9P8hSFYCtf7Y/yMOJT6plxL/D3sWH3dqmvyWD+JuUVbA/ga41tMSlyj/2/dNDDVzFP3vSJG9HX9A/1lNCqH1E0j//mDRANrzNP9mnrM/yccE/htBSd4C2sT/6NXU9wIynP64qAsH8KLQ/29ECUO2+t7+LSuoXFx/Hv/kHxwJUUN2/9oDGx9Ed5b93KN/OjDzPP8fALazPaOA/2oR1CwXMxD9cTitw9xzgPy42pxqp5tA/i04zPTokuD9EoAdsHoqEv8jrS4DYpcm/9XGJwvGYoj+YzA1hEEnAv+tmr+YTD8C/vla8VOlwyL84kUfdu0zSv0PviZ6Ue9o/SCo9dyYd4D+udiGJqUPeP4H0xe5qutQ/cFpLkbVLn7+WeoLKFIaTP3okxz1E88Y/C18ZSZH5xz8LX30ko2aWv7rUvXqQ7sU/i9xKTc/L2T8dWx7sRUi2P+ZH0VwJC8o/m2Kob1Glyz+odJT3/mO7P5+BaUUJ060/rGEUj1qKpT8ZD1u17WnSP9vZWA4cWOQ/h+SAqCEPxD/fyGhLN93MP1tVM5qST40/+r6UTDbg0T+h42ol+WPNP1TB8Tz/fLw/GYXD+23+2T+4ZKE5D/vaP4wSKMQIaMs/lLRnVP3xwD+Q4G5R1Eu8P212zL5rlMM/FhdketB00D9GMGnyWUm6v3oYfUvPrNO/xxERaN1lt78V+RYnbEPQP9FI9JGCI+E/USGS8GfL4D/mTexJmCjRPy49X1GLkqe/3/ao83tstj/AsWZfo8SFvyUh+/4sPbk//qDGfl41xj/6f0Mq0Xq0Pw==\",\"dtype\":\"float64\",\"order\":\"little\",\"shape\":[137]}},\"selected\":{\"id\":\"41033\"},\"selection_policy\":{\"id\":\"41034\"}},\"id\":\"41019\",\"type\":\"ColumnDataSource\"},{\"attributes\":{\"source\":{\"id\":\"41037\"}},\"id\":\"41041\",\"type\":\"CDSView\"},{\"attributes\":{\"data\":{\"x\":[0,1,2,3,4,5,6,7,8,9,10,11,12,13,14,15,16,17,18,19,20,21,22,23,24,25,26,27,28,29,30,31,32,33,34,35,36,37,38,39,40,41,42,43,44,45,46,47,48,49,50,51,52,53,54,55,56,57,58,59,60,61,62,63,64,65,66,67,68,69,70,71,72,73,74,75,76,77,78,79,80,81,82,83,84,85,86,87,88,89,90,91,92,93,94,95,96,97,98,99,100,101,102,103,104,105,106,107,108,109,110,111,112,113,114,115,116,117,118,119,120,121,122,123,124,125,126,127,128,129,130,131,132,133,134,135,136],\"y\":{\"__ndarray__\":\"4GJXrAQx4r9h7N5SPn3Kv76+Eu7AyKs/ldDKrs/z+r+6PEg5LZL3v8J5OpRtreC/pybcn/y55j81k6JJ1lnYPyNcbkFOdNs/4JieevaW0j+qaYcG7QTVPxFTY+b82tA/sJ0hYXl71T/SsxKNOSaXvx/XPFgPg6i//3xqUPMr4T+Jp1ZKtlzEv15tcN5RvLW/6hZpBQpI1D87wrrXBrLYP7CSaDaqCds/F6wVPOsm6D+sU8KEu+fTv+7HieXoV8o/iP6uPrG70D/sijJf77rMv/be4uTuctU/djFspBiR3D90z9+GubDZP2FqkmwCRME//najng/AzT+VStAQ4r/OP0dfbAuFz98/iHK3VvD26j9IcGQe3tjEv79vQO4sPtS/Zqf7Oy424D9IWnqUjfZcP87VyUNGpL6/5bDlWRRBrj+Odf3jf2/Lv+D37lwC3rK/PguUZjKJ4T8cpKoSlSrrP2ZBa3W9v+c/2FmmGG4Wm7+IKeat20bTv7mvG6UC+eG/Z4Y7SxLd2z+MZtwvBX7vPyL2JXeZjLk/AJmUOlmryr+vFNkSsILJv6TlieRdCtC/99xwlhy82T/qf5IOo8TzPxEwrDp/VMq/X0Qkf1QzxL+weOmJv3TcP5S/Xha0X9C/hcp0224+1T/4mVptq4e5PyBcn/OIkrW/JJ4laz7bw7+wZWFCJm6fP2QV1Ax1kMo/Uki7bKUppj9ndYB4d/jVPxCiQtHzidE/PW36QG5Uzz92A2PXTRrGPxVxK/7VN7s/3fv3+HTWdT8alDk6GxqzPwQ9mYzdhbE/+YyDfaityb9ogKmAn5vIvy9Xbtvw1eW/ztChFzCJ2b/w+FsZUh/oP4LCNXtBd8o/FP4IQOcs1z8oND2rOK/YP7aWpS9ssMQ/rO65z1VboT+I8Prutgu0v6I4jkSrJ76/aIXrLTvchb+R1dGe2u7Mv7QWuocRa4y/xGJBhVnA1b9wwGSTw9WWvyvYJmfw/OM/FrsMv5Rr4D/Ct7NophbWP/h3exshxrs/jD6rUYockL/ISjqBONzAP7tnsbS9L8k/pAYkZYDWvj8I3WH88Nqxv/pW7BIAHtc/RM4zc3OCxT/cOAajQeHMPwjy9IC3hsQ/h+nW4Hhxzj+o1JuAAJG1PzOUYxupDb+/UxHoX2Zm0z/ArqRH61/SPywtlqywX+E/6HHIqr8Pwj/sEcYZ43XGP2qqUXZedK8/+UdjrpM+2j8YOHcpWaqTP96Iw8v3ntA/ltIPGfYC3z9ZX2EM2mHXP2SCiR/57Zw/EC1Xq3Q5yj9YU9o5j0WIPw3yTtbZxNE/JrBrtZ0FyD9m7tjLdyzTv4MUCi8E7tG/I5y6lLGovj9J7wn/9P3bP4xWsXuzUOE/4KZnFhlJ3D9beCK5Iwe8Pwv5q8Z10ry/wODCTNHAwj+D8sVmLdG2v34Vj/zVxtE/O/d2wpOnuT8hPs9Km4q4Pw==\",\"dtype\":\"float64\",\"order\":\"little\",\"shape\":[137]}},\"selected\":{\"id\":\"41075\"},\"selection_policy\":{\"id\":\"41076\"}},\"id\":\"41057\",\"type\":\"ColumnDataSource\"},{\"attributes\":{},\"id\":\"41015\",\"type\":\"UnionRenderers\"},{\"attributes\":{\"source\":{\"id\":\"41002\"}},\"id\":\"41006\",\"type\":\"CDSView\"},{\"attributes\":{},\"id\":\"40974\",\"type\":\"DataRange1d\"},{\"attributes\":{\"overlay\":{\"id\":\"40994\"}},\"id\":\"40990\",\"type\":\"BoxZoomTool\"},{\"attributes\":{\"text\":\"Monthly Inflation Rate in %\"},\"id\":\"40970\",\"type\":\"Title\"}],\"root_ids\":[\"40969\"]},\"title\":\"Bokeh Application\",\"version\":\"2.3.1\"}};\n  var render_items = [{\"docid\":\"4d6b3b9c-0ae5-4f98-8c81-2682c0b66ad7\",\"root_ids\":[\"40969\"],\"roots\":{\"40969\":\"4a24b93b-f367-48e6-880a-2edbc24b41b5\"}}];\n  root.Bokeh.embed.embed_items_notebook(docs_json, render_items);\n\n  }\n  if (root.Bokeh !== undefined) {\n    embed_document(root);\n  } else {\n    var attempts = 0;\n    var timer = setInterval(function(root) {\n      if (root.Bokeh !== undefined) {\n        clearInterval(timer);\n        embed_document(root);\n      } else {\n        attempts++;\n        if (attempts > 100) {\n          clearInterval(timer);\n          console.log(\"Bokeh: ERROR: Unable to run BokehJS code because BokehJS library is missing\");\n        }\n      }\n    }, 10, root)\n  }\n})(window);",
      "application/vnd.bokehjs_exec.v0+json": ""
     },
     "metadata": {
      "application/vnd.bokehjs_exec.v0+json": {
       "id": "40969"
      }
     },
     "output_type": "display_data"
    }
   ],
   "source": [
    "#plotting the monthly inflation rates computed from CPI, and Pricestats\n",
    "p = figure(plot_width=400, plot_height=400, title = \"Monthly Inflation Rate in %\")\n",
    "p.line(cpi.index,cpi['IR_cpi'],line_color=\"navy\",line_width =2.5,legend_label =\"IR from CPI\")\n",
    "p.line(ps_monthly.index,ps_monthly.IR_ps,line_color=\"green\",line_width =2.5,legend_label =\"IR from PS average\")\n",
    "p.line(ps_monthly_last.index,ps_monthly_last.IR_ps_last,line_color=\"red\",line_width =2.5,legend_label =\"IR from PS last day\")\n",
    "p.line(ps_monthly_last.index,ps_monthly_daily.IR,line_color=\"orange\",line_width =2.5,legend_label =\"IR from PS average daily\")\n",
    "# p.line(cpi_train.index[1:],ber_ir_train.IR_ber,line_color=\"red\",line_width=2.5,legend_label =\"BER (Avg)\")\n",
    "\n",
    "\n",
    "p.xaxis.axis_label ='t'\n",
    "p.yaxis.axis_label ='Monthly IR'\n",
    "p.legend.location='bottom_right'\n",
    "\n",
    "show(p)"
   ]
  },
  {
   "cell_type": "code",
   "execution_count": 68,
   "metadata": {},
   "outputs": [
    {
     "data": {
      "text/html": [
       "\n",
       "\n",
       "\n",
       "\n",
       "\n",
       "\n",
       "  <div class=\"bk-root\" id=\"dd6afca4-ad0f-4306-9631-5bf9d592fd2b\" data-root-id=\"13192\"></div>\n"
      ]
     },
     "metadata": {},
     "output_type": "display_data"
    },
    {
     "data": {
      "application/javascript": "(function(root) {\n  function embed_document(root) {\n    \n  var docs_json = {\"5fe75d9a-8649-4cb7-a0df-a89d25e37128\":{\"defs\":[],\"roots\":{\"references\":[{\"attributes\":{\"below\":[{\"id\":\"13203\"}],\"center\":[{\"id\":\"13206\"},{\"id\":\"13210\"},{\"id\":\"13240\"}],\"height\":300,\"left\":[{\"id\":\"13207\"}],\"renderers\":[{\"id\":\"13228\"},{\"id\":\"13245\"},{\"id\":\"13263\"}],\"title\":{\"id\":\"13193\"},\"toolbar\":{\"id\":\"13218\"},\"width\":800,\"x_range\":{\"id\":\"13195\"},\"x_scale\":{\"id\":\"13199\"},\"y_range\":{\"id\":\"13197\"},\"y_scale\":{\"id\":\"13201\"}},\"id\":\"13192\",\"subtype\":\"Figure\",\"type\":\"Plot\"},{\"attributes\":{},\"id\":\"13236\",\"type\":\"BasicTickFormatter\"},{\"attributes\":{\"data_source\":{\"id\":\"13225\"},\"glyph\":{\"id\":\"13226\"},\"hover_glyph\":null,\"muted_glyph\":null,\"nonselection_glyph\":{\"id\":\"13227\"},\"view\":{\"id\":\"13229\"}},\"id\":\"13228\",\"type\":\"GlyphRenderer\"},{\"attributes\":{\"line_alpha\":0.1,\"line_color\":\"green\",\"line_width\":2.5,\"x\":{\"field\":\"x\"},\"y\":{\"field\":\"y\"}},\"id\":\"13227\",\"type\":\"Line\"},{\"attributes\":{},\"id\":\"13237\",\"type\":\"Selection\"},{\"attributes\":{\"data\":{\"x\":[0,1,2,3,4,5,6,7,8,9,10,11,12,13,14,15,16,17,18,19,20,21,22,23,24,25,26,27,28,29,30,31,32,33,34,35,36,37,38,39,40,41,42,43,44,45,46,47,48,49,50,51,52,53,54,55,56,57,58,59,60,61],\"y\":{\"__ndarray__\":\"AAAAAAAA+H+Byv6jqVjLv1mHFkZcras/oVFqPG2f+7+od5nfzmf3v4+YJEkNMeG/vLls6S6Q5z+cdgqe5b/WP7k98GoJbdw/mKOjMP+c0j87bi8Y3b/VPzOAG6Dc3tA/spIEa5w71j/wV1tprCeYv/D5Ms4Qiqi/8/c1QY/J4T8Rd1gqmFrEv++ClNghfLa/QS0udKv41D+8vqc7jRPXP07TDOOp/ds/Okr1Rk486D/KgXfZM4vUv2UkeJi4WMo/yzpLQJpL0T8lf74cNqvNv55DdGzTd9U/E+cRUTOT3T+bjoaUhKjZP5MiCOFR2cE/654+XXjCzj8AbTWGA7nMP7V3GgPXeOA/D4VNRGAS6z8yTCrFLIrFvxWbwcDnRNS/M1b6WN/H4D8YPLkrF1lcP4oOz55pr76/9/GVQKwwrz+EjecVlGrLv1yC6S+ChLO/oocoSkQq4j+muB5xoVzqP7IarJ5koeg/5hoVkgYqm7+BhasaIuXTvzivpr8c7eG/0XXuUjHZ3D+MRbtrP1nwP3muSKFPhbk/eUQiJVePy792SIXYkYDJvz3bQgOzj9C/7Oj3T/2j2j/m57qUHo3yPydrpRcKL8u/Azl1iSk1xL+Y9K0UwHbdPxMsy1vvWtC/EDFY7mf81T/JCnwkSWO6Pw==\",\"dtype\":\"float64\",\"order\":\"little\",\"shape\":[62]}},\"selected\":{\"id\":\"13276\"},\"selection_policy\":{\"id\":\"13277\"}},\"id\":\"13260\",\"type\":\"ColumnDataSource\"},{\"attributes\":{},\"id\":\"13256\",\"type\":\"Selection\"},{\"attributes\":{},\"id\":\"13211\",\"type\":\"PanTool\"},{\"attributes\":{\"axis\":{\"id\":\"13207\"},\"dimension\":1,\"ticker\":null},\"id\":\"13210\",\"type\":\"Grid\"},{\"attributes\":{\"line_alpha\":0.1,\"line_color\":\"red\",\"line_width\":2.5,\"x\":{\"field\":\"x\"},\"y\":{\"field\":\"y\"}},\"id\":\"13244\",\"type\":\"Line\"},{\"attributes\":{},\"id\":\"13212\",\"type\":\"WheelZoomTool\"},{\"attributes\":{\"data_source\":{\"id\":\"13242\"},\"glyph\":{\"id\":\"13243\"},\"hover_glyph\":null,\"muted_glyph\":null,\"nonselection_glyph\":{\"id\":\"13244\"},\"view\":{\"id\":\"13246\"}},\"id\":\"13245\",\"type\":\"GlyphRenderer\"},{\"attributes\":{},\"id\":\"13208\",\"type\":\"BasicTicker\"},{\"attributes\":{\"data\":{\"x\":[0,1,2,3,4,5,6,7,8,9,10,11,12,13,14,15,16,17,18,19,20,21,22,23,24,25,26,27,28,29,30,31,32,33,34,35,36,37,38,39,40,41,42,43,44,45,46,47,48,49,50,51,52,53,54,55,56,57,58,59,60,61],\"y\":{\"__ndarray__\":\"AAAAAAAA+H9wbZ/50tTIvzCH9WcdPaY/WYAdDuFZ6L+lVB/YVOv8v5fekuwOj/C/D5pzBFf30j9UIhK0kGvlP3Cjlx/zpcs/I0ZzlEn90D8ZPLBTR17YP+o0Xkd4NdI/+Oeyp6wO1T9x8IAT4b3AP6Jzlex7Q6o/N6FNJq/Bqj9HqhK5DkXSP76UV5QWj8K/G7DzMZM23j8jTeHQc6C5v1uEgAF8z+M/eQGEKmH43z+r4udCJfnZP+707ZGZp9e/EJQFM+pS1z/WYuVQSwi8P48DFNPrPq0/Fv/kNyB93D/z94BKzQXWP0WMECM5+sY/0kun5a7D0D9TLJUzMS7QP/PVBS+todU/s0eTRxzj5j+x3Rjde/vdP+6BIqnwGti/abwk6KLMuz/Q0DE11jC7P1VqTCZq/ck/781/uuSszL/DjWCsb16cP4VCU3uXxtG/VTkoyu8b1z9A7ufQAjHjP1PwZrv9Uu0/2e8VJRu52D+6eeaK/g3Rv5lW8xiJYNi/EDd6uqNPur/AlOtsCxbqP9cxD5vsi+E/KBMqSdX9oT/endTQijzbv19EK5egJ9K/LKkXbknmtj/baI1R65LwP9xy6AgFBNQ/kd774CIIur9u9ndRUoPEP+FvEL/0ZLQ/9784pMeVqT8zf6bkJHS9Pw==\",\"dtype\":\"float64\",\"order\":\"little\",\"shape\":[62]}},\"selected\":{\"id\":\"13237\"},\"selection_policy\":{\"id\":\"13238\"}},\"id\":\"13225\",\"type\":\"ColumnDataSource\"},{\"attributes\":{\"overlay\":{\"id\":\"13217\"}},\"id\":\"13213\",\"type\":\"BoxZoomTool\"},{\"attributes\":{\"formatter\":{\"id\":\"13236\"},\"major_label_policy\":{\"id\":\"13234\"},\"ticker\":{\"id\":\"13208\"}},\"id\":\"13207\",\"type\":\"LinearAxis\"},{\"attributes\":{\"source\":{\"id\":\"13242\"}},\"id\":\"13246\",\"type\":\"CDSView\"},{\"attributes\":{},\"id\":\"13214\",\"type\":\"SaveTool\"},{\"attributes\":{\"line_color\":\"red\",\"line_width\":2.5,\"x\":{\"field\":\"x\"},\"y\":{\"field\":\"y\"}},\"id\":\"13243\",\"type\":\"Line\"},{\"attributes\":{},\"id\":\"13215\",\"type\":\"ResetTool\"},{\"attributes\":{\"axis\":{\"id\":\"13203\"},\"ticker\":null},\"id\":\"13206\",\"type\":\"Grid\"},{\"attributes\":{},\"id\":\"13257\",\"type\":\"UnionRenderers\"},{\"attributes\":{},\"id\":\"13216\",\"type\":\"HelpTool\"},{\"attributes\":{},\"id\":\"13199\",\"type\":\"LinearScale\"},{\"attributes\":{\"label\":{\"value\":\"PriceStats (Avg of IR)\"},\"renderers\":[{\"id\":\"13245\"}]},\"id\":\"13259\",\"type\":\"LegendItem\"},{\"attributes\":{},\"id\":\"13204\",\"type\":\"BasicTicker\"},{\"attributes\":{\"active_multi\":null,\"tools\":[{\"id\":\"13211\"},{\"id\":\"13212\"},{\"id\":\"13213\"},{\"id\":\"13214\"},{\"id\":\"13215\"},{\"id\":\"13216\"}]},\"id\":\"13218\",\"type\":\"Toolbar\"},{\"attributes\":{\"label\":{\"value\":\"PriceStats (Avg)\"},\"renderers\":[{\"id\":\"13228\"}]},\"id\":\"13241\",\"type\":\"LegendItem\"},{\"attributes\":{\"formatter\":{\"id\":\"13233\"},\"major_label_policy\":{\"id\":\"13231\"},\"ticker\":{\"id\":\"13204\"}},\"id\":\"13203\",\"type\":\"LinearAxis\"},{\"attributes\":{\"bottom_units\":\"screen\",\"fill_alpha\":0.5,\"fill_color\":\"lightgrey\",\"left_units\":\"screen\",\"level\":\"overlay\",\"line_alpha\":1.0,\"line_color\":\"black\",\"line_dash\":[4,4],\"line_width\":2,\"right_units\":\"screen\",\"syncable\":false,\"top_units\":\"screen\"},\"id\":\"13217\",\"type\":\"BoxAnnotation\"},{\"attributes\":{},\"id\":\"13201\",\"type\":\"LinearScale\"},{\"attributes\":{},\"id\":\"13276\",\"type\":\"Selection\"},{\"attributes\":{},\"id\":\"13238\",\"type\":\"UnionRenderers\"},{\"attributes\":{\"line_alpha\":0.1,\"line_color\":\"purple\",\"line_width\":2.5,\"x\":{\"field\":\"x\"},\"y\":{\"field\":\"y\"}},\"id\":\"13262\",\"type\":\"Line\"},{\"attributes\":{\"data_source\":{\"id\":\"13260\"},\"glyph\":{\"id\":\"13261\"},\"hover_glyph\":null,\"muted_glyph\":null,\"nonselection_glyph\":{\"id\":\"13262\"},\"view\":{\"id\":\"13264\"}},\"id\":\"13263\",\"type\":\"GlyphRenderer\"},{\"attributes\":{},\"id\":\"13197\",\"type\":\"DataRange1d\"},{\"attributes\":{\"source\":{\"id\":\"13260\"}},\"id\":\"13264\",\"type\":\"CDSView\"},{\"attributes\":{\"items\":[{\"id\":\"13241\"},{\"id\":\"13259\"},{\"id\":\"13279\"}],\"location\":\"bottom_right\"},\"id\":\"13240\",\"type\":\"Legend\"},{\"attributes\":{\"source\":{\"id\":\"13225\"}},\"id\":\"13229\",\"type\":\"CDSView\"},{\"attributes\":{},\"id\":\"13195\",\"type\":\"DataRange1d\"},{\"attributes\":{\"line_color\":\"green\",\"line_width\":2.5,\"x\":{\"field\":\"x\"},\"y\":{\"field\":\"y\"}},\"id\":\"13226\",\"type\":\"Line\"},{\"attributes\":{\"line_color\":\"purple\",\"line_width\":2.5,\"x\":{\"field\":\"x\"},\"y\":{\"field\":\"y\"}},\"id\":\"13261\",\"type\":\"Line\"},{\"attributes\":{},\"id\":\"13231\",\"type\":\"AllLabels\"},{\"attributes\":{\"text\":\"Inflation Rates\"},\"id\":\"13193\",\"type\":\"Title\"},{\"attributes\":{\"data\":{\"x\":[0,1,2,3,4,5,6,7,8,9,10,11,12,13,14,15,16,17,18,19,20,21,22,23,24,25,26,27,28,29,30,31,32,33,34,35,36,37,38,39,40,41,42,43,44,45,46,47,48,49,50,51,52,53,54,55,56,57,58,59,60,61],\"y\":{\"__ndarray__\":\"4GJXrAQx4r9h7N5SPn3Kv76+Eu7AyKs/ldDKrs/z+r+6PEg5LZL3v8J5OpRtreC/pybcn/y55j81k6JJ1lnYPyNcbkFOdNs/4JieevaW0j+qaYcG7QTVPxFTY+b82tA/sJ0hYXl71T/SsxKNOSaXvx/XPFgPg6i//3xqUPMr4T+Jp1ZKtlzEv15tcN5RvLW/6hZpBQpI1D87wrrXBrLYP7CSaDaqCds/F6wVPOsm6D+sU8KEu+fTv+7HieXoV8o/iP6uPrG70D/sijJf77rMv/be4uTuctU/djFspBiR3D90z9+GubDZP2FqkmwCRME//najng/AzT+VStAQ4r/OP0dfbAuFz98/iHK3VvD26j9IcGQe3tjEv79vQO4sPtS/Zqf7Oy424D9IWnqUjfZcP87VyUNGpL6/5bDlWRRBrj+Odf3jf2/Lv+D37lwC3rK/PguUZjKJ4T8cpKoSlSrrP2ZBa3W9v+c/2FmmGG4Wm7+IKeat20bTv7mvG6UC+eG/Z4Y7SxLd2z+MZtwvBX7vPyL2JXeZjLk/AJmUOlmryr+vFNkSsILJv6TlieRdCtC/99xwlhy82T/qf5IOo8TzPxEwrDp/VMq/X0Qkf1QzxL+weOmJv3TcP5S/Xha0X9C/hcp0224+1T/4mVptq4e5Pw==\",\"dtype\":\"float64\",\"order\":\"little\",\"shape\":[62]}},\"selected\":{\"id\":\"13256\"},\"selection_policy\":{\"id\":\"13257\"}},\"id\":\"13242\",\"type\":\"ColumnDataSource\"},{\"attributes\":{},\"id\":\"13277\",\"type\":\"UnionRenderers\"},{\"attributes\":{},\"id\":\"13233\",\"type\":\"BasicTickFormatter\"},{\"attributes\":{\"label\":{\"value\":\"PriceStats (Last Day)\"},\"renderers\":[{\"id\":\"13263\"}]},\"id\":\"13279\",\"type\":\"LegendItem\"},{\"attributes\":{},\"id\":\"13234\",\"type\":\"AllLabels\"}],\"root_ids\":[\"13192\"]},\"title\":\"Bokeh Application\",\"version\":\"2.3.1\"}};\n  var render_items = [{\"docid\":\"5fe75d9a-8649-4cb7-a0df-a89d25e37128\",\"root_ids\":[\"13192\"],\"roots\":{\"13192\":\"dd6afca4-ad0f-4306-9631-5bf9d592fd2b\"}}];\n  root.Bokeh.embed.embed_items_notebook(docs_json, render_items);\n\n  }\n  if (root.Bokeh !== undefined) {\n    embed_document(root);\n  } else {\n    var attempts = 0;\n    var timer = setInterval(function(root) {\n      if (root.Bokeh !== undefined) {\n        clearInterval(timer);\n        embed_document(root);\n      } else {\n        attempts++;\n        if (attempts > 100) {\n          clearInterval(timer);\n          console.log(\"Bokeh: ERROR: Unable to run BokehJS code because BokehJS library is missing\");\n        }\n      }\n    }, 10, root)\n  }\n})(window);",
      "application/vnd.bokehjs_exec.v0+json": ""
     },
     "metadata": {
      "application/vnd.bokehjs_exec.v0+json": {
       "id": "13192"
      }
     },
     "output_type": "display_data"
    }
   ],
   "source": [
    "p = figure(plot_width=800, plot_height=300, title = \"Inflation Rates\")\n",
    "p.line(cpi_train.index[0:],ps_ir_train.IR_ps,line_width =2.5, line_color=\"green\", legend_label =\"PriceStats (Avg)\")\n",
    "p.line(cpi_train.index[0:],ps_ir_train2.IR_ps_last,line_width =2.5, line_color=\"purple\", legend_label =\"PriceStats (Last Day)\")\n",
    "p.line(cpi_train.index[0:],ps_ir_train3.IR,line_width =2.5, line_color=\"red\", legend_label =\"PriceStats (Avg of IR)\")\n",
    "\n",
    "#inspect the difference between red and black curve\n",
    "#p.line(cpi_train.index[0:],ps_ir_train3.IR-ps_ir_train2.IR_ps_last,line_width =2.5, line_color=\"red\", legend_label =\"PriceStats (Avg of IR)\")\n",
    "\n",
    "\n",
    "p.legend.location='bottom_right'\n",
    "show(p)"
   ]
  },
  {
   "cell_type": "markdown",
   "metadata": {},
   "source": [
    "Now we move on to converting BER to monthly inflation rates. Just like in PriceStats, BER is reported on a daily basis. We first choose a monthly representative value by averaging the BER across all days of the month. BER is already a rate, however it is reported across a 10 year period. In order to convert this to a monthly value, we must then deannualize it using the following formula.\n",
    "> $BER_t = (BER_t +1)^\\frac{1}{12} -1$"
   ]
  },
  {
   "cell_type": "code",
   "execution_count": 198,
   "metadata": {},
   "outputs": [
    {
     "name": "stdout",
     "output_type": "stream",
     "text": [
      "The inflation rate from BER for the month of February in 2013 was 0.210441852 %\n"
     ]
    }
   ],
   "source": [
    "ber = pd.read_csv('datasets/T10YIE.csv')\n",
    "ber['DATE'] =pd.to_datetime(ber['DATE'])\n",
    "ber['YearMonth'] = ber['DATE'].dt.strftime('%Y-%m')\n",
    "ber = ber.drop(ber[ber.YearMonth< '2008-07'].index)\n",
    "ber = ber.dropna()\n",
    "# print(ber)\n",
    "\n",
    "ber_monthly = pd.DataFrame(columns =['YearMonth','BER'])\n",
    "ber_monthly['BER'] =ber.groupby('YearMonth').T10YIE.mean().values\n",
    "ber_monthly['YearMonth'] = cpi.YearMonth\n",
    "\n",
    "\n",
    "\n",
    "ber_ir_train = (ber_monthly[ber_monthly.YearMonth<'2013-09'].copy())\n",
    "ber_ir_test = (ber_monthly[ber_monthly.YearMonth >='2013-09'].copy())\n",
    "\n",
    "# print(ber_monthly.BER-ber_ir_train.BER)\n",
    "ber_ir_train['IR_ber'] = ((ber_ir_train.BER.values/100+1)**(1/12)-1)*100\n",
    "ber_ir_test['IR_ber'] = ((ber_ir_test.BER.values/100+1)**(1/12)-1)*100\n",
    "print(\"The inflation rate from BER for the month of February in 2013 was %0.9f\" % ber_ir_train[ber_ir_train.YearMonth == '2013-02']['IR_ber'] + \" %\")"
   ]
  },
  {
   "cell_type": "markdown",
   "metadata": {},
   "source": [
    "We can now overlay these estimates and plot them together"
   ]
  },
  {
   "cell_type": "code",
   "execution_count": 88,
   "metadata": {},
   "outputs": [
    {
     "data": {
      "text/html": [
       "\n",
       "\n",
       "\n",
       "\n",
       "\n",
       "\n",
       "  <div class=\"bk-root\" id=\"0685a648-c004-4730-a8d5-2affedb8fc82\" data-root-id=\"17731\"></div>\n"
      ]
     },
     "metadata": {},
     "output_type": "display_data"
    },
    {
     "data": {
      "application/javascript": "(function(root) {\n  function embed_document(root) {\n    \n  var docs_json = {\"8df3d616-f6c9-4660-982f-1582741712d0\":{\"defs\":[],\"roots\":{\"references\":[{\"attributes\":{\"below\":[{\"id\":\"17742\"}],\"center\":[{\"id\":\"17745\"},{\"id\":\"17749\"},{\"id\":\"17779\"}],\"height\":300,\"left\":[{\"id\":\"17746\"}],\"renderers\":[{\"id\":\"17767\"},{\"id\":\"17784\"},{\"id\":\"17802\"}],\"title\":{\"id\":\"17732\"},\"toolbar\":{\"id\":\"17757\"},\"width\":800,\"x_range\":{\"id\":\"17734\"},\"x_scale\":{\"id\":\"17738\"},\"y_range\":{\"id\":\"17736\"},\"y_scale\":{\"id\":\"17740\"}},\"id\":\"17731\",\"subtype\":\"Figure\",\"type\":\"Plot\"},{\"attributes\":{\"line_width\":2.5,\"x\":{\"field\":\"x\"},\"y\":{\"field\":\"y\"}},\"id\":\"17765\",\"type\":\"Line\"},{\"attributes\":{\"formatter\":{\"id\":\"17775\"},\"major_label_policy\":{\"id\":\"17773\"},\"ticker\":{\"id\":\"17747\"}},\"id\":\"17746\",\"type\":\"LinearAxis\"},{\"attributes\":{},\"id\":\"17815\",\"type\":\"Selection\"},{\"attributes\":{\"line_alpha\":0.1,\"line_width\":2.5,\"x\":{\"field\":\"x\"},\"y\":{\"field\":\"y\"}},\"id\":\"17766\",\"type\":\"Line\"},{\"attributes\":{\"data\":{\"x\":[0,1,2,3,4,5,6,7,8,9,10,11,12,13,14,15,16,17,18,19,20,21,22,23,24,25,26,27,28,29,30,31,32,33,34,35,36,37,38,39,40,41,42,43,44,45,46,47,48,49,50,51,52,53,54,55,56,57,58,59,60,61],\"y\":{\"__ndarray__\":\"wMdPJdC5yT+AVyKTOFXHP+BN4LJQbMM/AK5CV+mKtj+AVsJ3/CerPwCpFQjU/5Q/gN25GmTDqT+ASqzkIrq3P0Drj97pkbc/gN0KC/LSvD8AC0sYwbDAPwCjX0YHq8M/gJbpgKlowj/gVPwS7S7DP4B12bOin8I/AF9qASEjxD+gdrUiQHnGP+C0Xk7bf8c/gEx/xHrjyD8AAjF1rPzHP6Cb1Zzubsc/QNA5tAjCyD9gZo00w1LGP0C8Ez56lsQ/wNIdj8m7wj9AsteDA8DBP+DAWkkLZsI/gDzrQB9MxT9gY8vy5SfGP0DFn94Fucc/wFuXFtygyD/gBJAaBK7IP6DqUkBT2ck/gH5I7tVRyz8gvZBM4DfJP0DFn94Fucc/II9FI9EbyT/ADyyNmOXGP4A4ZWw8EcQ/IP5xErfIxD8g94oTFETFPwBtamVwPcU/4KV8I5zrxT+AgE6anHbHP4CJfN/2bMg/QJtbAiDuxz/gaM5cQafGP2ALErsqbcY/oOi6BXl8xj9gIJg1wubHP4C4i12ds8k/gHAPE7BPyj/go2wVZZnJP2CRXS/uHso/wLd1XfSbyj+A9Y00wu/KPyBGch0bz8o/IF4JTvVwyT+AJvtRTRrIP2DKK6HtpcU/YNQr/Jlrxj9AVRHZWxLHPw==\",\"dtype\":\"float64\",\"order\":\"little\",\"shape\":[62]}},\"selected\":{\"id\":\"17815\"},\"selection_policy\":{\"id\":\"17816\"}},\"id\":\"17799\",\"type\":\"ColumnDataSource\"},{\"attributes\":{},\"id\":\"17734\",\"type\":\"DataRange1d\"},{\"attributes\":{\"label\":{\"value\":\"CPI\"},\"renderers\":[{\"id\":\"17767\"}]},\"id\":\"17780\",\"type\":\"LegendItem\"},{\"attributes\":{\"source\":{\"id\":\"17781\"}},\"id\":\"17785\",\"type\":\"CDSView\"},{\"attributes\":{},\"id\":\"17777\",\"type\":\"UnionRenderers\"},{\"attributes\":{},\"id\":\"17770\",\"type\":\"AllLabels\"},{\"attributes\":{},\"id\":\"17795\",\"type\":\"Selection\"},{\"attributes\":{\"axis\":{\"id\":\"17746\"},\"dimension\":1,\"ticker\":null},\"id\":\"17749\",\"type\":\"Grid\"},{\"attributes\":{\"items\":[{\"id\":\"17780\"},{\"id\":\"17798\"},{\"id\":\"17818\"}],\"location\":\"bottom_right\"},\"id\":\"17779\",\"type\":\"Legend\"},{\"attributes\":{\"data_source\":{\"id\":\"17781\"},\"glyph\":{\"id\":\"17782\"},\"hover_glyph\":null,\"muted_glyph\":null,\"nonselection_glyph\":{\"id\":\"17783\"},\"view\":{\"id\":\"17785\"}},\"id\":\"17784\",\"type\":\"GlyphRenderer\"},{\"attributes\":{\"active_multi\":null,\"tools\":[{\"id\":\"17750\"},{\"id\":\"17751\"},{\"id\":\"17752\"},{\"id\":\"17753\"},{\"id\":\"17754\"},{\"id\":\"17755\"}]},\"id\":\"17757\",\"type\":\"Toolbar\"},{\"attributes\":{},\"id\":\"17736\",\"type\":\"DataRange1d\"},{\"attributes\":{\"line_alpha\":0.1,\"line_color\":\"green\",\"line_width\":2.5,\"x\":{\"field\":\"x\"},\"y\":{\"field\":\"y\"}},\"id\":\"17783\",\"type\":\"Line\"},{\"attributes\":{},\"id\":\"17743\",\"type\":\"BasicTicker\"},{\"attributes\":{\"text\":\"Inflation Rates\"},\"id\":\"17732\",\"type\":\"Title\"},{\"attributes\":{},\"id\":\"17750\",\"type\":\"PanTool\"},{\"attributes\":{\"overlay\":{\"id\":\"17756\"}},\"id\":\"17752\",\"type\":\"BoxZoomTool\"},{\"attributes\":{\"line_color\":\"red\",\"line_width\":2.5,\"x\":{\"field\":\"x\"},\"y\":{\"field\":\"y\"}},\"id\":\"17800\",\"type\":\"Line\"},{\"attributes\":{\"line_alpha\":0.1,\"line_color\":\"red\",\"line_width\":2.5,\"x\":{\"field\":\"x\"},\"y\":{\"field\":\"y\"}},\"id\":\"17801\",\"type\":\"Line\"},{\"attributes\":{},\"id\":\"17751\",\"type\":\"WheelZoomTool\"},{\"attributes\":{},\"id\":\"17773\",\"type\":\"AllLabels\"},{\"attributes\":{},\"id\":\"17747\",\"type\":\"BasicTicker\"},{\"attributes\":{},\"id\":\"17753\",\"type\":\"SaveTool\"},{\"attributes\":{},\"id\":\"17796\",\"type\":\"UnionRenderers\"},{\"attributes\":{\"bottom_units\":\"screen\",\"fill_alpha\":0.5,\"fill_color\":\"lightgrey\",\"left_units\":\"screen\",\"level\":\"overlay\",\"line_alpha\":1.0,\"line_color\":\"black\",\"line_dash\":[4,4],\"line_width\":2,\"right_units\":\"screen\",\"syncable\":false,\"top_units\":\"screen\"},\"id\":\"17756\",\"type\":\"BoxAnnotation\"},{\"attributes\":{},\"id\":\"17776\",\"type\":\"Selection\"},{\"attributes\":{\"axis\":{\"id\":\"17742\"},\"ticker\":null},\"id\":\"17745\",\"type\":\"Grid\"},{\"attributes\":{},\"id\":\"17816\",\"type\":\"UnionRenderers\"},{\"attributes\":{},\"id\":\"17740\",\"type\":\"LinearScale\"},{\"attributes\":{\"data_source\":{\"id\":\"17799\"},\"glyph\":{\"id\":\"17800\"},\"hover_glyph\":null,\"muted_glyph\":null,\"nonselection_glyph\":{\"id\":\"17801\"},\"view\":{\"id\":\"17803\"}},\"id\":\"17802\",\"type\":\"GlyphRenderer\"},{\"attributes\":{},\"id\":\"17772\",\"type\":\"BasicTickFormatter\"},{\"attributes\":{\"line_color\":\"green\",\"line_width\":2.5,\"x\":{\"field\":\"x\"},\"y\":{\"field\":\"y\"}},\"id\":\"17782\",\"type\":\"Line\"},{\"attributes\":{},\"id\":\"17738\",\"type\":\"LinearScale\"},{\"attributes\":{\"label\":{\"value\":\"PriceStats (Avg)\"},\"renderers\":[{\"id\":\"17784\"}]},\"id\":\"17798\",\"type\":\"LegendItem\"},{\"attributes\":{},\"id\":\"17754\",\"type\":\"ResetTool\"},{\"attributes\":{\"source\":{\"id\":\"17764\"}},\"id\":\"17768\",\"type\":\"CDSView\"},{\"attributes\":{\"data\":{\"x\":[0,1,2,3,4,5,6,7,8,9,10,11,12,13,14,15,16,17,18,19,20,21,22,23,24,25,26,27,28,29,30,31,32,33,34,35,36,37,38,39,40,41,42,43,44,45,46,47,48,49,50,51,52,53,54,55,56,57,58,59,60,61],\"y\":{\"__ndarray__\":\"AAAAAAAA+H9wbZ/50tTIvzCH9WcdPaY/WYAdDuFZ6L+lVB/YVOv8v5fekuwOj/C/D5pzBFf30j9UIhK0kGvlP3Cjlx/zpcs/I0ZzlEn90D8ZPLBTR17YP+o0Xkd4NdI/+Oeyp6wO1T9x8IAT4b3AP6Jzlex7Q6o/N6FNJq/Bqj9HqhK5DkXSP76UV5QWj8K/G7DzMZM23j8jTeHQc6C5v1uEgAF8z+M/eQGEKmH43z+r4udCJfnZP+707ZGZp9e/EJQFM+pS1z/WYuVQSwi8P48DFNPrPq0/Fv/kNyB93D/z94BKzQXWP0WMECM5+sY/0kun5a7D0D9TLJUzMS7QP/PVBS+todU/s0eTRxzj5j+x3Rjde/vdP+6BIqnwGti/abwk6KLMuz/Q0DE11jC7P1VqTCZq/ck/781/uuSszL/DjWCsb16cP4VCU3uXxtG/VTkoyu8b1z9A7ufQAjHjP1PwZrv9Uu0/2e8VJRu52D+6eeaK/g3Rv5lW8xiJYNi/EDd6uqNPur/AlOtsCxbqP9cxD5vsi+E/KBMqSdX9oT/endTQijzbv19EK5egJ9K/LKkXbknmtj/baI1R65LwP9xy6AgFBNQ/kd774CIIur9u9ndRUoPEP+FvEL/0ZLQ/9784pMeVqT8zf6bkJHS9Pw==\",\"dtype\":\"float64\",\"order\":\"little\",\"shape\":[62]}},\"selected\":{\"id\":\"17795\"},\"selection_policy\":{\"id\":\"17796\"}},\"id\":\"17781\",\"type\":\"ColumnDataSource\"},{\"attributes\":{\"data_source\":{\"id\":\"17764\"},\"glyph\":{\"id\":\"17765\"},\"hover_glyph\":null,\"muted_glyph\":null,\"nonselection_glyph\":{\"id\":\"17766\"},\"view\":{\"id\":\"17768\"}},\"id\":\"17767\",\"type\":\"GlyphRenderer\"},{\"attributes\":{\"source\":{\"id\":\"17799\"}},\"id\":\"17803\",\"type\":\"CDSView\"},{\"attributes\":{\"label\":{\"value\":\"BER (Avg)\"},\"renderers\":[{\"id\":\"17802\"}]},\"id\":\"17818\",\"type\":\"LegendItem\"},{\"attributes\":{\"data\":{\"x\":[0,1,2,3,4,5,6,7,8,9,10,11,12,13,14,15,16,17,18,19,20,21,22,23,24,25,26,27,28,29,30,31,32,33,34,35,36,37,38,39,40,41,42,43,44,45,46,47,48,49,50,51,52,53,54,55,56,57,58,59,60,61],\"y\":{\"__ndarray__\":\"AAAAAAAA+H+AJeSDns3gP2qi5gOOjNm/DchGZCOywb/LOlMhhinwv/Ff0QkBpf6/SWkQDUKM8L80TvGZ+drbPwFLVGxb098/Bqj8VYAgzz/jU1MhE/TPP2l3CCcDfdI/bpg+yNJ86z8SABdHxUvEv+vlS8WOtcw/ajGFUmsDsD/b6jCo8qe4P6ZJZemHHbI/9M0E/8WKxr/t8sQgK9/VP8bdbRxAhZk/oL/L1ctH2j91Nn3MdzvGP1wSvz1m17M/vubAnI7+uL8dbqr4BKGVPys+inYwrME/tWqcQ/LIrT8al7qIzeC/P40EdvjiiKU/6g269XgAxj+Rh7Ui0nvePwzq/Wljj98/yYMNfucz7z/LTM8d6prkP49Fau+4HN4/SNdyTPVqu78MH+07sq62PxRZzH3JpdE/UbcVaV1vwz8cZa6dpmfKv3Lm6+oZmbW/0jxIZveRz79vmXFsJSncP++8gjXxLdw/DBRUfLxN6D+D/7eYj1XTP9h9Rj8EC76/USSStrvEwr+ViVfu1dvEv4bkn7IZz+E/41CqPtWO3D/OKeo5UPKjv3AmpQcyU96/6+tQcqA70b/N+dvdH+3SPyGX8e0mNeo/zY6vZ4+70D93PUVcpZ26v9R+WyADysY/dY/2rWG4zj88+vt4ADOkPw==\",\"dtype\":\"float64\",\"order\":\"little\",\"shape\":[62]}},\"selected\":{\"id\":\"17776\"},\"selection_policy\":{\"id\":\"17777\"}},\"id\":\"17764\",\"type\":\"ColumnDataSource\"},{\"attributes\":{},\"id\":\"17755\",\"type\":\"HelpTool\"},{\"attributes\":{},\"id\":\"17775\",\"type\":\"BasicTickFormatter\"},{\"attributes\":{\"formatter\":{\"id\":\"17772\"},\"major_label_policy\":{\"id\":\"17770\"},\"ticker\":{\"id\":\"17743\"}},\"id\":\"17742\",\"type\":\"LinearAxis\"}],\"root_ids\":[\"17731\"]},\"title\":\"Bokeh Application\",\"version\":\"2.3.1\"}};\n  var render_items = [{\"docid\":\"8df3d616-f6c9-4660-982f-1582741712d0\",\"root_ids\":[\"17731\"],\"roots\":{\"17731\":\"0685a648-c004-4730-a8d5-2affedb8fc82\"}}];\n  root.Bokeh.embed.embed_items_notebook(docs_json, render_items);\n\n  }\n  if (root.Bokeh !== undefined) {\n    embed_document(root);\n  } else {\n    var attempts = 0;\n    var timer = setInterval(function(root) {\n      if (root.Bokeh !== undefined) {\n        clearInterval(timer);\n        embed_document(root);\n      } else {\n        attempts++;\n        if (attempts > 100) {\n          clearInterval(timer);\n          console.log(\"Bokeh: ERROR: Unable to run BokehJS code because BokehJS library is missing\");\n        }\n      }\n    }, 10, root)\n  }\n})(window);",
      "application/vnd.bokehjs_exec.v0+json": ""
     },
     "metadata": {
      "application/vnd.bokehjs_exec.v0+json": {
       "id": "17731"
      }
     },
     "output_type": "display_data"
    }
   ],
   "source": [
    "p = figure(plot_width=800, plot_height=300, title = \"Inflation Rates\")\n",
    "p.line(cpi_train.index[0:],cpi_ir_train.IR_cpi,line_width =2.5, line_color=\"black\", legend_label =\"CPI\")\n",
    "p.line(ps_ir_train.index[0:],ps_ir_train.IR_ps,line_width =2.5, line_color=\"green\", legend_label =\"PriceStats (Avg)\")\n",
    "p.line(ber_ir_train.index[0:],ber_ir_train.IR_ber,line_color=\"red\",line_width=2.5,legend_label =\"BER (Avg)\")\n",
    "p.legend.location ='bottom_right'\n",
    "show(p)"
   ]
  },
  {
   "cell_type": "markdown",
   "metadata": {},
   "source": [
    "In the next part, we incorporate PriceStats and BER data as external regressors , i.e. exogenous variables to help better our predictions. In order to identify the lag between the external regressor and the CPI timeseries, we plot the cross correlation plots between PriceStats and CPI and BER and CPI respectively."
   ]
  },
  {
   "cell_type": "code",
   "execution_count": 136,
   "metadata": {},
   "outputs": [
    {
     "data": {
      "image/png": "[encoded data removed]",
      "text/plain": [
       "<Figure size 432x288 with 1 Axes>"
      ]
     },
     "metadata": {
      "needs_background": "light"
     },
     "output_type": "display_data"
    },
    {
     "data": {
      "image/png": "[encoded data removed]",
      "text/plain": [
       "<Figure size 432x288 with 1 Axes>"
      ]
     },
     "metadata": {
      "needs_background": "light"
     },
     "output_type": "display_data"
    }
   ],
   "source": [
    "from statsmodels.tsa.stattools import ccf\n",
    "plt.xcorr(ps_ir_train.IR_ps[1:],cpi_ir_train.IR_cpi[1:])\n",
    "plt.title('Crosscorrelation between CPI and PS Inflation Rates')\n",
    "plt.show()\n",
    "\n",
    "# print(ccf(ber_ir_train.IR_ber,cpi_ir_train.IR_cpi))\n",
    "plt.show()\n",
    "plt.xcorr(ber_ir_train.IR_ber[1:],cpi_ir_train.IR_cpi[1:], maxlags = 25)\n",
    "plt.title('Crosscorrelation between CPI and BER Inflation Rates')\n",
    "plt.show()"
   ]
  },
  {
   "cell_type": "markdown",
   "metadata": {},
   "source": [
    "We see that for PriceStats and CPI a lag of (-1) shows the highest correlation. This is also an intuitive observation we can make from the visualization where we overlaid estimates. Hence we shift the PriceStats regressor back by 1 before fitting the model. For BER and CPI, the CCF plot is not as clear but we see that the peak correlation occurs at a lag of 0 and another peak at a lag of (-6). While multiple lag terms can be incorporated, we begin by including the BER at the same time instant as a regressor."
   ]
  },
  {
   "cell_type": "code",
   "execution_count": 429,
   "metadata": {},
   "outputs": [],
   "source": [
    "exogenous = ber_ir_train.copy().drop(['BER'],axis=1)\n",
    "exogenous.loc[2:,'IR_ps']=ps_ir_train.drop([0]).IR_ps # shift IR_PS forward by 1 month to account for the -1 lag\n",
    "exogenous =exogenous.drop(['YearMonth'],axis=1).drop([0,1]).values # exogenous start at index 2, i.e. 2008-09\n",
    "\n",
    "endogenous = cpi_ir_train.IR_cpi.iloc[2:].reset_index().drop(['index'],axis =1)# drop first 2 rows to match with start of exogenous\n",
    "model_external = sm.tsa.statespace.SARIMAX(endogenous, exogenous, order=(2,0,0), coerce_errors =True).fit(disp=False) #AR(2)\n",
    "coef = model_external.params\n",
    "# print(model_external.summary())\n",
    "training_predictions3 = model_external.predict(start =2, end = len(endogenous.index) - 1, exog = exogenous)# training prediction start 2008-11\n",
    "\n"
   ]
  },
  {
   "cell_type": "code",
   "execution_count": 448,
   "metadata": {},
   "outputs": [
    {
     "name": "stdout",
     "output_type": "stream",
     "text": [
      "The rmse of this final fit is 0.30142239022680856\n",
      "The mape of this final fit is 423.47341858944026\n"
     ]
    }
   ],
   "source": [
    "k= 2\n",
    "coef = model_external.params\n",
    "past = endogenous.IR_cpi[len(endogenous.IR_cpi)-k:].values\n",
    "past = [past[i] for i in range(k)]\n",
    "test_predictions3 = list()\n",
    "\n",
    "#prediction of the first time step\n",
    "past_ps = ps_ir_train.IR_ps.values[-1] # since lag was 1 between ir_cpi and ir_ps\n",
    "pred = coef['ar.L2']*past[0] + coef['ar.L1']*past[1] + coef['x2'] * ps_ir_train.IR_ps.values[-1] + coef['x1'] * ber_ir_test.IR_ber.iloc[0] \n",
    "test_predictions3.append(pred)\n",
    "obs = cpi_ir_test.IR_cpi.values[0]\n",
    "past.append(obs)\n",
    "\n",
    "for t in range(1,len(cpi_ir_test.IR_cpi)):\n",
    "    length = len(past)\n",
    "    lag = [past[i] for i in range(length-2,length)]\n",
    "    pred = coef['ar.L2']*lag[0] + coef['ar.L1']*lag[1] + coef['x2'] * ps_ir_test.IR_ps.iloc[t-1] + coef['x1'] * ber_ir_test.IR_ber.iloc[t] \n",
    "    test_predictions3.append(pred)\n",
    "    obs = cpi_ir_test.IR_cpi.values[t]\n",
    "    past.append(obs)\n",
    "print(\"The rmse of this final fit is \" + str(mean_squared_error(cpi_ir_test.IR_cpi.values[:-2], test_predictions3[:-2])**0.5))\n",
    "print(\"The mape of this final fit is \" + str(mean_absolute_percentage_error(cpi_ir_test.IR_cpi.values[:-2],test_predictions3[:-2])))\n",
    "\n"
   ]
  },
  {
   "cell_type": "code",
   "execution_count": 425,
   "metadata": {},
   "outputs": [
    {
     "data": {
      "text/html": [
       "\n",
       "\n",
       "\n",
       "\n",
       "\n",
       "\n",
       "  <div class=\"bk-root\" id=\"9136d969-cf7f-4f07-864d-beadde6c7d37\" data-root-id=\"36667\"></div>\n"
      ]
     },
     "metadata": {},
     "output_type": "display_data"
    },
    {
     "data": {
      "application/javascript": "(function(root) {\n  function embed_document(root) {\n    \n  var docs_json = {\"6f77a900-fd84-4897-a4fa-007a56686f01\":{\"defs\":[],\"roots\":{\"references\":[{\"attributes\":{\"below\":[{\"id\":\"36678\"}],\"center\":[{\"id\":\"36681\"},{\"id\":\"36685\"},{\"id\":\"36715\"}],\"height\":300,\"left\":[{\"id\":\"36682\"}],\"renderers\":[{\"id\":\"36703\"},{\"id\":\"36720\"},{\"id\":\"36738\"},{\"id\":\"36758\"}],\"title\":{\"id\":\"36668\"},\"toolbar\":{\"id\":\"36693\"},\"width\":800,\"x_range\":{\"id\":\"36670\"},\"x_scale\":{\"id\":\"36674\"},\"y_range\":{\"id\":\"36672\"},\"y_scale\":{\"id\":\"36676\"}},\"id\":\"36667\",\"subtype\":\"Figure\",\"type\":\"Plot\"},{\"attributes\":{},\"id\":\"36773\",\"type\":\"Selection\"},{\"attributes\":{\"source\":{\"id\":\"36755\"}},\"id\":\"36759\",\"type\":\"CDSView\"},{\"attributes\":{},\"id\":\"36670\",\"type\":\"DataRange1d\"},{\"attributes\":{\"line_alpha\":0.1,\"line_color\":\"orange\",\"line_width\":2.5,\"x\":{\"field\":\"x\"},\"y\":{\"field\":\"y\"}},\"id\":\"36757\",\"type\":\"Line\"},{\"attributes\":{\"data\":{\"x\":[62,63,64,65,66,67,68,69,70,71,72,73,74,75,76,77,78,79,80,81,82,83,84,85,86,87,88,89,90,91,92,93,94,95,96,97,98,99,100,101,102,103,104,105,106,107,108,109,110,111,112,113,114,115,116,117,118,119,120,121,122,123,124,125,126,127,128,129,130,131,132,133,134,135,136],\"y\":{\"__ndarray__\":\"/kV3bFzKvj+2hVW5f8W9P0zgs4a4e9C/TtfdG9kkyr/r2pIIPH+Bv2yf6iLdztc/mCUwMnuq1z+r3ec6uZvkP8dzp6FFGdU/bPbCS0Na1j8PDKfwMtfHP+thAtsl+qO/XOTlL0Zixb9MTR+BxkOzP3NceuFCFNC/X5A8U1RH4b/gpMX/siTiv/7A12I9Ht6/iP1KErDK2z8iEIAkHgzjPyhHF4FtBso/ZX00NERP4D+tl8dOTGvWPxQlWjfBans/J5GyZs0hwr9viuPSr+vDv5+dmhAfBqe/PXH1vL4Dy7+AeGFRld/Vv6SuKgoyKcU/Dfa2UR8RtT8pJywX447bP1V6No5aWN4/nrPoDuHk2T/Nc/Q+bAXVP6W4/XFOuMS/yBdC7BuDtz8F0pjBM8XOP8vgmHQe7b8/gsv+hefnw7+ZgNZc18GgP4yaNlkBpuI/oC5GvM4h1D8Kdy9Zfs+0P86Bgfp9+tI/A8WA36fgtT9STalfcju3P5w8Lkx5p7G/Jz32cdgo0z+0vJJBhfHgPwTCayu+KLC/INac0QmfYz/KF8ewyByuv1JDhqwUb+E/aAKNafsF3T9yVQEDZvHMP3gVj8oNcNk/yKLJFPOd2j9GuqbS9GfEP+MB9MkYY3s/Mr6X+cRzrD+m2c0YRr+9P5Cl1u90n8Y/KtD8QMhv1b8ET1lkHnHUv7diYvJZZ8g/Wvv7lc8M2z9gp6QqdQ3iP1z2nA4m8uA/5gleKy4/yz+zzfGI32KUP3opTvNdY8U/8Gtcr6D1dL8AAAAAAAD4fwAAAAAAAPh/\",\"dtype\":\"float64\",\"order\":\"little\",\"shape\":[75]}},\"selected\":{\"id\":\"36751\"},\"selection_policy\":{\"id\":\"36752\"}},\"id\":\"36735\",\"type\":\"ColumnDataSource\"},{\"attributes\":{},\"id\":\"36711\",\"type\":\"BasicTickFormatter\"},{\"attributes\":{\"active_multi\":null,\"tools\":[{\"id\":\"36686\"},{\"id\":\"36687\"},{\"id\":\"36688\"},{\"id\":\"36689\"},{\"id\":\"36690\"},{\"id\":\"36691\"}]},\"id\":\"36693\",\"type\":\"Toolbar\"},{\"attributes\":{},\"id\":\"36752\",\"type\":\"UnionRenderers\"},{\"attributes\":{\"line_alpha\":0.1,\"line_color\":\"green\",\"line_dash\":[6],\"line_width\":2.5,\"x\":{\"field\":\"x\"},\"y\":{\"field\":\"y\"}},\"id\":\"36702\",\"type\":\"Line\"},{\"attributes\":{\"line_alpha\":0.1,\"line_width\":2.5,\"x\":{\"field\":\"x\"},\"y\":{\"field\":\"y\"}},\"id\":\"36737\",\"type\":\"Line\"},{\"attributes\":{},\"id\":\"36691\",\"type\":\"HelpTool\"},{\"attributes\":{\"line_width\":2.5,\"x\":{\"field\":\"x\"},\"y\":{\"field\":\"y\"}},\"id\":\"36736\",\"type\":\"Line\"},{\"attributes\":{\"text\":\"Inflation Rates\"},\"id\":\"36668\",\"type\":\"Title\"},{\"attributes\":{},\"id\":\"36706\",\"type\":\"AllLabels\"},{\"attributes\":{\"axis\":{\"id\":\"36682\"},\"dimension\":1,\"ticker\":null},\"id\":\"36685\",\"type\":\"Grid\"},{\"attributes\":{},\"id\":\"36713\",\"type\":\"UnionRenderers\"},{\"attributes\":{\"bottom_units\":\"screen\",\"fill_alpha\":0.5,\"fill_color\":\"lightgrey\",\"left_units\":\"screen\",\"level\":\"overlay\",\"line_alpha\":1.0,\"line_color\":\"black\",\"line_dash\":[4,4],\"line_width\":2,\"right_units\":\"screen\",\"syncable\":false,\"top_units\":\"screen\"},\"id\":\"36692\",\"type\":\"BoxAnnotation\"},{\"attributes\":{\"data_source\":{\"id\":\"36700\"},\"glyph\":{\"id\":\"36701\"},\"hover_glyph\":null,\"muted_glyph\":null,\"nonselection_glyph\":{\"id\":\"36702\"},\"view\":{\"id\":\"36704\"}},\"id\":\"36703\",\"type\":\"GlyphRenderer\"},{\"attributes\":{},\"id\":\"36676\",\"type\":\"LinearScale\"},{\"attributes\":{\"label\":{\"value\":\"Final  Model Predictions\"},\"renderers\":[{\"id\":\"36758\"}]},\"id\":\"36776\",\"type\":\"LegendItem\"},{\"attributes\":{\"source\":{\"id\":\"36700\"}},\"id\":\"36704\",\"type\":\"CDSView\"},{\"attributes\":{\"data\":{\"x\":[4,5,6,7,8,9,10,11,12,13,14,15,16,17,18,19,20,21,22,23,24,25,26,27,28,29,30,31,32,33,34,35,36,37,38,39,40,41,42,43,44,45,46,47,48,49,50,51,52,53,54,55,56,57,58,59,60,61],\"y\":{\"__ndarray__\":\"nbn7qOSW17/EmcDnJ2Pgv2xQwRsxQeG/8Oy4Zawmn7+cm9eNSKTXP2RX7BwEANI/5gUL6mQaxj9lIYMTlerHP7pcZ0l6H8w/DPHGIgp02j/XZfJ/qOe+v+vfCyGBiMo/dk3Hx53Gwj91w6dmVuymP+DLWezoftA/4SKJU71JuL9iRWGsOuTcP/w5h7Im/Lo/dFGV5miz1D8oVqdq9sajv5pWe3eXKs0/RPbVC3iElb8k2Rfqf+e6P6laPsN9DtA/Q+8QM9hrvz8N62yfd83DP/gq5kEp4sI/Y3/2N31UyT/ZifeIODHWP2RRNVKu4dk/ro3amUe/3z/djQh7afO4Py9JcTRd6dI/ePxXzQVPpL8HtE5oG2PFP6hlKieh3ro/BtPvv082wj9K4nFXdxPAv8Rg5Hq6b8k/UPTD/RGQtz+1CSLBiwzgP5qZWreGec0/Jvh8kz8p0T/1ReSsjOunPwhUi57zjIW/9FEQi7UE0D9UXc/Qt+e1P+2XCLijjNU/Ha0/JLObuz+ktItADDuNvwi0SRMTJrK/kurYBnXy0j9DLu/SKRDNP2Worq4ba9g/L4LekVOjwj9wLdrBlxCLv3v+a53Xlsc/nv3KOKkWyD8=\",\"dtype\":\"float64\",\"order\":\"little\",\"shape\":[58]}},\"selected\":{\"id\":\"36731\"},\"selection_policy\":{\"id\":\"36732\"}},\"id\":\"36717\",\"type\":\"ColumnDataSource\"},{\"attributes\":{},\"id\":\"36683\",\"type\":\"BasicTicker\"},{\"attributes\":{},\"id\":\"36731\",\"type\":\"Selection\"},{\"attributes\":{\"source\":{\"id\":\"36735\"}},\"id\":\"36739\",\"type\":\"CDSView\"},{\"attributes\":{\"line_color\":\"green\",\"line_dash\":[6],\"line_width\":2.5,\"x\":{\"field\":\"x\"},\"y\":{\"field\":\"y\"}},\"id\":\"36701\",\"type\":\"Line\"},{\"attributes\":{\"items\":[{\"id\":\"36716\"},{\"id\":\"36734\"},{\"id\":\"36754\"},{\"id\":\"36776\"}],\"location\":\"bottom_right\"},\"id\":\"36715\",\"type\":\"Legend\"},{\"attributes\":{},\"id\":\"36709\",\"type\":\"AllLabels\"},{\"attributes\":{\"source\":{\"id\":\"36717\"}},\"id\":\"36721\",\"type\":\"CDSView\"},{\"attributes\":{},\"id\":\"36712\",\"type\":\"Selection\"},{\"attributes\":{\"data\":{\"x\":[2,3,4,5,6,7,8,9,10,11,12,13,14,15,16,17,18,19,20,21,22,23,24,25,26,27,28,29,30,31,32,33,34,35,36,37,38,39,40,41,42,43,44,45,46,47,48,49,50,51,52,53,54,55,56,57,58,59,60,61],\"y\":{\"__ndarray__\":\"aqLmA46M2b8NyEZkI7LBv8s6UyGGKfC/8V/RCQGl/r9JaRANQozwvzRO8Zn52ts/AUtUbFvT3z8GqPxVgCDPP+NTUyET9M8/aXcIJwN90j9umD7I0nzrPxIAF0fFS8S/6+VLxY61zD9qMYVSawOwP9vqMKjyp7g/pkll6Ycdsj/0zQT/xYrGv+3yxCAr39U/xt1tHECFmT+gv8vVy0faP3U2fcx3O8Y/XBK/PWbXsz++5sCcjv64vx1uqvgEoZU/Kz6KdjCswT+1apxD8sitPxqXuojN4L8/jQR2+OKIpT/qDbr1eADGP5GHtSLSe94/DOr9aWOP3z/Jgw1+5zPvP8tMzx3qmuQ/j0Vq77gc3j9I13JM9Wq7vwwf7TuyrrY/FFnMfcml0T9RtxVpXW/DPxxlrp2mZ8q/cubr6hmZtb/SPEhm95HPv2+ZcWwlKdw/77yCNfEt3D8MFFR8vE3oP4P/t5iPVdM/2H1GPwQLvr9RJJK2u8TCv5WJV+7V28S/huSfshnP4T/jUKo+1Y7cP84p6jlQ8qO/cCalBzJT3r/r61ByoDvRv835290f7dI/IZfx7SY16j/Njq9nj7vQP3c9RVylnbq/1H5bIAPKxj91j/atYbjOPzz6+3gAM6Q/\",\"dtype\":\"float64\",\"order\":\"little\",\"shape\":[60]}},\"selected\":{\"id\":\"36712\"},\"selection_policy\":{\"id\":\"36713\"}},\"id\":\"36700\",\"type\":\"ColumnDataSource\"},{\"attributes\":{\"data_source\":{\"id\":\"36735\"},\"glyph\":{\"id\":\"36736\"},\"hover_glyph\":null,\"muted_glyph\":null,\"nonselection_glyph\":{\"id\":\"36737\"},\"view\":{\"id\":\"36739\"}},\"id\":\"36738\",\"type\":\"GlyphRenderer\"},{\"attributes\":{\"line_color\":\"red\",\"line_width\":2.5,\"x\":{\"field\":\"x\"},\"y\":{\"field\":\"y\"}},\"id\":\"36718\",\"type\":\"Line\"},{\"attributes\":{},\"id\":\"36687\",\"type\":\"WheelZoomTool\"},{\"attributes\":{\"data_source\":{\"id\":\"36717\"},\"glyph\":{\"id\":\"36718\"},\"hover_glyph\":null,\"muted_glyph\":null,\"nonselection_glyph\":{\"id\":\"36719\"},\"view\":{\"id\":\"36721\"}},\"id\":\"36720\",\"type\":\"GlyphRenderer\"},{\"attributes\":{\"line_color\":\"orange\",\"line_width\":2.5,\"x\":{\"field\":\"x\"},\"y\":{\"field\":\"y\"}},\"id\":\"36756\",\"type\":\"Line\"},{\"attributes\":{\"label\":{\"value\":\"Final Model (Training Data Fit)\"},\"renderers\":[{\"id\":\"36720\"}]},\"id\":\"36734\",\"type\":\"LegendItem\"},{\"attributes\":{},\"id\":\"36690\",\"type\":\"ResetTool\"},{\"attributes\":{\"line_alpha\":0.1,\"line_color\":\"red\",\"line_width\":2.5,\"x\":{\"field\":\"x\"},\"y\":{\"field\":\"y\"}},\"id\":\"36719\",\"type\":\"Line\"},{\"attributes\":{},\"id\":\"36751\",\"type\":\"Selection\"},{\"attributes\":{\"overlay\":{\"id\":\"36692\"}},\"id\":\"36688\",\"type\":\"BoxZoomTool\"},{\"attributes\":{},\"id\":\"36708\",\"type\":\"BasicTickFormatter\"},{\"attributes\":{\"data_source\":{\"id\":\"36755\"},\"glyph\":{\"id\":\"36756\"},\"hover_glyph\":null,\"muted_glyph\":null,\"nonselection_glyph\":{\"id\":\"36757\"},\"view\":{\"id\":\"36759\"}},\"id\":\"36758\",\"type\":\"GlyphRenderer\"},{\"attributes\":{},\"id\":\"36774\",\"type\":\"UnionRenderers\"},{\"attributes\":{},\"id\":\"36674\",\"type\":\"LinearScale\"},{\"attributes\":{\"formatter\":{\"id\":\"36711\"},\"major_label_policy\":{\"id\":\"36709\"},\"ticker\":{\"id\":\"36683\"}},\"id\":\"36682\",\"type\":\"LinearAxis\"},{\"attributes\":{},\"id\":\"36732\",\"type\":\"UnionRenderers\"},{\"attributes\":{\"formatter\":{\"id\":\"36708\"},\"major_label_policy\":{\"id\":\"36706\"},\"ticker\":{\"id\":\"36679\"}},\"id\":\"36678\",\"type\":\"LinearAxis\"},{\"attributes\":{\"label\":{\"value\":\"CPI\"},\"renderers\":[{\"id\":\"36738\"}]},\"id\":\"36754\",\"type\":\"LegendItem\"},{\"attributes\":{},\"id\":\"36686\",\"type\":\"PanTool\"},{\"attributes\":{},\"id\":\"36689\",\"type\":\"SaveTool\"},{\"attributes\":{\"data\":{\"x\":[62,63,64,65,66,67,68,69,70,71,72,73,74,75,76,77,78,79,80,81,82,83,84,85,86,87,88,89,90,91,92,93,94,95,96,97,98,99,100,101,102,103,104,105,106,107,108,109,110,111,112,113,114,115,116,117,118,119,120,121,122,123,124,125,126,127,128,129,130,131,132,133,134,135],\"y\":[0.124649566954314,0.18442069795811125,0.10456790743919608,-0.03012565119636465,0.0796249895279261,0.1931407109202577,0.32259862195367117,0.28972832693341644,0.42061804679103654,0.2297473947379911,0.2602863009960169,0.1641710954033242,0.07573431561483228,0.05256348062438954,0.13076396404438412,-0.08147890232866183,-0.2399336256002458,-0.25790117315478644,0.030550002300829493,0.49283625034491274,0.3403508641021353,0.23411401997470827,0.36063150098418045,0.18992525158107576,0.02888494240261512,-0.03857139299143819,0.04320525630704572,0.04795051343045405,-0.04598268311585338,-0.10287905863432646,0.12777792517653674,0.20619114093165566,0.3949597737530312,0.3491410561010009,0.27236167693331004,0.1550106031624768,-0.03518963723094165,0.19843188799255862,0.23744781184588756,0.11519916166773086,0.06317699925064335,0.24882944087771233,0.3798143467995793,0.20768251394175366,0.14316641141574585,0.23770147623293214,0.1024824412853205,0.13133418615332518,0.12805049699637833,0.40772838286054236,0.32890666131776375,0.05390394048342243,0.12029311047544702,0.1569202380484126,0.418948756703541,0.26159406724409057,0.2531664891822888,0.36474073778911775,0.2928972952774651,0.1543922978825606,0.11949961334112846,0.17390000799044134,0.2156864601352706,0.1286419657374439,-0.16179261599606648,-0.019189931235189334,0.2974861212153454,0.40190661987886417,0.42227841690813245,0.3119174415328879,0.09639371327121071,0.08381154665972536,0.15087978738096508,0.08098081588933458]},\"selected\":{\"id\":\"36773\"},\"selection_policy\":{\"id\":\"36774\"}},\"id\":\"36755\",\"type\":\"ColumnDataSource\"},{\"attributes\":{\"label\":{\"value\":\"Training Data\"},\"renderers\":[{\"id\":\"36703\"}]},\"id\":\"36716\",\"type\":\"LegendItem\"},{\"attributes\":{\"axis\":{\"id\":\"36678\"},\"ticker\":null},\"id\":\"36681\",\"type\":\"Grid\"},{\"attributes\":{},\"id\":\"36679\",\"type\":\"BasicTicker\"},{\"attributes\":{},\"id\":\"36672\",\"type\":\"DataRange1d\"}],\"root_ids\":[\"36667\"]},\"title\":\"Bokeh Application\",\"version\":\"2.3.1\"}};\n  var render_items = [{\"docid\":\"6f77a900-fd84-4897-a4fa-007a56686f01\",\"root_ids\":[\"36667\"],\"roots\":{\"36667\":\"9136d969-cf7f-4f07-864d-beadde6c7d37\"}}];\n  root.Bokeh.embed.embed_items_notebook(docs_json, render_items);\n\n  }\n  if (root.Bokeh !== undefined) {\n    embed_document(root);\n  } else {\n    var attempts = 0;\n    var timer = setInterval(function(root) {\n      if (root.Bokeh !== undefined) {\n        clearInterval(timer);\n        embed_document(root);\n      } else {\n        attempts++;\n        if (attempts > 100) {\n          clearInterval(timer);\n          console.log(\"Bokeh: ERROR: Unable to run BokehJS code because BokehJS library is missing\");\n        }\n      }\n    }, 10, root)\n  }\n})(window);",
      "application/vnd.bokehjs_exec.v0+json": ""
     },
     "metadata": {
      "application/vnd.bokehjs_exec.v0+json": {
       "id": "36667"
      }
     },
     "output_type": "display_data"
    }
   ],
   "source": [
    "p = figure(plot_width=800, plot_height=300, title = \"Inflation Rates\")\n",
    "p.line(endogenous.index+2,endogenous.IR_cpi,line_width =2.5, line_color=\"green\", line_dash=\"dashed\", legend_label =\"Training Data\")\n",
    "p.line(training_predictions3.index+2,training_predictions3,line_color=\"red\",line_width=2.5,legend_label =\"Final Model (Training Data Fit)\")\n",
    "p.line(cpi_ir_test.index,cpi_ir_test.IR_cpi,line_width =2.5, line_color=\"black\", legend_label =\"CPI\")\n",
    "p.line(cpi_ir_test.index[:-1],test_predictions3[:-1],line_color=\"orange\",line_width=2.5,legend_label =\"Final  Model Predictions\")\n",
    "p.legend.location ='bottom_right'\n",
    "show(p)"
   ]
  },
  {
   "cell_type": "markdown",
   "metadata": {},
   "source": [
    "We see that the model predictions are very good, and match the original values"
   ]
  },
  {
   "cell_type": "markdown",
   "metadata": {},
   "source": [
    "Lastly, we try to better the model predictions. One way to do this would be to incorporate Moving Average terms into the model. We start by including an MA(1) term to get an ARMA(1,1) model. We then make predictions as shown above."
   ]
  },
  {
   "cell_type": "code",
   "execution_count": 441,
   "metadata": {},
   "outputs": [
    {
     "name": "stdout",
     "output_type": "stream",
     "text": [
      "                               SARIMAX Results                                \n",
      "==============================================================================\n",
      "Dep. Variable:                 IR_cpi   No. Observations:                   60\n",
      "Model:               SARIMAX(2, 0, 1)   Log Likelihood                 -22.402\n",
      "Date:                Thu, 20 May 2021   AIC                             56.804\n",
      "Time:                        23:34:37   BIC                             69.370\n",
      "Sample:                             0   HQIC                            61.720\n",
      "                                 - 60                                         \n",
      "Covariance Type:                  opg                                         \n",
      "==============================================================================\n",
      "                 coef    std err          z      P>|z|      [0.025      0.975]\n",
      "------------------------------------------------------------------------------\n",
      "x1             0.5942      0.181      3.274      0.001       0.238       0.950\n",
      "x2             0.2751      0.124      2.219      0.026       0.032       0.518\n",
      "ar.L1          1.3247      0.103     12.877      0.000       1.123       1.526\n",
      "ar.L2         -0.4453      0.115     -3.870      0.000      -0.671      -0.220\n",
      "ma.L1         -0.9999     36.317     -0.028      0.978     -72.181      70.181\n",
      "sigma2         0.1190      4.306      0.028      0.978      -8.321       8.559\n",
      "===================================================================================\n",
      "Ljung-Box (L1) (Q):                   0.01   Jarque-Bera (JB):                21.57\n",
      "Prob(Q):                              0.92   Prob(JB):                         0.00\n",
      "Heteroskedasticity (H):               0.39   Skew:                            -0.81\n",
      "Prob(H) (two-sided):                  0.04   Kurtosis:                         5.45\n",
      "===================================================================================\n",
      "\n",
      "Warnings:\n",
      "[1] Covariance matrix calculated using the outer product of gradients (complex-step).\n"
     ]
    },
    {
     "name": "stderr",
     "output_type": "stream",
     "text": [
      "/anaconda3/lib/python3.7/site-packages/statsmodels/base/model.py:568: ConvergenceWarning: Maximum Likelihood optimization failed to converge. Check mle_retvals\n",
      "  ConvergenceWarning)\n"
     ]
    }
   ],
   "source": [
    "exogenous = ber_ir_train.copy().drop(['BER'],axis=1)\n",
    "exogenous.loc[2:,'IR_ps']=ps_ir_train.drop([0]).IR_ps # shift IR_PS forward by 1 month to account for the -1 lag\n",
    "exogenous =exogenous.drop(['YearMonth'],axis=1).drop([0,1]).values # exogenous start at index 2, i.e. 2008-09\n",
    "\n",
    "endogenous = cpi_ir_train.IR_cpi.iloc[2:].reset_index().drop(['index'],axis =1)# drop first 2 rows to match with start of exogenous\n",
    "model_external = sm.tsa.statespace.SARIMAX(endogenous, exogenous, order=(2,0,1), coerce_errors =True).fit(disp=False) #AR(2)\n",
    "coef = model_external.params\n",
    "print(model_external.summary())\n",
    "training_predictions4 = model_external.predict(start =2, end = len(endogenous.index) - 1, exog = exogenous)# training prediction start 2008-11\n",
    "\n",
    "\n",
    "\n"
   ]
  },
  {
   "cell_type": "code",
   "execution_count": 450,
   "metadata": {},
   "outputs": [
    {
     "name": "stdout",
     "output_type": "stream",
     "text": [
      "0.04279660694563211\n",
      "The rmse of this final fit is 0.21569785859495494\n",
      "The mape of this final fit is 208.8671220252448\n"
     ]
    }
   ],
   "source": [
    "k= 2\n",
    "coef = model_external.params\n",
    "past = endogenous.IR_cpi[len(endogenous.IR_cpi)-k:].values\n",
    "past = [past[i] for i in range(k)]\n",
    "test_predictions4 = list()\n",
    "\n",
    "#prediction of the first time step\n",
    "past_ps = ps_ir_train.IR_ps.values[-1] # since lag was 1 between ir_cpi and ir_ps\n",
    "pred = coef['ar.L2']*past[0] + coef['ar.L1']*past[1] +  coef['ma.L1'] * past[1]+coef['x2'] * ps_ir_train.IR_ps.values[-1] + coef['x1'] * ber_ir_test.IR_ber.iloc[0] \n",
    "test_predictions4.append(pred)\n",
    "print(pred)\n",
    "obs = cpi_ir_test.IR_cpi.values[0]\n",
    "past.append(obs)\n",
    "\n",
    "for t in range(1,len(cpi_ir_test.IR_cpi)):\n",
    "    length = len(past)\n",
    "    lag = [past[i] for i in range(length-2,length)]\n",
    "    pred = coef['ar.L2']*lag[0] + coef['ar.L1']*lag[1] +  coef['ma.L1'] * lag[1]+coef['x2'] * ps_ir_test.IR_ps.iloc[t-1] + coef['x1'] * ber_ir_test.IR_ber.iloc[t] \n",
    "    test_predictions4.append(pred)\n",
    "    obs = cpi_ir_test.IR_cpi.values[t]\n",
    "    past.append(obs)\n",
    "print(\"The rmse of this final fit is \" + str(mean_squared_error(cpi_ir_test.IR_cpi.values[:-2], test_predictions4[:-2])**0.5))\n",
    "print(\"The mape of this final fit is \" + str(mean_absolute_percentage_error(cpi_ir_test.IR_cpi.values[:-2], test_predictions4[:-2])))\n"
   ]
  },
  {
   "cell_type": "markdown",
   "metadata": {},
   "source": [
    "We see that even though the $\\text{RMSE}$ has increased, the percentage error $\\text{MAPE}$ has halved.  The decrease of $\\text{MAPE}$ means that "
   ]
  },
  {
   "cell_type": "code",
   "execution_count": 444,
   "metadata": {},
   "outputs": [
    {
     "data": {
      "text/html": [
       "\n",
       "\n",
       "\n",
       "\n",
       "\n",
       "\n",
       "  <div class=\"bk-root\" id=\"24280346-bbed-4b01-93c3-8c1fe2afc5f9\" data-root-id=\"37727\"></div>\n"
      ]
     },
     "metadata": {},
     "output_type": "display_data"
    },
    {
     "data": {
      "application/javascript": "(function(root) {\n  function embed_document(root) {\n    \n  var docs_json = {\"c1b98ea8-2d1f-40c3-ad3d-2ee2f83b959c\":{\"defs\":[],\"roots\":{\"references\":[{\"attributes\":{\"below\":[{\"id\":\"37738\"}],\"center\":[{\"id\":\"37741\"},{\"id\":\"37745\"},{\"id\":\"37775\"}],\"height\":300,\"left\":[{\"id\":\"37742\"}],\"renderers\":[{\"id\":\"37763\"},{\"id\":\"37780\"},{\"id\":\"37798\"},{\"id\":\"37818\"}],\"title\":{\"id\":\"37728\"},\"toolbar\":{\"id\":\"37753\"},\"width\":800,\"x_range\":{\"id\":\"37730\"},\"x_scale\":{\"id\":\"37734\"},\"y_range\":{\"id\":\"37732\"},\"y_scale\":{\"id\":\"37736\"}},\"id\":\"37727\",\"subtype\":\"Figure\",\"type\":\"Plot\"},{\"attributes\":{\"overlay\":{\"id\":\"37752\"}},\"id\":\"37748\",\"type\":\"BoxZoomTool\"},{\"attributes\":{\"line_width\":2.5,\"x\":{\"field\":\"x\"},\"y\":{\"field\":\"y\"}},\"id\":\"37796\",\"type\":\"Line\"},{\"attributes\":{\"active_multi\":null,\"tools\":[{\"id\":\"37746\"},{\"id\":\"37747\"},{\"id\":\"37748\"},{\"id\":\"37749\"},{\"id\":\"37750\"},{\"id\":\"37751\"}]},\"id\":\"37753\",\"type\":\"Toolbar\"},{\"attributes\":{\"line_color\":\"green\",\"line_dash\":[6],\"line_width\":2.5,\"x\":{\"field\":\"x\"},\"y\":{\"field\":\"y\"}},\"id\":\"37761\",\"type\":\"Line\"},{\"attributes\":{\"line_alpha\":0.1,\"line_color\":\"green\",\"line_dash\":[6],\"line_width\":2.5,\"x\":{\"field\":\"x\"},\"y\":{\"field\":\"y\"}},\"id\":\"37762\",\"type\":\"Line\"},{\"attributes\":{\"source\":{\"id\":\"37815\"}},\"id\":\"37819\",\"type\":\"CDSView\"},{\"attributes\":{},\"id\":\"37792\",\"type\":\"UnionRenderers\"},{\"attributes\":{\"data_source\":{\"id\":\"37760\"},\"glyph\":{\"id\":\"37761\"},\"hover_glyph\":null,\"muted_glyph\":null,\"nonselection_glyph\":{\"id\":\"37762\"},\"view\":{\"id\":\"37764\"}},\"id\":\"37763\",\"type\":\"GlyphRenderer\"},{\"attributes\":{\"text\":\"Inflation Rates\"},\"id\":\"37728\",\"type\":\"Title\"},{\"attributes\":{\"label\":{\"value\":\"Training Data\"},\"renderers\":[{\"id\":\"37763\"}]},\"id\":\"37776\",\"type\":\"LegendItem\"},{\"attributes\":{},\"id\":\"37749\",\"type\":\"SaveTool\"},{\"attributes\":{\"label\":{\"value\":\"Final  Model Predictions\"},\"renderers\":[{\"id\":\"37818\"}]},\"id\":\"37836\",\"type\":\"LegendItem\"},{\"attributes\":{\"bottom_units\":\"screen\",\"fill_alpha\":0.5,\"fill_color\":\"lightgrey\",\"left_units\":\"screen\",\"level\":\"overlay\",\"line_alpha\":1.0,\"line_color\":\"black\",\"line_dash\":[4,4],\"line_width\":2,\"right_units\":\"screen\",\"syncable\":false,\"top_units\":\"screen\"},\"id\":\"37752\",\"type\":\"BoxAnnotation\"},{\"attributes\":{\"data_source\":{\"id\":\"37795\"},\"glyph\":{\"id\":\"37796\"},\"hover_glyph\":null,\"muted_glyph\":null,\"nonselection_glyph\":{\"id\":\"37797\"},\"view\":{\"id\":\"37799\"}},\"id\":\"37798\",\"type\":\"GlyphRenderer\"},{\"attributes\":{},\"id\":\"37743\",\"type\":\"BasicTicker\"},{\"attributes\":{\"label\":{\"value\":\"CPI\"},\"renderers\":[{\"id\":\"37798\"}]},\"id\":\"37814\",\"type\":\"LegendItem\"},{\"attributes\":{\"label\":{\"value\":\"Final Model (Training Data Fit)\"},\"renderers\":[{\"id\":\"37780\"}]},\"id\":\"37794\",\"type\":\"LegendItem\"},{\"attributes\":{},\"id\":\"37771\",\"type\":\"BasicTickFormatter\"},{\"attributes\":{\"source\":{\"id\":\"37760\"}},\"id\":\"37764\",\"type\":\"CDSView\"},{\"attributes\":{},\"id\":\"37834\",\"type\":\"UnionRenderers\"},{\"attributes\":{\"axis\":{\"id\":\"37742\"},\"dimension\":1,\"ticker\":null},\"id\":\"37745\",\"type\":\"Grid\"},{\"attributes\":{\"axis\":{\"id\":\"37738\"},\"ticker\":null},\"id\":\"37741\",\"type\":\"Grid\"},{\"attributes\":{\"data_source\":{\"id\":\"37777\"},\"glyph\":{\"id\":\"37778\"},\"hover_glyph\":null,\"muted_glyph\":null,\"nonselection_glyph\":{\"id\":\"37779\"},\"view\":{\"id\":\"37781\"}},\"id\":\"37780\",\"type\":\"GlyphRenderer\"},{\"attributes\":{},\"id\":\"37811\",\"type\":\"Selection\"},{\"attributes\":{},\"id\":\"37791\",\"type\":\"Selection\"},{\"attributes\":{\"data\":{\"x\":[4,5,6,7,8,9,10,11,12,13,14,15,16,17,18,19,20,21,22,23,24,25,26,27,28,29,30,31,32,33,34,35,36,37,38,39,40,41,42,43,44,45,46,47,48,49,50,51,52,53,54,55,56,57,58,59,60,61],\"y\":{\"__ndarray__\":\"Nd7JT04m2r+/dJWVBxPdv8EYBD0Xy96/uGfdfN1Ror+0W7S9Qo3cPx+0NI6wZeA/5QApdBSq2T8f/9cqEsDWP0S7cwnfe9c/qjsVEm9U4D+Q/o8yCO2sP861NN3/e84/n0R7+bsizj8CXN4MbZ27P5PAbgtclNQ/gPS3sHXZZT9Yx7rZDN7ePwwggNJN5c4/kxZW3uP91z8O+uXOoAmwPwftZnp6VdM/T0bBTAC6tT8v0YcPPpbFP/x7+jJ6zNU/Fq37glObzj986LlcNZfPPyp2wD3aytA/ynjM6X2J0z9Sn5g9+yfcP6oAU6t4aOA/C8OSuw8S4T/4zQGRxGPBPwBR7PcLddA/oGDSxXwvqr8BwRXHfCywP/59uu+VKJA/Qn1+L25esj9ijOSHWADGv5NXn7EWCL0/VF00LGO5tD8t21+L+rXbPzDempkZIM4/HprYbRzwyT8/vbmBVcWSP7XTNajOzLC/yCtfIwP3xT8AFvgoRHejP6dhbDgfnsw/tU2iQhJrsj/dYTjIoVqlv0q1FQqnALi/S7UaKVKi0D/WyYMEANnKP78PuLLfPdY/GAqRCTctyT+g7GRk29hhv+W/tVdknMA/I6G1jS1oxT8=\",\"dtype\":\"float64\",\"order\":\"little\",\"shape\":[58]}},\"selected\":{\"id\":\"37791\"},\"selection_policy\":{\"id\":\"37792\"}},\"id\":\"37777\",\"type\":\"ColumnDataSource\"},{\"attributes\":{\"line_color\":\"orange\",\"line_width\":2.5,\"x\":{\"field\":\"x\"},\"y\":{\"field\":\"y\"}},\"id\":\"37816\",\"type\":\"Line\"},{\"attributes\":{},\"id\":\"37772\",\"type\":\"Selection\"},{\"attributes\":{},\"id\":\"37768\",\"type\":\"BasicTickFormatter\"},{\"attributes\":{\"formatter\":{\"id\":\"37771\"},\"major_label_policy\":{\"id\":\"37769\"},\"ticker\":{\"id\":\"37743\"}},\"id\":\"37742\",\"type\":\"LinearAxis\"},{\"attributes\":{\"source\":{\"id\":\"37795\"}},\"id\":\"37799\",\"type\":\"CDSView\"},{\"attributes\":{},\"id\":\"37746\",\"type\":\"PanTool\"},{\"attributes\":{},\"id\":\"37739\",\"type\":\"BasicTicker\"},{\"attributes\":{},\"id\":\"37736\",\"type\":\"LinearScale\"},{\"attributes\":{},\"id\":\"37769\",\"type\":\"AllLabels\"},{\"attributes\":{},\"id\":\"37812\",\"type\":\"UnionRenderers\"},{\"attributes\":{\"data\":{\"x\":[62,63,64,65,66,67,68,69,70,71,72,73,74,75,76,77,78,79,80,81,82,83,84,85,86,87,88,89,90,91,92,93,94,95,96,97,98,99,100,101,102,103,104,105,106,107,108,109,110,111,112,113,114,115,116,117,118,119,120,121,122,123,124,125,126,127,128,129,130,131,132,133,134,135,136],\"y\":{\"__ndarray__\":\"/kV3bFzKvj+2hVW5f8W9P0zgs4a4e9C/TtfdG9kkyr/r2pIIPH+Bv2yf6iLdztc/mCUwMnuq1z+r3ec6uZvkP8dzp6FFGdU/bPbCS0Na1j8PDKfwMtfHP+thAtsl+qO/XOTlL0Zixb9MTR+BxkOzP3NceuFCFNC/X5A8U1RH4b/gpMX/siTiv/7A12I9Ht6/iP1KErDK2z8iEIAkHgzjPyhHF4FtBso/ZX00NERP4D+tl8dOTGvWPxQlWjfBans/J5GyZs0hwr9viuPSr+vDv5+dmhAfBqe/PXH1vL4Dy7+AeGFRld/Vv6SuKgoyKcU/Dfa2UR8RtT8pJywX447bP1V6No5aWN4/nrPoDuHk2T/Nc/Q+bAXVP6W4/XFOuMS/yBdC7BuDtz8F0pjBM8XOP8vgmHQe7b8/gsv+hefnw7+ZgNZc18GgP4yaNlkBpuI/oC5GvM4h1D8Kdy9Zfs+0P86Bgfp9+tI/A8WA36fgtT9STalfcju3P5w8Lkx5p7G/Jz32cdgo0z+0vJJBhfHgPwTCayu+KLC/INac0QmfYz/KF8ewyByuv1JDhqwUb+E/aAKNafsF3T9yVQEDZvHMP3gVj8oNcNk/yKLJFPOd2j9GuqbS9GfEP+MB9MkYY3s/Mr6X+cRzrD+m2c0YRr+9P5Cl1u90n8Y/KtD8QMhv1b8ET1lkHnHUv7diYvJZZ8g/Wvv7lc8M2z9gp6QqdQ3iP1z2nA4m8uA/5gleKy4/yz+zzfGI32KUP3opTvNdY8U/8Gtcr6D1dL8AAAAAAAD4fwAAAAAAAPh/\",\"dtype\":\"float64\",\"order\":\"little\",\"shape\":[75]}},\"selected\":{\"id\":\"37811\"},\"selection_policy\":{\"id\":\"37812\"}},\"id\":\"37795\",\"type\":\"ColumnDataSource\"},{\"attributes\":{\"line_alpha\":0.1,\"line_color\":\"red\",\"line_width\":2.5,\"x\":{\"field\":\"x\"},\"y\":{\"field\":\"y\"}},\"id\":\"37779\",\"type\":\"Line\"},{\"attributes\":{\"line_alpha\":0.1,\"line_color\":\"orange\",\"line_width\":2.5,\"x\":{\"field\":\"x\"},\"y\":{\"field\":\"y\"}},\"id\":\"37817\",\"type\":\"Line\"},{\"attributes\":{\"data\":{\"x\":[62,63,64,65,66,67,68,69,70,71,72,73,74,75,76,77,78,79,80,81,82,83,84,85,86,87,88,89,90,91,92,93,94,95,96,97,98,99,100,101,102,103,104,105,106,107,108,109,110,111,112,113,114,115,116,117,118,119,120,121,122,123,124,125,126,127,128,129,130,131,132,133,134,135],\"y\":[0.04279660694563211,0.1529128231706206,0.04681163010306331,-0.04166876963348537,0.17499683292942403,0.2512160074278314,0.2768379378651866,0.1308753612769749,0.23048981114313005,-0.006509047262888923,0.1150522091275861,0.031685856777665666,0.018735401888860942,0.07900070720554606,0.16561969971918677,-0.0814472743922537,-0.1105466434908872,-0.041006193275257466,0.25324283737976294,0.5829115523278471,0.1362957318466503,0.031118834330590067,0.23710423588476684,-0.00800109819382358,-0.08168550000917095,-0.030421255594021798,0.09971659094037537,0.09419319828800785,-0.013195559856661251,-0.005223681274073272,0.20354376560763057,0.1463067796679965,0.3201278921925542,0.16467308006698883,0.08148305265107282,-0.009641712977732461,-0.11911669426008735,0.23315392474753507,0.17819312304877713,0.022461536589880593,0.03976423408386931,0.2898023453254619,0.29664082220755467,-0.007761370091238937,0.03593935613370286,0.17449452392927298,-0.0012232849115971223,0.09021456960345717,0.10637904350605099,0.3942521387854674,0.17302590687067917,-0.1010092938774601,0.13308434105644185,0.15972217626210414,0.3688764452576091,0.039678560170870125,0.0882689078574594,0.2482493674237211,0.12071087773768605,0.005967314123482836,0.06570394650203482,0.1606964920164217,0.18205960109283797,0.06662825292000338,-0.18398200717247598,0.11237934927195167,0.3679576622717811,0.2947887153391586,0.22912002517326954,0.07810981574956413,-0.09321720678828634,0.013757305258031927,0.12051152315231924,0.027790359200871743]},\"selected\":{\"id\":\"37833\"},\"selection_policy\":{\"id\":\"37834\"}},\"id\":\"37815\",\"type\":\"ColumnDataSource\"},{\"attributes\":{\"items\":[{\"id\":\"37776\"},{\"id\":\"37794\"},{\"id\":\"37814\"},{\"id\":\"37836\"}],\"location\":\"bottom_right\"},\"id\":\"37775\",\"type\":\"Legend\"},{\"attributes\":{},\"id\":\"37730\",\"type\":\"DataRange1d\"},{\"attributes\":{},\"id\":\"37750\",\"type\":\"ResetTool\"},{\"attributes\":{},\"id\":\"37734\",\"type\":\"LinearScale\"},{\"attributes\":{},\"id\":\"37766\",\"type\":\"AllLabels\"},{\"attributes\":{\"source\":{\"id\":\"37777\"}},\"id\":\"37781\",\"type\":\"CDSView\"},{\"attributes\":{},\"id\":\"37732\",\"type\":\"DataRange1d\"},{\"attributes\":{\"formatter\":{\"id\":\"37768\"},\"major_label_policy\":{\"id\":\"37766\"},\"ticker\":{\"id\":\"37739\"}},\"id\":\"37738\",\"type\":\"LinearAxis\"},{\"attributes\":{\"data_source\":{\"id\":\"37815\"},\"glyph\":{\"id\":\"37816\"},\"hover_glyph\":null,\"muted_glyph\":null,\"nonselection_glyph\":{\"id\":\"37817\"},\"view\":{\"id\":\"37819\"}},\"id\":\"37818\",\"type\":\"GlyphRenderer\"},{\"attributes\":{\"line_color\":\"red\",\"line_width\":2.5,\"x\":{\"field\":\"x\"},\"y\":{\"field\":\"y\"}},\"id\":\"37778\",\"type\":\"Line\"},{\"attributes\":{},\"id\":\"37747\",\"type\":\"WheelZoomTool\"},{\"attributes\":{},\"id\":\"37751\",\"type\":\"HelpTool\"},{\"attributes\":{\"line_alpha\":0.1,\"line_width\":2.5,\"x\":{\"field\":\"x\"},\"y\":{\"field\":\"y\"}},\"id\":\"37797\",\"type\":\"Line\"},{\"attributes\":{},\"id\":\"37833\",\"type\":\"Selection\"},{\"attributes\":{},\"id\":\"37773\",\"type\":\"UnionRenderers\"},{\"attributes\":{\"data\":{\"x\":[2,3,4,5,6,7,8,9,10,11,12,13,14,15,16,17,18,19,20,21,22,23,24,25,26,27,28,29,30,31,32,33,34,35,36,37,38,39,40,41,42,43,44,45,46,47,48,49,50,51,52,53,54,55,56,57,58,59,60,61],\"y\":{\"__ndarray__\":\"aqLmA46M2b8NyEZkI7LBv8s6UyGGKfC/8V/RCQGl/r9JaRANQozwvzRO8Zn52ts/AUtUbFvT3z8GqPxVgCDPP+NTUyET9M8/aXcIJwN90j9umD7I0nzrPxIAF0fFS8S/6+VLxY61zD9qMYVSawOwP9vqMKjyp7g/pkll6Ycdsj/0zQT/xYrGv+3yxCAr39U/xt1tHECFmT+gv8vVy0faP3U2fcx3O8Y/XBK/PWbXsz++5sCcjv64vx1uqvgEoZU/Kz6KdjCswT+1apxD8sitPxqXuojN4L8/jQR2+OKIpT/qDbr1eADGP5GHtSLSe94/DOr9aWOP3z/Jgw1+5zPvP8tMzx3qmuQ/j0Vq77gc3j9I13JM9Wq7vwwf7TuyrrY/FFnMfcml0T9RtxVpXW/DPxxlrp2mZ8q/cubr6hmZtb/SPEhm95HPv2+ZcWwlKdw/77yCNfEt3D8MFFR8vE3oP4P/t5iPVdM/2H1GPwQLvr9RJJK2u8TCv5WJV+7V28S/huSfshnP4T/jUKo+1Y7cP84p6jlQ8qO/cCalBzJT3r/r61ByoDvRv835290f7dI/IZfx7SY16j/Njq9nj7vQP3c9RVylnbq/1H5bIAPKxj91j/atYbjOPzz6+3gAM6Q/\",\"dtype\":\"float64\",\"order\":\"little\",\"shape\":[60]}},\"selected\":{\"id\":\"37772\"},\"selection_policy\":{\"id\":\"37773\"}},\"id\":\"37760\",\"type\":\"ColumnDataSource\"}],\"root_ids\":[\"37727\"]},\"title\":\"Bokeh Application\",\"version\":\"2.3.1\"}};\n  var render_items = [{\"docid\":\"c1b98ea8-2d1f-40c3-ad3d-2ee2f83b959c\",\"root_ids\":[\"37727\"],\"roots\":{\"37727\":\"24280346-bbed-4b01-93c3-8c1fe2afc5f9\"}}];\n  root.Bokeh.embed.embed_items_notebook(docs_json, render_items);\n\n  }\n  if (root.Bokeh !== undefined) {\n    embed_document(root);\n  } else {\n    var attempts = 0;\n    var timer = setInterval(function(root) {\n      if (root.Bokeh !== undefined) {\n        clearInterval(timer);\n        embed_document(root);\n      } else {\n        attempts++;\n        if (attempts > 100) {\n          clearInterval(timer);\n          console.log(\"Bokeh: ERROR: Unable to run BokehJS code because BokehJS library is missing\");\n        }\n      }\n    }, 10, root)\n  }\n})(window);",
      "application/vnd.bokehjs_exec.v0+json": ""
     },
     "metadata": {
      "application/vnd.bokehjs_exec.v0+json": {
       "id": "37727"
      }
     },
     "output_type": "display_data"
    }
   ],
   "source": [
    "p = figure(plot_width=800, plot_height=300, title = \"Inflation Rates\")\n",
    "p.line(endogenous.index+2,endogenous.IR_cpi,line_width =2.5, line_color=\"green\", line_dash=\"dashed\", legend_label =\"Training Data\")\n",
    "p.line(training_predictions3.index+2,training_predictions3,line_color=\"red\",line_width=2.5,legend_label =\"Final Model (Training Data Fit)\")\n",
    "p.line(cpi_ir_test.index,cpi_ir_test.IR_cpi,line_width =2.5, line_color=\"black\", legend_label =\"CPI\")\n",
    "p.line(cpi_ir_test.index[:-1],test_predictions4[:-1],line_color=\"orange\",line_width=2.5,legend_label =\"Final  Model Predictions\")\n",
    "p.legend.location ='bottom_right'\n",
    "show(p)"
   ]
  }
 ],
 "metadata": {
  "kernelspec": {
   "display_name": "Python (Thomson)",
   "language": "python",
   "name": "thomsonreuterstest-zy_qqdq4"
  },
  "language_info": {
   "codemirror_mode": {
    "name": "ipython",
    "version": 3
   },
   "file_extension": ".py",
   "mimetype": "text/x-python",
   "name": "python",
   "nbconvert_exporter": "python",
   "pygments_lexer": "ipython3",
   "version": "3.10.9"
  }
 },
 "nbformat": 4,
 "nbformat_minor": 4
}
